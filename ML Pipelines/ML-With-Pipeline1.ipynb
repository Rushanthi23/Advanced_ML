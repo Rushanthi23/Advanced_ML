{
 "cells": [
  {
   "cell_type": "markdown",
   "metadata": {
    "id": "Z_fGl8o4J2FR"
   },
   "source": [
    "## **Loan Eligibility Prediction Model Using Pipelines**"
   ]
  },
  {
   "cell_type": "markdown",
   "metadata": {},
   "source": [
    "### Project Scope:\n",
    "\n",
    "Loans form an integral part of banking operations. However, not all loans are returned and hence it is important for a bank to closely moniter its loan applications. This case study is an analysis of the German Credit data. It contains details of 614 loan applicants with 13 attributes and the classification whether an applicant was granted loan or denied loan.\n",
    "\n",
    "**Your role:** Using the available dataset, train a classification model to predict whether an applicant should be given loan.\n",
    "\n",
    "**Goal:** Build a model to predict loan eligiblity with an average acuracy of more than 76%\n",
    "\n",
    "**Specifics:** \n",
    "\n",
    "* Machine Learning task: Classification model \n",
    "* Target variable: Loan_Status \n",
    "* Input variables: Refer to data dictionary below\n",
    "* Success Criteria: Accuracy of 76% and above\n"
   ]
  },
  {
   "cell_type": "markdown",
   "metadata": {},
   "source": [
    "## Data Dictionary:\n",
    "\n",
    "* **Loan_ID:** Applicant ID\n",
    "* **Gender:** Gender of the applicant Male/Female\n",
    "* **Married:** Marital status of the applicant\n",
    "* **Dependents:** Number of dependants the applicant has\n",
    "* **Education:** Highest level of education\n",
    "* **Self_Employed:** Whether self-employed Yes/No\n",
    "* **ApplicantIncome:** Income of the applicant\n",
    "* **CoapplicantIncome:** Income of the co-applicant\n",
    "* **LoanAmount:** Loan amount requested\n",
    "* **Loan_Amount_Term:** Term of the loan\n",
    "* **Credit_History:** Whether applicant has a credit history\n",
    "* **Property_Area:** Current property location\n",
    "* **Loan_Status:** Loan approved yes/no"
   ]
  },
  {
   "cell_type": "code",
   "execution_count": 1,
   "metadata": {},
   "outputs": [],
   "source": [
    "from IPython.display import Image\n",
    "#Image(filename='.jpg')"
   ]
  },
  {
   "cell_type": "markdown",
   "metadata": {
    "id": "RYOHc68YujYE"
   },
   "source": [
    "## **Data Analysis and Data Prep**"
   ]
  },
  {
   "cell_type": "markdown",
   "metadata": {
    "id": "lc_kizYoJ2FS"
   },
   "source": [
    "### Loading all the necessary packages"
   ]
  },
  {
   "cell_type": "code",
   "execution_count": 2,
   "metadata": {
    "id": "AkAmUuumJ2FU"
   },
   "outputs": [],
   "source": [
    "import pandas as pd\n",
    "import numpy as np\n",
    "import seaborn as sns\n",
    "import matplotlib.pyplot as plt\n",
    "%matplotlib inline\n",
    "\n",
    "from sklearn.model_selection import train_test_split\n",
    "from sklearn.compose import ColumnTransformer, make_column_transformer # use either one\n",
    "from sklearn.impute import SimpleImputer\n",
    "from sklearn.preprocessing import OneHotEncoder\n",
    "from sklearn.preprocessing import MinMaxScaler \n",
    "from sklearn.feature_selection import SelectKBest,chi2 # used for feature selection\n",
    "from sklearn.tree import DecisionTreeClassifier\n",
    "\n",
    "\n",
    "# for creating pipelines\n",
    "from sklearn.pipeline import Pipeline, make_pipeline #we'll see the difference between them\n",
    "\n",
    "# filter warnings\n",
    "import warnings\n",
    "warnings.filterwarnings('ignore')"
   ]
  },
  {
   "cell_type": "markdown",
   "metadata": {
    "id": "ZsJCxVwOJ2FU"
   },
   "source": [
    "### Reading the data"
   ]
  },
  {
   "cell_type": "code",
   "execution_count": 6,
   "metadata": {
    "colab": {
     "base_uri": "https://localhost:8080/",
     "height": 0
    },
    "id": "LPxkm7y6J2FW",
    "outputId": "de99afc2-de77-4a01-99da-b48d266d5a19"
   },
   "outputs": [
    {
     "data": {
      "text/html": [
       "<div>\n",
       "<style scoped>\n",
       "    .dataframe tbody tr th:only-of-type {\n",
       "        vertical-align: middle;\n",
       "    }\n",
       "\n",
       "    .dataframe tbody tr th {\n",
       "        vertical-align: top;\n",
       "    }\n",
       "\n",
       "    .dataframe thead th {\n",
       "        text-align: right;\n",
       "    }\n",
       "</style>\n",
       "<table border=\"1\" class=\"dataframe\">\n",
       "  <thead>\n",
       "    <tr style=\"text-align: right;\">\n",
       "      <th></th>\n",
       "      <th>Loan_ID</th>\n",
       "      <th>Gender</th>\n",
       "      <th>Married</th>\n",
       "      <th>Dependents</th>\n",
       "      <th>Education</th>\n",
       "      <th>Self_Employed</th>\n",
       "      <th>ApplicantIncome</th>\n",
       "      <th>CoapplicantIncome</th>\n",
       "      <th>LoanAmount</th>\n",
       "      <th>Loan_Amount_Term</th>\n",
       "      <th>Credit_History</th>\n",
       "      <th>Property_Area</th>\n",
       "      <th>Loan_Status</th>\n",
       "    </tr>\n",
       "  </thead>\n",
       "  <tbody>\n",
       "    <tr>\n",
       "      <th>0</th>\n",
       "      <td>LP001002</td>\n",
       "      <td>Male</td>\n",
       "      <td>No</td>\n",
       "      <td>0</td>\n",
       "      <td>Graduate</td>\n",
       "      <td>No</td>\n",
       "      <td>5849</td>\n",
       "      <td>0.0</td>\n",
       "      <td>NaN</td>\n",
       "      <td>360.0</td>\n",
       "      <td>1.0</td>\n",
       "      <td>Urban</td>\n",
       "      <td>Y</td>\n",
       "    </tr>\n",
       "    <tr>\n",
       "      <th>1</th>\n",
       "      <td>LP001003</td>\n",
       "      <td>Male</td>\n",
       "      <td>Yes</td>\n",
       "      <td>1</td>\n",
       "      <td>Graduate</td>\n",
       "      <td>No</td>\n",
       "      <td>4583</td>\n",
       "      <td>1508.0</td>\n",
       "      <td>128.0</td>\n",
       "      <td>360.0</td>\n",
       "      <td>1.0</td>\n",
       "      <td>Rural</td>\n",
       "      <td>N</td>\n",
       "    </tr>\n",
       "    <tr>\n",
       "      <th>2</th>\n",
       "      <td>LP001005</td>\n",
       "      <td>Male</td>\n",
       "      <td>Yes</td>\n",
       "      <td>0</td>\n",
       "      <td>Graduate</td>\n",
       "      <td>Yes</td>\n",
       "      <td>3000</td>\n",
       "      <td>0.0</td>\n",
       "      <td>66.0</td>\n",
       "      <td>360.0</td>\n",
       "      <td>1.0</td>\n",
       "      <td>Urban</td>\n",
       "      <td>Y</td>\n",
       "    </tr>\n",
       "    <tr>\n",
       "      <th>3</th>\n",
       "      <td>LP001006</td>\n",
       "      <td>Male</td>\n",
       "      <td>Yes</td>\n",
       "      <td>0</td>\n",
       "      <td>Not Graduate</td>\n",
       "      <td>No</td>\n",
       "      <td>2583</td>\n",
       "      <td>2358.0</td>\n",
       "      <td>120.0</td>\n",
       "      <td>360.0</td>\n",
       "      <td>1.0</td>\n",
       "      <td>Urban</td>\n",
       "      <td>Y</td>\n",
       "    </tr>\n",
       "    <tr>\n",
       "      <th>4</th>\n",
       "      <td>LP001008</td>\n",
       "      <td>Male</td>\n",
       "      <td>No</td>\n",
       "      <td>0</td>\n",
       "      <td>Graduate</td>\n",
       "      <td>No</td>\n",
       "      <td>6000</td>\n",
       "      <td>0.0</td>\n",
       "      <td>141.0</td>\n",
       "      <td>360.0</td>\n",
       "      <td>1.0</td>\n",
       "      <td>Urban</td>\n",
       "      <td>Y</td>\n",
       "    </tr>\n",
       "  </tbody>\n",
       "</table>\n",
       "</div>"
      ],
      "text/plain": [
       "    Loan_ID Gender Married Dependents     Education Self_Employed  \\\n",
       "0  LP001002   Male      No          0      Graduate            No   \n",
       "1  LP001003   Male     Yes          1      Graduate            No   \n",
       "2  LP001005   Male     Yes          0      Graduate           Yes   \n",
       "3  LP001006   Male     Yes          0  Not Graduate            No   \n",
       "4  LP001008   Male      No          0      Graduate            No   \n",
       "\n",
       "   ApplicantIncome  CoapplicantIncome  LoanAmount  Loan_Amount_Term  \\\n",
       "0             5849                0.0         NaN             360.0   \n",
       "1             4583             1508.0       128.0             360.0   \n",
       "2             3000                0.0        66.0             360.0   \n",
       "3             2583             2358.0       120.0             360.0   \n",
       "4             6000                0.0       141.0             360.0   \n",
       "\n",
       "   Credit_History Property_Area Loan_Status  \n",
       "0             1.0         Urban           Y  \n",
       "1             1.0         Rural           N  \n",
       "2             1.0         Urban           Y  \n",
       "3             1.0         Urban           Y  \n",
       "4             1.0         Urban           Y  "
      ]
     },
     "execution_count": 6,
     "metadata": {},
     "output_type": "execute_result"
    }
   ],
   "source": [
    "# Import the data from 'credit.csv'\n",
    "df = pd.read_csv('loan.csv')\n",
    "df.head(5)"
   ]
  },
  {
   "cell_type": "code",
   "execution_count": 7,
   "metadata": {},
   "outputs": [
    {
     "data": {
      "text/plain": [
       "(614, 13)"
      ]
     },
     "execution_count": 7,
     "metadata": {},
     "output_type": "execute_result"
    }
   ],
   "source": [
    "# check the number of rows and observations\n",
    "df.shape"
   ]
  },
  {
   "cell_type": "code",
   "execution_count": 8,
   "metadata": {
    "colab": {
     "base_uri": "https://localhost:8080/",
     "height": 0
    },
    "id": "MwgS6DwLJ2FX",
    "outputId": "73767cb5-aed4-4aac-de91-7689c18889ac"
   },
   "outputs": [
    {
     "data": {
      "image/png": "[encoded data removed]",
      "text/plain": [
       "<Figure size 640x480 with 1 Axes>"
      ]
     },
     "metadata": {},
     "output_type": "display_data"
    }
   ],
   "source": [
    "# How many application were approved and how many were denied?\n",
    "df['Loan_Status'].value_counts().plot.bar()\n",
    "plt.show()"
   ]
  },
  {
   "cell_type": "markdown",
   "metadata": {
    "id": "bd1ibbDJJ2FY"
   },
   "source": [
    "This is an imbalanced dataset. 422 people (around 69%) out of 614 were eligible for loan"
   ]
  },
  {
   "cell_type": "markdown",
   "metadata": {},
   "source": [
    "    "
   ]
  },
  {
   "cell_type": "markdown",
   "metadata": {},
   "source": [
    "### Data Prep"
   ]
  },
  {
   "cell_type": "code",
   "execution_count": 9,
   "metadata": {},
   "outputs": [],
   "source": [
    "# drop 'Loan_ID' variable from the data. We won't need it.\n",
    "df = df.drop('Loan_ID', axis=1)"
   ]
  },
  {
   "cell_type": "code",
   "execution_count": 10,
   "metadata": {},
   "outputs": [
    {
     "data": {
      "text/html": [
       "<div>\n",
       "<style scoped>\n",
       "    .dataframe tbody tr th:only-of-type {\n",
       "        vertical-align: middle;\n",
       "    }\n",
       "\n",
       "    .dataframe tbody tr th {\n",
       "        vertical-align: top;\n",
       "    }\n",
       "\n",
       "    .dataframe thead th {\n",
       "        text-align: right;\n",
       "    }\n",
       "</style>\n",
       "<table border=\"1\" class=\"dataframe\">\n",
       "  <thead>\n",
       "    <tr style=\"text-align: right;\">\n",
       "      <th></th>\n",
       "      <th>Gender</th>\n",
       "      <th>Married</th>\n",
       "      <th>Dependents</th>\n",
       "      <th>Education</th>\n",
       "      <th>Self_Employed</th>\n",
       "      <th>ApplicantIncome</th>\n",
       "      <th>CoapplicantIncome</th>\n",
       "      <th>LoanAmount</th>\n",
       "      <th>Loan_Amount_Term</th>\n",
       "      <th>Credit_History</th>\n",
       "      <th>Property_Area</th>\n",
       "      <th>Loan_Status</th>\n",
       "    </tr>\n",
       "  </thead>\n",
       "  <tbody>\n",
       "    <tr>\n",
       "      <th>0</th>\n",
       "      <td>Male</td>\n",
       "      <td>No</td>\n",
       "      <td>0</td>\n",
       "      <td>Graduate</td>\n",
       "      <td>No</td>\n",
       "      <td>5849</td>\n",
       "      <td>0.0</td>\n",
       "      <td>NaN</td>\n",
       "      <td>360.0</td>\n",
       "      <td>1.0</td>\n",
       "      <td>Urban</td>\n",
       "      <td>Y</td>\n",
       "    </tr>\n",
       "    <tr>\n",
       "      <th>1</th>\n",
       "      <td>Male</td>\n",
       "      <td>Yes</td>\n",
       "      <td>1</td>\n",
       "      <td>Graduate</td>\n",
       "      <td>No</td>\n",
       "      <td>4583</td>\n",
       "      <td>1508.0</td>\n",
       "      <td>128.0</td>\n",
       "      <td>360.0</td>\n",
       "      <td>1.0</td>\n",
       "      <td>Rural</td>\n",
       "      <td>N</td>\n",
       "    </tr>\n",
       "  </tbody>\n",
       "</table>\n",
       "</div>"
      ],
      "text/plain": [
       "  Gender Married Dependents Education Self_Employed  ApplicantIncome  \\\n",
       "0   Male      No          0  Graduate            No             5849   \n",
       "1   Male     Yes          1  Graduate            No             4583   \n",
       "\n",
       "   CoapplicantIncome  LoanAmount  Loan_Amount_Term  Credit_History  \\\n",
       "0                0.0         NaN             360.0             1.0   \n",
       "1             1508.0       128.0             360.0             1.0   \n",
       "\n",
       "  Property_Area Loan_Status  \n",
       "0         Urban           Y  \n",
       "1         Rural           N  "
      ]
     },
     "execution_count": 10,
     "metadata": {},
     "output_type": "execute_result"
    }
   ],
   "source": [
    "df.head(2)"
   ]
  },
  {
   "cell_type": "raw",
   "metadata": {},
   "source": [
    "# Not required, but if you want you can replace categorical values\n",
    "# for 'Loan_Status' variable replace 'Y' with 1 and 'N' with 0\n",
    "df = df.replace({'Loan_Status':{'Y':1,'N':0}})"
   ]
  },
  {
   "cell_type": "markdown",
   "metadata": {
    "id": "kO38zz_lvQlb"
   },
   "source": [
    "### Data Partition"
   ]
  },
  {
   "cell_type": "code",
   "execution_count": 11,
   "metadata": {
    "id": "Pq-bHTPlJ2Fn"
   },
   "outputs": [],
   "source": [
    "# Seperate the input features and target variable\n",
    "x = df.drop('Loan_Status',axis=1)\n",
    "y = df.Loan_Status"
   ]
  },
  {
   "cell_type": "code",
   "execution_count": 12,
   "metadata": {
    "id": "m4VrDseVJ2Fn"
   },
   "outputs": [],
   "source": [
    "# splitting the data in training and testing set\n",
    "from sklearn.model_selection import train_test_split\n",
    "xtrain, xtest, ytrain, ytest = train_test_split(x,y, test_size=0.2)"
   ]
  },
  {
   "cell_type": "code",
   "execution_count": 13,
   "metadata": {
    "colab": {
     "base_uri": "https://localhost:8080/",
     "height": 0
    },
    "id": "SzRQ8H5EJ2Fo",
    "outputId": "e64adf59-88f3-4294-fc9e-339097ff6618"
   },
   "outputs": [
    {
     "data": {
      "text/plain": [
       "((491, 11), (123, 11), (491,), (123,))"
      ]
     },
     "execution_count": 13,
     "metadata": {},
     "output_type": "execute_result"
    }
   ],
   "source": [
    "xtrain.shape, xtest.shape, ytrain.shape, ytest.shape"
   ]
  },
  {
   "cell_type": "code",
   "execution_count": 14,
   "metadata": {},
   "outputs": [
    {
     "data": {
      "text/plain": [
       "(array(['Female', 'Male', nan], dtype=object),\n",
       " array(['Male', 'Female', nan], dtype=object))"
      ]
     },
     "execution_count": 14,
     "metadata": {},
     "output_type": "execute_result"
    }
   ],
   "source": [
    "xtrain['Gender'].unique(),xtest['Gender'].unique()"
   ]
  },
  {
   "cell_type": "markdown",
   "metadata": {},
   "source": [
    "### Split before pre-processing or imputing.\n",
    "\n",
    "The division between training and test set is an attempt to replicate the situation where you have past information and are building a model which you will test on future information. If you impute first with train+valid data set and split next, then you have used test data set before you built your model, which is how a data leakage problem comes into picture."
   ]
  },
  {
   "cell_type": "markdown",
   "metadata": {
    "id": "vQniuFLiJ2FZ"
   },
   "source": [
    "### Column Transformer - Missing value imputation"
   ]
  },
  {
   "cell_type": "code",
   "execution_count": 15,
   "metadata": {},
   "outputs": [
    {
     "data": {
      "text/html": [
       "<div>\n",
       "<style scoped>\n",
       "    .dataframe tbody tr th:only-of-type {\n",
       "        vertical-align: middle;\n",
       "    }\n",
       "\n",
       "    .dataframe tbody tr th {\n",
       "        vertical-align: top;\n",
       "    }\n",
       "\n",
       "    .dataframe thead th {\n",
       "        text-align: right;\n",
       "    }\n",
       "</style>\n",
       "<table border=\"1\" class=\"dataframe\">\n",
       "  <thead>\n",
       "    <tr style=\"text-align: right;\">\n",
       "      <th></th>\n",
       "      <th>Gender</th>\n",
       "      <th>Married</th>\n",
       "      <th>Dependents</th>\n",
       "      <th>Education</th>\n",
       "      <th>Self_Employed</th>\n",
       "      <th>ApplicantIncome</th>\n",
       "      <th>CoapplicantIncome</th>\n",
       "      <th>LoanAmount</th>\n",
       "      <th>Loan_Amount_Term</th>\n",
       "      <th>Credit_History</th>\n",
       "      <th>Property_Area</th>\n",
       "    </tr>\n",
       "  </thead>\n",
       "  <tbody>\n",
       "    <tr>\n",
       "      <th>268</th>\n",
       "      <td>Female</td>\n",
       "      <td>No</td>\n",
       "      <td>0</td>\n",
       "      <td>Graduate</td>\n",
       "      <td>NaN</td>\n",
       "      <td>3418</td>\n",
       "      <td>0.0</td>\n",
       "      <td>135.0</td>\n",
       "      <td>360.0</td>\n",
       "      <td>1.0</td>\n",
       "      <td>Rural</td>\n",
       "    </tr>\n",
       "    <tr>\n",
       "      <th>363</th>\n",
       "      <td>Male</td>\n",
       "      <td>Yes</td>\n",
       "      <td>0</td>\n",
       "      <td>Graduate</td>\n",
       "      <td>No</td>\n",
       "      <td>3013</td>\n",
       "      <td>3033.0</td>\n",
       "      <td>95.0</td>\n",
       "      <td>300.0</td>\n",
       "      <td>NaN</td>\n",
       "      <td>Urban</td>\n",
       "    </tr>\n",
       "  </tbody>\n",
       "</table>\n",
       "</div>"
      ],
      "text/plain": [
       "     Gender Married Dependents Education Self_Employed  ApplicantIncome  \\\n",
       "268  Female      No          0  Graduate           NaN             3418   \n",
       "363    Male     Yes          0  Graduate            No             3013   \n",
       "\n",
       "     CoapplicantIncome  LoanAmount  Loan_Amount_Term  Credit_History  \\\n",
       "268                0.0       135.0             360.0             1.0   \n",
       "363             3033.0        95.0             300.0             NaN   \n",
       "\n",
       "    Property_Area  \n",
       "268         Rural  \n",
       "363         Urban  "
      ]
     },
     "execution_count": 15,
     "metadata": {},
     "output_type": "execute_result"
    }
   ],
   "source": [
    "xtrain.head(2)"
   ]
  },
  {
   "cell_type": "markdown",
   "metadata": {},
   "source": [
    "#### Using ColumnTransformer requires naming of steps vs make_column_transformer does not"
   ]
  },
  {
   "cell_type": "raw",
   "metadata": {},
   "source": [
    "# Pass a list of tuples to the column transformer\n",
    "step1 = ColumnTransformer([\n",
    "    ('impute_Gender',SimpleImputer(strategy='most_frequent'),[0]),\n",
    "    ('impute_Married',SimpleImputer(strategy='most_frequent'),[1]),\n",
    "    ('impute_Dependants',SimpleImputer(strategy='most_frequent'),[2]),\n",
    "    ('impute_Education',SimpleImputer(strategy='most_frequent'),[3]),\n",
    "    ('impute_Self_Employed',SimpleImputer(strategy='most_frequent'),[4]),\n",
    "    ('impute_ApplicantIncome',SimpleImputer(strategy='median'),[5]),\n",
    "    ('impute_CoapplicantIncome',SimpleImputer(strategy='median'),[6]),\n",
    "    ('impute_LoanAmount',SimpleImputer(strategy='median'),[7]),\n",
    "    ('impute_Loan_Amount_Term',SimpleImputer(strategy='most_frequent'),[8]),\n",
    "    ('impute_Credit_History',SimpleImputer(strategy='most_frequent'),[9]),\n",
    "    ('impute_Property_Area',SimpleImputer(strategy='most_frequent'),[10])],remainder='passthrough')\n",
    "\n",
    "# reminder passthrough is not needed here since we have used all of them for imputation. \n",
    "# if you choose only few columns for imputation, use this argument otherwhise remaining columns get dropped"
   ]
  },
  {
   "cell_type": "code",
   "execution_count": 16,
   "metadata": {},
   "outputs": [
    {
     "data": {
      "text/plain": [
       "(491, 11)"
      ]
     },
     "execution_count": 16,
     "metadata": {},
     "output_type": "execute_result"
    }
   ],
   "source": [
    "xtrain.shape"
   ]
  },
  {
   "cell_type": "code",
   "execution_count": 17,
   "metadata": {},
   "outputs": [],
   "source": [
    "# Pass a list of tuples to the column transformer\n",
    "step1 = make_column_transformer(\n",
    "    (SimpleImputer(strategy='most_frequent'),[0]),\n",
    "    (SimpleImputer(strategy='most_frequent'),[1]),\n",
    "    (SimpleImputer(strategy='most_frequent'),[2]),\n",
    "    (SimpleImputer(strategy='most_frequent'),[3]),\n",
    "    (SimpleImputer(strategy='most_frequent'),[4]),\n",
    "    (SimpleImputer(strategy='median'),[5]),\n",
    "    (SimpleImputer(strategy='median'),[6]),\n",
    "    (SimpleImputer(strategy='median'),[7]),\n",
    "    (SimpleImputer(strategy='most_frequent'),[8]),\n",
    "    (SimpleImputer(strategy='most_frequent'),[9]),\n",
    "    (SimpleImputer(strategy='most_frequent'),[10]),remainder='passthrough')\n",
    "\n",
    "# reminder passthrough is not needed here since we have used all of them for imputation. \n",
    "# if you choose only few columns for imputation, use this argument otherwhise remaining columns get dropped"
   ]
  },
  {
   "cell_type": "markdown",
   "metadata": {},
   "source": [
    "It is always better to select columns with index values. Since the output of the column transformer is an array and array' don't hold column names. So it creates issue with the next step input."
   ]
  },
  {
   "cell_type": "markdown",
   "metadata": {},
   "source": [
    "    "
   ]
  },
  {
   "cell_type": "markdown",
   "metadata": {},
   "source": [
    "## One hot encoding"
   ]
  },
  {
   "cell_type": "markdown",
   "metadata": {},
   "source": [
    "Apply OneHotEncoding to categorical columns"
   ]
  },
  {
   "cell_type": "code",
   "execution_count": 18,
   "metadata": {},
   "outputs": [],
   "source": [
    "# one hot encoding\n",
    "\n",
    "# handle_unknown='ignore' - if in future or during testing there are any new categories, they will be ignored and set to 0\n",
    "\n",
    "step2 = make_column_transformer((OneHotEncoder(sparse=False,handle_unknown='ignore'), [0,1,2,3,4,10]) ,remainder='passthrough')"
   ]
  },
  {
   "cell_type": "markdown",
   "metadata": {},
   "source": [
    "    "
   ]
  },
  {
   "cell_type": "markdown",
   "metadata": {},
   "source": [
    "## Scaling Data"
   ]
  },
  {
   "cell_type": "code",
   "execution_count": 19,
   "metadata": {},
   "outputs": [],
   "source": [
    "# Scale all the columns. Since the previous step is going to create new columns and indexing might create issues\n",
    "step3 = make_column_transformer((MinMaxScaler(),[-2,-3,-4,-5]), remainder='passthrough')"
   ]
  },
  {
   "cell_type": "markdown",
   "metadata": {},
   "source": [
    "    "
   ]
  },
  {
   "cell_type": "markdown",
   "metadata": {},
   "source": [
    "## Feature Selection"
   ]
  },
  {
   "cell_type": "code",
   "execution_count": 20,
   "metadata": {},
   "outputs": [],
   "source": [
    "# Feature selection\n",
    "step4 = SelectKBest(chi2,k=10)"
   ]
  },
  {
   "cell_type": "markdown",
   "metadata": {},
   "source": [
    "    "
   ]
  },
  {
   "cell_type": "markdown",
   "metadata": {},
   "source": [
    "## Define Model"
   ]
  },
  {
   "cell_type": "raw",
   "metadata": {},
   "source": [
    "# train the model\n",
    "step5 = DecisionTreeClassifier()"
   ]
  },
  {
   "cell_type": "code",
   "execution_count": 21,
   "metadata": {},
   "outputs": [],
   "source": [
    "# we will try different values for parameters max_depth and min_samples_split of a tree\n",
    "params = { 'max_depth':[None,1,2,3],\n",
    "         'min_samples_split':[2,3,4]}"
   ]
  },
  {
   "cell_type": "code",
   "execution_count": 22,
   "metadata": {},
   "outputs": [],
   "source": [
    "from sklearn.model_selection import GridSearchCV\n",
    "step5= GridSearchCV(DecisionTreeClassifier(),params,refit=True)"
   ]
  },
  {
   "cell_type": "markdown",
   "metadata": {},
   "source": [
    "    "
   ]
  },
  {
   "cell_type": "markdown",
   "metadata": {},
   "source": [
    "## Pipleline vs Make_Pipeline\n",
    "\n",
    "Pipeline requires naming the steps, make_pipeline does not."
   ]
  },
  {
   "cell_type": "markdown",
   "metadata": {},
   "source": [
    "## 1. `Pipeline` syntax"
   ]
  },
  {
   "cell_type": "code",
   "execution_count": 23,
   "metadata": {},
   "outputs": [],
   "source": [
    "dtpipe = Pipeline([\n",
    "    ('impute',step1),\n",
    "    ('encode',step2),\n",
    "    ('scale',step3),\n",
    "    ('select',step4),\n",
    "    ('train',step5)\n",
    "])"
   ]
  },
  {
   "cell_type": "markdown",
   "metadata": {},
   "source": [
    "## 2. `Make_Pipeline` syntax"
   ]
  },
  {
   "cell_type": "raw",
   "metadata": {},
   "source": [
    "# Alternate Syntax\n",
    "dtpipe = make_pipeline(step1, step2, step3, step4, step5)"
   ]
  },
  {
   "cell_type": "code",
   "execution_count": 24,
   "metadata": {},
   "outputs": [],
   "source": [
    "# To display Pipeline run this code before the running the pipeline.\n",
    "\n",
    "from sklearn import set_config\n",
    "set_config(display='diagram')"
   ]
  },
  {
   "cell_type": "code",
   "execution_count": 25,
   "metadata": {},
   "outputs": [
    {
     "data": {
      "text/html": [
       "<style>#sk-ccf9e465-0e1e-4663-bd3a-3e6dd6c2f5ee {color: black;background-color: white;}#sk-ccf9e465-0e1e-4663-bd3a-3e6dd6c2f5ee pre{padding: 0;}#sk-ccf9e465-0e1e-4663-bd3a-3e6dd6c2f5ee div.sk-toggleable {background-color: white;}#sk-ccf9e465-0e1e-4663-bd3a-3e6dd6c2f5ee label.sk-toggleable__label {cursor: pointer;display: block;width: 100%;margin-bottom: 0;padding: 0.3em;box-sizing: border-box;text-align: center;}#sk-ccf9e465-0e1e-4663-bd3a-3e6dd6c2f5ee label.sk-toggleable__label-arrow:before {content: \"▸\";float: left;margin-right: 0.25em;color: #696969;}#sk-ccf9e465-0e1e-4663-bd3a-3e6dd6c2f5ee label.sk-toggleable__label-arrow:hover:before {color: black;}#sk-ccf9e465-0e1e-4663-bd3a-3e6dd6c2f5ee div.sk-estimator:hover label.sk-toggleable__label-arrow:before {color: black;}#sk-ccf9e465-0e1e-4663-bd3a-3e6dd6c2f5ee div.sk-toggleable__content {max-height: 0;max-width: 0;overflow: hidden;text-align: left;background-color: #f0f8ff;}#sk-ccf9e465-0e1e-4663-bd3a-3e6dd6c2f5ee div.sk-toggleable__content pre {margin: 0.2em;color: black;border-radius: 0.25em;background-color: #f0f8ff;}#sk-ccf9e465-0e1e-4663-bd3a-3e6dd6c2f5ee input.sk-toggleable__control:checked~div.sk-toggleable__content {max-height: 200px;max-width: 100%;overflow: auto;}#sk-ccf9e465-0e1e-4663-bd3a-3e6dd6c2f5ee input.sk-toggleable__control:checked~label.sk-toggleable__label-arrow:before {content: \"▾\";}#sk-ccf9e465-0e1e-4663-bd3a-3e6dd6c2f5ee div.sk-estimator input.sk-toggleable__control:checked~label.sk-toggleable__label {background-color: #d4ebff;}#sk-ccf9e465-0e1e-4663-bd3a-3e6dd6c2f5ee div.sk-label input.sk-toggleable__control:checked~label.sk-toggleable__label {background-color: #d4ebff;}#sk-ccf9e465-0e1e-4663-bd3a-3e6dd6c2f5ee input.sk-hidden--visually {border: 0;clip: rect(1px 1px 1px 1px);clip: rect(1px, 1px, 1px, 1px);height: 1px;margin: -1px;overflow: hidden;padding: 0;position: absolute;width: 1px;}#sk-ccf9e465-0e1e-4663-bd3a-3e6dd6c2f5ee div.sk-estimator {font-family: monospace;background-color: #f0f8ff;border: 1px dotted black;border-radius: 0.25em;box-sizing: border-box;margin-bottom: 0.5em;}#sk-ccf9e465-0e1e-4663-bd3a-3e6dd6c2f5ee div.sk-estimator:hover {background-color: #d4ebff;}#sk-ccf9e465-0e1e-4663-bd3a-3e6dd6c2f5ee div.sk-parallel-item::after {content: \"\";width: 100%;border-bottom: 1px solid gray;flex-grow: 1;}#sk-ccf9e465-0e1e-4663-bd3a-3e6dd6c2f5ee div.sk-label:hover label.sk-toggleable__label {background-color: #d4ebff;}#sk-ccf9e465-0e1e-4663-bd3a-3e6dd6c2f5ee div.sk-serial::before {content: \"\";position: absolute;border-left: 1px solid gray;box-sizing: border-box;top: 2em;bottom: 0;left: 50%;}#sk-ccf9e465-0e1e-4663-bd3a-3e6dd6c2f5ee div.sk-serial {display: flex;flex-direction: column;align-items: center;background-color: white;padding-right: 0.2em;padding-left: 0.2em;}#sk-ccf9e465-0e1e-4663-bd3a-3e6dd6c2f5ee div.sk-item {z-index: 1;}#sk-ccf9e465-0e1e-4663-bd3a-3e6dd6c2f5ee div.sk-parallel {display: flex;align-items: stretch;justify-content: center;background-color: white;}#sk-ccf9e465-0e1e-4663-bd3a-3e6dd6c2f5ee div.sk-parallel::before {content: \"\";position: absolute;border-left: 1px solid gray;box-sizing: border-box;top: 2em;bottom: 0;left: 50%;}#sk-ccf9e465-0e1e-4663-bd3a-3e6dd6c2f5ee div.sk-parallel-item {display: flex;flex-direction: column;position: relative;background-color: white;}#sk-ccf9e465-0e1e-4663-bd3a-3e6dd6c2f5ee div.sk-parallel-item:first-child::after {align-self: flex-end;width: 50%;}#sk-ccf9e465-0e1e-4663-bd3a-3e6dd6c2f5ee div.sk-parallel-item:last-child::after {align-self: flex-start;width: 50%;}#sk-ccf9e465-0e1e-4663-bd3a-3e6dd6c2f5ee div.sk-parallel-item:only-child::after {width: 0;}#sk-ccf9e465-0e1e-4663-bd3a-3e6dd6c2f5ee div.sk-dashed-wrapped {border: 1px dashed gray;margin: 0 0.4em 0.5em 0.4em;box-sizing: border-box;padding-bottom: 0.4em;background-color: white;position: relative;}#sk-ccf9e465-0e1e-4663-bd3a-3e6dd6c2f5ee div.sk-label label {font-family: monospace;font-weight: bold;background-color: white;display: inline-block;line-height: 1.2em;}#sk-ccf9e465-0e1e-4663-bd3a-3e6dd6c2f5ee div.sk-label-container {position: relative;z-index: 2;text-align: center;}#sk-ccf9e465-0e1e-4663-bd3a-3e6dd6c2f5ee div.sk-container {/* jupyter's `normalize.less` sets `[hidden] { display: none; }` but bootstrap.min.css set `[hidden] { display: none !important; }` so we also need the `!important` here to be able to override the default hidden behavior on the sphinx rendered scikit-learn.org. See: https://github.com/scikit-learn/scikit-learn/issues/21755 */display: inline-block !important;position: relative;}#sk-ccf9e465-0e1e-4663-bd3a-3e6dd6c2f5ee div.sk-text-repr-fallback {display: none;}</style><div id=\"sk-ccf9e465-0e1e-4663-bd3a-3e6dd6c2f5ee\" class=\"sk-top-container\"><div class=\"sk-text-repr-fallback\"><pre>Pipeline(steps=[(&#x27;impute&#x27;,\n",
       "                 ColumnTransformer(remainder=&#x27;passthrough&#x27;,\n",
       "                                   transformers=[(&#x27;simpleimputer-1&#x27;,\n",
       "                                                  SimpleImputer(strategy=&#x27;most_frequent&#x27;),\n",
       "                                                  [0]),\n",
       "                                                 (&#x27;simpleimputer-2&#x27;,\n",
       "                                                  SimpleImputer(strategy=&#x27;most_frequent&#x27;),\n",
       "                                                  [1]),\n",
       "                                                 (&#x27;simpleimputer-3&#x27;,\n",
       "                                                  SimpleImputer(strategy=&#x27;most_frequent&#x27;),\n",
       "                                                  [2]),\n",
       "                                                 (&#x27;simpleimputer-4&#x27;,\n",
       "                                                  SimpleImputer(strategy=&#x27;most_frequent&#x27;),\n",
       "                                                  [3]),\n",
       "                                                 (&#x27;simpleimpu...\n",
       "                                                  OneHotEncoder(handle_unknown=&#x27;ignore&#x27;,\n",
       "                                                                sparse=False),\n",
       "                                                  [0, 1, 2, 3, 4, 10])])),\n",
       "                (&#x27;scale&#x27;,\n",
       "                 ColumnTransformer(remainder=&#x27;passthrough&#x27;,\n",
       "                                   transformers=[(&#x27;minmaxscaler&#x27;,\n",
       "                                                  MinMaxScaler(),\n",
       "                                                  [-2, -3, -4, -5])])),\n",
       "                (&#x27;select&#x27;,\n",
       "                 SelectKBest(score_func=&lt;function chi2 at 0x000002A0220CEAF0&gt;)),\n",
       "                (&#x27;train&#x27;,\n",
       "                 GridSearchCV(estimator=DecisionTreeClassifier(),\n",
       "                              param_grid={&#x27;max_depth&#x27;: [None, 1, 2, 3],\n",
       "                                          &#x27;min_samples_split&#x27;: [2, 3, 4]}))])</pre><b>Please rerun this cell to show the HTML repr or trust the notebook.</b></div><div class=\"sk-container\" hidden><div class=\"sk-item sk-dashed-wrapped\"><div class=\"sk-label-container\"><div class=\"sk-label sk-toggleable\"><input class=\"sk-toggleable__control sk-hidden--visually\" id=\"3c643644-2bd2-42b3-b485-a0c3f8541cf0\" type=\"checkbox\" ><label for=\"3c643644-2bd2-42b3-b485-a0c3f8541cf0\" class=\"sk-toggleable__label sk-toggleable__label-arrow\">Pipeline</label><div class=\"sk-toggleable__content\"><pre>Pipeline(steps=[(&#x27;impute&#x27;,\n",
       "                 ColumnTransformer(remainder=&#x27;passthrough&#x27;,\n",
       "                                   transformers=[(&#x27;simpleimputer-1&#x27;,\n",
       "                                                  SimpleImputer(strategy=&#x27;most_frequent&#x27;),\n",
       "                                                  [0]),\n",
       "                                                 (&#x27;simpleimputer-2&#x27;,\n",
       "                                                  SimpleImputer(strategy=&#x27;most_frequent&#x27;),\n",
       "                                                  [1]),\n",
       "                                                 (&#x27;simpleimputer-3&#x27;,\n",
       "                                                  SimpleImputer(strategy=&#x27;most_frequent&#x27;),\n",
       "                                                  [2]),\n",
       "                                                 (&#x27;simpleimputer-4&#x27;,\n",
       "                                                  SimpleImputer(strategy=&#x27;most_frequent&#x27;),\n",
       "                                                  [3]),\n",
       "                                                 (&#x27;simpleimpu...\n",
       "                                                  OneHotEncoder(handle_unknown=&#x27;ignore&#x27;,\n",
       "                                                                sparse=False),\n",
       "                                                  [0, 1, 2, 3, 4, 10])])),\n",
       "                (&#x27;scale&#x27;,\n",
       "                 ColumnTransformer(remainder=&#x27;passthrough&#x27;,\n",
       "                                   transformers=[(&#x27;minmaxscaler&#x27;,\n",
       "                                                  MinMaxScaler(),\n",
       "                                                  [-2, -3, -4, -5])])),\n",
       "                (&#x27;select&#x27;,\n",
       "                 SelectKBest(score_func=&lt;function chi2 at 0x000002A0220CEAF0&gt;)),\n",
       "                (&#x27;train&#x27;,\n",
       "                 GridSearchCV(estimator=DecisionTreeClassifier(),\n",
       "                              param_grid={&#x27;max_depth&#x27;: [None, 1, 2, 3],\n",
       "                                          &#x27;min_samples_split&#x27;: [2, 3, 4]}))])</pre></div></div></div><div class=\"sk-serial\"><div class=\"sk-item sk-dashed-wrapped\"><div class=\"sk-label-container\"><div class=\"sk-label sk-toggleable\"><input class=\"sk-toggleable__control sk-hidden--visually\" id=\"b591c431-c0a3-43fc-85a9-977793f6ee62\" type=\"checkbox\" ><label for=\"b591c431-c0a3-43fc-85a9-977793f6ee62\" class=\"sk-toggleable__label sk-toggleable__label-arrow\">impute: ColumnTransformer</label><div class=\"sk-toggleable__content\"><pre>ColumnTransformer(remainder=&#x27;passthrough&#x27;,\n",
       "                  transformers=[(&#x27;simpleimputer-1&#x27;,\n",
       "                                 SimpleImputer(strategy=&#x27;most_frequent&#x27;), [0]),\n",
       "                                (&#x27;simpleimputer-2&#x27;,\n",
       "                                 SimpleImputer(strategy=&#x27;most_frequent&#x27;), [1]),\n",
       "                                (&#x27;simpleimputer-3&#x27;,\n",
       "                                 SimpleImputer(strategy=&#x27;most_frequent&#x27;), [2]),\n",
       "                                (&#x27;simpleimputer-4&#x27;,\n",
       "                                 SimpleImputer(strategy=&#x27;most_frequent&#x27;), [3]),\n",
       "                                (&#x27;simpleimputer-5&#x27;,\n",
       "                                 SimpleImputer(strat...\n",
       "                                (&#x27;simpleimputer-6&#x27;,\n",
       "                                 SimpleImputer(strategy=&#x27;median&#x27;), [5]),\n",
       "                                (&#x27;simpleimputer-7&#x27;,\n",
       "                                 SimpleImputer(strategy=&#x27;median&#x27;), [6]),\n",
       "                                (&#x27;simpleimputer-8&#x27;,\n",
       "                                 SimpleImputer(strategy=&#x27;median&#x27;), [7]),\n",
       "                                (&#x27;simpleimputer-9&#x27;,\n",
       "                                 SimpleImputer(strategy=&#x27;most_frequent&#x27;), [8]),\n",
       "                                (&#x27;simpleimputer-10&#x27;,\n",
       "                                 SimpleImputer(strategy=&#x27;most_frequent&#x27;), [9]),\n",
       "                                (&#x27;simpleimputer-11&#x27;,\n",
       "                                 SimpleImputer(strategy=&#x27;most_frequent&#x27;),\n",
       "                                 [10])])</pre></div></div></div><div class=\"sk-parallel\"><div class=\"sk-parallel-item\"><div class=\"sk-item\"><div class=\"sk-label-container\"><div class=\"sk-label sk-toggleable\"><input class=\"sk-toggleable__control sk-hidden--visually\" id=\"bc687a9e-1641-44af-90b1-f95c1b2ea982\" type=\"checkbox\" ><label for=\"bc687a9e-1641-44af-90b1-f95c1b2ea982\" class=\"sk-toggleable__label sk-toggleable__label-arrow\">simpleimputer-1</label><div class=\"sk-toggleable__content\"><pre>[0]</pre></div></div></div><div class=\"sk-serial\"><div class=\"sk-item\"><div class=\"sk-estimator sk-toggleable\"><input class=\"sk-toggleable__control sk-hidden--visually\" id=\"a53f73ad-0367-4552-b707-ab8dff1726ec\" type=\"checkbox\" ><label for=\"a53f73ad-0367-4552-b707-ab8dff1726ec\" class=\"sk-toggleable__label sk-toggleable__label-arrow\">SimpleImputer</label><div class=\"sk-toggleable__content\"><pre>SimpleImputer(strategy=&#x27;most_frequent&#x27;)</pre></div></div></div></div></div></div><div class=\"sk-parallel-item\"><div class=\"sk-item\"><div class=\"sk-label-container\"><div class=\"sk-label sk-toggleable\"><input class=\"sk-toggleable__control sk-hidden--visually\" id=\"d5f84d11-3d79-4c1c-a7da-c90ce79f2684\" type=\"checkbox\" ><label for=\"d5f84d11-3d79-4c1c-a7da-c90ce79f2684\" class=\"sk-toggleable__label sk-toggleable__label-arrow\">simpleimputer-2</label><div class=\"sk-toggleable__content\"><pre>[1]</pre></div></div></div><div class=\"sk-serial\"><div class=\"sk-item\"><div class=\"sk-estimator sk-toggleable\"><input class=\"sk-toggleable__control sk-hidden--visually\" id=\"3e37349f-174f-4db7-90f6-56fc179bd66a\" type=\"checkbox\" ><label for=\"3e37349f-174f-4db7-90f6-56fc179bd66a\" class=\"sk-toggleable__label sk-toggleable__label-arrow\">SimpleImputer</label><div class=\"sk-toggleable__content\"><pre>SimpleImputer(strategy=&#x27;most_frequent&#x27;)</pre></div></div></div></div></div></div><div class=\"sk-parallel-item\"><div class=\"sk-item\"><div class=\"sk-label-container\"><div class=\"sk-label sk-toggleable\"><input class=\"sk-toggleable__control sk-hidden--visually\" id=\"1ab3c44c-0e8d-4fd9-bc70-9d22b24ad836\" type=\"checkbox\" ><label for=\"1ab3c44c-0e8d-4fd9-bc70-9d22b24ad836\" class=\"sk-toggleable__label sk-toggleable__label-arrow\">simpleimputer-3</label><div class=\"sk-toggleable__content\"><pre>[2]</pre></div></div></div><div class=\"sk-serial\"><div class=\"sk-item\"><div class=\"sk-estimator sk-toggleable\"><input class=\"sk-toggleable__control sk-hidden--visually\" id=\"e1837623-7bfc-468c-9849-fb03f055b5cf\" type=\"checkbox\" ><label for=\"e1837623-7bfc-468c-9849-fb03f055b5cf\" class=\"sk-toggleable__label sk-toggleable__label-arrow\">SimpleImputer</label><div class=\"sk-toggleable__content\"><pre>SimpleImputer(strategy=&#x27;most_frequent&#x27;)</pre></div></div></div></div></div></div><div class=\"sk-parallel-item\"><div class=\"sk-item\"><div class=\"sk-label-container\"><div class=\"sk-label sk-toggleable\"><input class=\"sk-toggleable__control sk-hidden--visually\" id=\"e6acd004-6d1d-4d07-80bc-67849ed340ca\" type=\"checkbox\" ><label for=\"e6acd004-6d1d-4d07-80bc-67849ed340ca\" class=\"sk-toggleable__label sk-toggleable__label-arrow\">simpleimputer-4</label><div class=\"sk-toggleable__content\"><pre>[3]</pre></div></div></div><div class=\"sk-serial\"><div class=\"sk-item\"><div class=\"sk-estimator sk-toggleable\"><input class=\"sk-toggleable__control sk-hidden--visually\" id=\"81d2130f-6d6c-4d4f-835e-873db480d8f3\" type=\"checkbox\" ><label for=\"81d2130f-6d6c-4d4f-835e-873db480d8f3\" class=\"sk-toggleable__label sk-toggleable__label-arrow\">SimpleImputer</label><div class=\"sk-toggleable__content\"><pre>SimpleImputer(strategy=&#x27;most_frequent&#x27;)</pre></div></div></div></div></div></div><div class=\"sk-parallel-item\"><div class=\"sk-item\"><div class=\"sk-label-container\"><div class=\"sk-label sk-toggleable\"><input class=\"sk-toggleable__control sk-hidden--visually\" id=\"4b3b3cc4-4dcd-44c7-a645-aa9a8873e326\" type=\"checkbox\" ><label for=\"4b3b3cc4-4dcd-44c7-a645-aa9a8873e326\" class=\"sk-toggleable__label sk-toggleable__label-arrow\">simpleimputer-5</label><div class=\"sk-toggleable__content\"><pre>[4]</pre></div></div></div><div class=\"sk-serial\"><div class=\"sk-item\"><div class=\"sk-estimator sk-toggleable\"><input class=\"sk-toggleable__control sk-hidden--visually\" id=\"cbf790fe-328f-453b-9384-201d9583a91f\" type=\"checkbox\" ><label for=\"cbf790fe-328f-453b-9384-201d9583a91f\" class=\"sk-toggleable__label sk-toggleable__label-arrow\">SimpleImputer</label><div class=\"sk-toggleable__content\"><pre>SimpleImputer(strategy=&#x27;most_frequent&#x27;)</pre></div></div></div></div></div></div><div class=\"sk-parallel-item\"><div class=\"sk-item\"><div class=\"sk-label-container\"><div class=\"sk-label sk-toggleable\"><input class=\"sk-toggleable__control sk-hidden--visually\" id=\"c9968bcc-97f7-48c3-88e3-35f73846e8f0\" type=\"checkbox\" ><label for=\"c9968bcc-97f7-48c3-88e3-35f73846e8f0\" class=\"sk-toggleable__label sk-toggleable__label-arrow\">simpleimputer-6</label><div class=\"sk-toggleable__content\"><pre>[5]</pre></div></div></div><div class=\"sk-serial\"><div class=\"sk-item\"><div class=\"sk-estimator sk-toggleable\"><input class=\"sk-toggleable__control sk-hidden--visually\" id=\"f706a57a-0522-4591-9346-b8d067ca9216\" type=\"checkbox\" ><label for=\"f706a57a-0522-4591-9346-b8d067ca9216\" class=\"sk-toggleable__label sk-toggleable__label-arrow\">SimpleImputer</label><div class=\"sk-toggleable__content\"><pre>SimpleImputer(strategy=&#x27;median&#x27;)</pre></div></div></div></div></div></div><div class=\"sk-parallel-item\"><div class=\"sk-item\"><div class=\"sk-label-container\"><div class=\"sk-label sk-toggleable\"><input class=\"sk-toggleable__control sk-hidden--visually\" id=\"0f74d25e-c71a-41e4-8d80-509083a76bde\" type=\"checkbox\" ><label for=\"0f74d25e-c71a-41e4-8d80-509083a76bde\" class=\"sk-toggleable__label sk-toggleable__label-arrow\">simpleimputer-7</label><div class=\"sk-toggleable__content\"><pre>[6]</pre></div></div></div><div class=\"sk-serial\"><div class=\"sk-item\"><div class=\"sk-estimator sk-toggleable\"><input class=\"sk-toggleable__control sk-hidden--visually\" id=\"11701b97-72f2-49f5-a240-7645d55ebd5f\" type=\"checkbox\" ><label for=\"11701b97-72f2-49f5-a240-7645d55ebd5f\" class=\"sk-toggleable__label sk-toggleable__label-arrow\">SimpleImputer</label><div class=\"sk-toggleable__content\"><pre>SimpleImputer(strategy=&#x27;median&#x27;)</pre></div></div></div></div></div></div><div class=\"sk-parallel-item\"><div class=\"sk-item\"><div class=\"sk-label-container\"><div class=\"sk-label sk-toggleable\"><input class=\"sk-toggleable__control sk-hidden--visually\" id=\"da214c79-f39c-4456-90da-42f9d26de1d6\" type=\"checkbox\" ><label for=\"da214c79-f39c-4456-90da-42f9d26de1d6\" class=\"sk-toggleable__label sk-toggleable__label-arrow\">simpleimputer-8</label><div class=\"sk-toggleable__content\"><pre>[7]</pre></div></div></div><div class=\"sk-serial\"><div class=\"sk-item\"><div class=\"sk-estimator sk-toggleable\"><input class=\"sk-toggleable__control sk-hidden--visually\" id=\"d75bf5a4-7fbe-462c-a546-d1b8316703e4\" type=\"checkbox\" ><label for=\"d75bf5a4-7fbe-462c-a546-d1b8316703e4\" class=\"sk-toggleable__label sk-toggleable__label-arrow\">SimpleImputer</label><div class=\"sk-toggleable__content\"><pre>SimpleImputer(strategy=&#x27;median&#x27;)</pre></div></div></div></div></div></div><div class=\"sk-parallel-item\"><div class=\"sk-item\"><div class=\"sk-label-container\"><div class=\"sk-label sk-toggleable\"><input class=\"sk-toggleable__control sk-hidden--visually\" id=\"966936f9-d828-4cb3-972d-294e2a95eb7a\" type=\"checkbox\" ><label for=\"966936f9-d828-4cb3-972d-294e2a95eb7a\" class=\"sk-toggleable__label sk-toggleable__label-arrow\">simpleimputer-9</label><div class=\"sk-toggleable__content\"><pre>[8]</pre></div></div></div><div class=\"sk-serial\"><div class=\"sk-item\"><div class=\"sk-estimator sk-toggleable\"><input class=\"sk-toggleable__control sk-hidden--visually\" id=\"3a9285bc-0291-46bc-ac82-e280548caf94\" type=\"checkbox\" ><label for=\"3a9285bc-0291-46bc-ac82-e280548caf94\" class=\"sk-toggleable__label sk-toggleable__label-arrow\">SimpleImputer</label><div class=\"sk-toggleable__content\"><pre>SimpleImputer(strategy=&#x27;most_frequent&#x27;)</pre></div></div></div></div></div></div><div class=\"sk-parallel-item\"><div class=\"sk-item\"><div class=\"sk-label-container\"><div class=\"sk-label sk-toggleable\"><input class=\"sk-toggleable__control sk-hidden--visually\" id=\"ac1bfb2f-13a4-481d-b4b6-23eb09609139\" type=\"checkbox\" ><label for=\"ac1bfb2f-13a4-481d-b4b6-23eb09609139\" class=\"sk-toggleable__label sk-toggleable__label-arrow\">simpleimputer-10</label><div class=\"sk-toggleable__content\"><pre>[9]</pre></div></div></div><div class=\"sk-serial\"><div class=\"sk-item\"><div class=\"sk-estimator sk-toggleable\"><input class=\"sk-toggleable__control sk-hidden--visually\" id=\"4051288b-5ebb-4f02-86cd-baaadf782b46\" type=\"checkbox\" ><label for=\"4051288b-5ebb-4f02-86cd-baaadf782b46\" class=\"sk-toggleable__label sk-toggleable__label-arrow\">SimpleImputer</label><div class=\"sk-toggleable__content\"><pre>SimpleImputer(strategy=&#x27;most_frequent&#x27;)</pre></div></div></div></div></div></div><div class=\"sk-parallel-item\"><div class=\"sk-item\"><div class=\"sk-label-container\"><div class=\"sk-label sk-toggleable\"><input class=\"sk-toggleable__control sk-hidden--visually\" id=\"4784d0c5-da8e-49af-9047-cca13378a853\" type=\"checkbox\" ><label for=\"4784d0c5-da8e-49af-9047-cca13378a853\" class=\"sk-toggleable__label sk-toggleable__label-arrow\">simpleimputer-11</label><div class=\"sk-toggleable__content\"><pre>[10]</pre></div></div></div><div class=\"sk-serial\"><div class=\"sk-item\"><div class=\"sk-estimator sk-toggleable\"><input class=\"sk-toggleable__control sk-hidden--visually\" id=\"968d1a04-4dff-4c99-b082-8f44c659f353\" type=\"checkbox\" ><label for=\"968d1a04-4dff-4c99-b082-8f44c659f353\" class=\"sk-toggleable__label sk-toggleable__label-arrow\">SimpleImputer</label><div class=\"sk-toggleable__content\"><pre>SimpleImputer(strategy=&#x27;most_frequent&#x27;)</pre></div></div></div></div></div></div><div class=\"sk-parallel-item\"><div class=\"sk-item\"><div class=\"sk-label-container\"><div class=\"sk-label sk-toggleable\"><input class=\"sk-toggleable__control sk-hidden--visually\" id=\"371a43e2-9421-4096-86bb-ca83cd2992ce\" type=\"checkbox\" ><label for=\"371a43e2-9421-4096-86bb-ca83cd2992ce\" class=\"sk-toggleable__label sk-toggleable__label-arrow\">remainder</label><div class=\"sk-toggleable__content\"><pre>[]</pre></div></div></div><div class=\"sk-serial\"><div class=\"sk-item\"><div class=\"sk-estimator sk-toggleable\"><input class=\"sk-toggleable__control sk-hidden--visually\" id=\"7002bc1a-02b5-486b-81ad-3eb6e1ea95b5\" type=\"checkbox\" ><label for=\"7002bc1a-02b5-486b-81ad-3eb6e1ea95b5\" class=\"sk-toggleable__label sk-toggleable__label-arrow\">passthrough</label><div class=\"sk-toggleable__content\"><pre>passthrough</pre></div></div></div></div></div></div></div></div><div class=\"sk-item sk-dashed-wrapped\"><div class=\"sk-label-container\"><div class=\"sk-label sk-toggleable\"><input class=\"sk-toggleable__control sk-hidden--visually\" id=\"2a893940-60c9-496a-99c9-8a51a1abd3e3\" type=\"checkbox\" ><label for=\"2a893940-60c9-496a-99c9-8a51a1abd3e3\" class=\"sk-toggleable__label sk-toggleable__label-arrow\">encode: ColumnTransformer</label><div class=\"sk-toggleable__content\"><pre>ColumnTransformer(remainder=&#x27;passthrough&#x27;,\n",
       "                  transformers=[(&#x27;onehotencoder&#x27;,\n",
       "                                 OneHotEncoder(handle_unknown=&#x27;ignore&#x27;,\n",
       "                                               sparse=False),\n",
       "                                 [0, 1, 2, 3, 4, 10])])</pre></div></div></div><div class=\"sk-parallel\"><div class=\"sk-parallel-item\"><div class=\"sk-item\"><div class=\"sk-label-container\"><div class=\"sk-label sk-toggleable\"><input class=\"sk-toggleable__control sk-hidden--visually\" id=\"76e9d8ff-a114-453b-94d7-80e5be451d5b\" type=\"checkbox\" ><label for=\"76e9d8ff-a114-453b-94d7-80e5be451d5b\" class=\"sk-toggleable__label sk-toggleable__label-arrow\">onehotencoder</label><div class=\"sk-toggleable__content\"><pre>[0, 1, 2, 3, 4, 10]</pre></div></div></div><div class=\"sk-serial\"><div class=\"sk-item\"><div class=\"sk-estimator sk-toggleable\"><input class=\"sk-toggleable__control sk-hidden--visually\" id=\"f60cdad5-1942-40fa-a6c8-b5807af6f2af\" type=\"checkbox\" ><label for=\"f60cdad5-1942-40fa-a6c8-b5807af6f2af\" class=\"sk-toggleable__label sk-toggleable__label-arrow\">OneHotEncoder</label><div class=\"sk-toggleable__content\"><pre>OneHotEncoder(handle_unknown=&#x27;ignore&#x27;, sparse=False)</pre></div></div></div></div></div></div><div class=\"sk-parallel-item\"><div class=\"sk-item\"><div class=\"sk-label-container\"><div class=\"sk-label sk-toggleable\"><input class=\"sk-toggleable__control sk-hidden--visually\" id=\"724c6552-6c64-4374-b0a2-f02f00d9d536\" type=\"checkbox\" ><label for=\"724c6552-6c64-4374-b0a2-f02f00d9d536\" class=\"sk-toggleable__label sk-toggleable__label-arrow\">remainder</label><div class=\"sk-toggleable__content\"><pre>[5, 6, 7, 8, 9]</pre></div></div></div><div class=\"sk-serial\"><div class=\"sk-item\"><div class=\"sk-estimator sk-toggleable\"><input class=\"sk-toggleable__control sk-hidden--visually\" id=\"3d492c9e-3138-4828-b766-b89a02e81bdb\" type=\"checkbox\" ><label for=\"3d492c9e-3138-4828-b766-b89a02e81bdb\" class=\"sk-toggleable__label sk-toggleable__label-arrow\">passthrough</label><div class=\"sk-toggleable__content\"><pre>passthrough</pre></div></div></div></div></div></div></div></div><div class=\"sk-item sk-dashed-wrapped\"><div class=\"sk-label-container\"><div class=\"sk-label sk-toggleable\"><input class=\"sk-toggleable__control sk-hidden--visually\" id=\"16e4a4d6-67f8-4c52-9ca4-2f1f3910f738\" type=\"checkbox\" ><label for=\"16e4a4d6-67f8-4c52-9ca4-2f1f3910f738\" class=\"sk-toggleable__label sk-toggleable__label-arrow\">scale: ColumnTransformer</label><div class=\"sk-toggleable__content\"><pre>ColumnTransformer(remainder=&#x27;passthrough&#x27;,\n",
       "                  transformers=[(&#x27;minmaxscaler&#x27;, MinMaxScaler(),\n",
       "                                 [-2, -3, -4, -5])])</pre></div></div></div><div class=\"sk-parallel\"><div class=\"sk-parallel-item\"><div class=\"sk-item\"><div class=\"sk-label-container\"><div class=\"sk-label sk-toggleable\"><input class=\"sk-toggleable__control sk-hidden--visually\" id=\"f9da9cfa-75f8-4f97-a55e-0469d593910a\" type=\"checkbox\" ><label for=\"f9da9cfa-75f8-4f97-a55e-0469d593910a\" class=\"sk-toggleable__label sk-toggleable__label-arrow\">minmaxscaler</label><div class=\"sk-toggleable__content\"><pre>[-2, -3, -4, -5]</pre></div></div></div><div class=\"sk-serial\"><div class=\"sk-item\"><div class=\"sk-estimator sk-toggleable\"><input class=\"sk-toggleable__control sk-hidden--visually\" id=\"88d209fe-f266-4f37-9245-86461df64746\" type=\"checkbox\" ><label for=\"88d209fe-f266-4f37-9245-86461df64746\" class=\"sk-toggleable__label sk-toggleable__label-arrow\">MinMaxScaler</label><div class=\"sk-toggleable__content\"><pre>MinMaxScaler()</pre></div></div></div></div></div></div><div class=\"sk-parallel-item\"><div class=\"sk-item\"><div class=\"sk-label-container\"><div class=\"sk-label sk-toggleable\"><input class=\"sk-toggleable__control sk-hidden--visually\" id=\"037e4bc5-a5eb-4522-b1ee-524e260fab3d\" type=\"checkbox\" ><label for=\"037e4bc5-a5eb-4522-b1ee-524e260fab3d\" class=\"sk-toggleable__label sk-toggleable__label-arrow\">remainder</label><div class=\"sk-toggleable__content\"><pre>[0, 1, 2, 3, 4, 5, 6, 7, 8, 9, 10, 11, 12, 13, 14, 19]</pre></div></div></div><div class=\"sk-serial\"><div class=\"sk-item\"><div class=\"sk-estimator sk-toggleable\"><input class=\"sk-toggleable__control sk-hidden--visually\" id=\"3e3fd3f2-91b6-466f-bef7-8748bdffac61\" type=\"checkbox\" ><label for=\"3e3fd3f2-91b6-466f-bef7-8748bdffac61\" class=\"sk-toggleable__label sk-toggleable__label-arrow\">passthrough</label><div class=\"sk-toggleable__content\"><pre>passthrough</pre></div></div></div></div></div></div></div></div><div class=\"sk-item\"><div class=\"sk-estimator sk-toggleable\"><input class=\"sk-toggleable__control sk-hidden--visually\" id=\"8d06c495-e101-4e4b-86bc-306e1d40f2c6\" type=\"checkbox\" ><label for=\"8d06c495-e101-4e4b-86bc-306e1d40f2c6\" class=\"sk-toggleable__label sk-toggleable__label-arrow\">SelectKBest</label><div class=\"sk-toggleable__content\"><pre>SelectKBest(score_func=&lt;function chi2 at 0x000002A0220CEAF0&gt;)</pre></div></div></div><div class=\"sk-item sk-dashed-wrapped\"><div class=\"sk-label-container\"><div class=\"sk-label sk-toggleable\"><input class=\"sk-toggleable__control sk-hidden--visually\" id=\"8a89f6e9-9eb0-4928-a7e1-b0733bdd438a\" type=\"checkbox\" ><label for=\"8a89f6e9-9eb0-4928-a7e1-b0733bdd438a\" class=\"sk-toggleable__label sk-toggleable__label-arrow\">train: GridSearchCV</label><div class=\"sk-toggleable__content\"><pre>GridSearchCV(estimator=DecisionTreeClassifier(),\n",
       "             param_grid={&#x27;max_depth&#x27;: [None, 1, 2, 3],\n",
       "                         &#x27;min_samples_split&#x27;: [2, 3, 4]})</pre></div></div></div><div class=\"sk-parallel\"><div class=\"sk-parallel-item\"><div class=\"sk-item\"><div class=\"sk-serial\"><div class=\"sk-item\"><div class=\"sk-estimator sk-toggleable\"><input class=\"sk-toggleable__control sk-hidden--visually\" id=\"02d4dcd4-9cbe-4b20-87c4-f09055e77c04\" type=\"checkbox\" ><label for=\"02d4dcd4-9cbe-4b20-87c4-f09055e77c04\" class=\"sk-toggleable__label sk-toggleable__label-arrow\">DecisionTreeClassifier</label><div class=\"sk-toggleable__content\"><pre>DecisionTreeClassifier()</pre></div></div></div></div></div></div></div></div></div></div></div></div>"
      ],
      "text/plain": [
       "Pipeline(steps=[('impute',\n",
       "                 ColumnTransformer(remainder='passthrough',\n",
       "                                   transformers=[('simpleimputer-1',\n",
       "                                                  SimpleImputer(strategy='most_frequent'),\n",
       "                                                  [0]),\n",
       "                                                 ('simpleimputer-2',\n",
       "                                                  SimpleImputer(strategy='most_frequent'),\n",
       "                                                  [1]),\n",
       "                                                 ('simpleimputer-3',\n",
       "                                                  SimpleImputer(strategy='most_frequent'),\n",
       "                                                  [2]),\n",
       "                                                 ('simpleimputer-4',\n",
       "                                                  SimpleImputer(strategy='most_frequent'),\n",
       "                                                  [3]),\n",
       "                                                 ('simpleimpu...\n",
       "                                                  OneHotEncoder(handle_unknown='ignore',\n",
       "                                                                sparse=False),\n",
       "                                                  [0, 1, 2, 3, 4, 10])])),\n",
       "                ('scale',\n",
       "                 ColumnTransformer(remainder='passthrough',\n",
       "                                   transformers=[('minmaxscaler',\n",
       "                                                  MinMaxScaler(),\n",
       "                                                  [-2, -3, -4, -5])])),\n",
       "                ('select',\n",
       "                 SelectKBest(score_func=<function chi2 at 0x000002A0220CEAF0>)),\n",
       "                ('train',\n",
       "                 GridSearchCV(estimator=DecisionTreeClassifier(),\n",
       "                              param_grid={'max_depth': [None, 1, 2, 3],\n",
       "                                          'min_samples_split': [2, 3, 4]}))])"
      ]
     },
     "execution_count": 25,
     "metadata": {},
     "output_type": "execute_result"
    }
   ],
   "source": [
    "# train the model\n",
    "dtpipe.fit(xtrain,ytrain)"
   ]
  },
  {
   "cell_type": "code",
   "execution_count": 26,
   "metadata": {},
   "outputs": [],
   "source": [
    "# Predict\n",
    "ypred = dtpipe.predict(xtest)"
   ]
  },
  {
   "cell_type": "code",
   "execution_count": 27,
   "metadata": {},
   "outputs": [
    {
     "data": {
      "text/plain": [
       "0.8536585365853658"
      ]
     },
     "execution_count": 27,
     "metadata": {},
     "output_type": "execute_result"
    }
   ],
   "source": [
    "from sklearn.metrics import accuracy_score\n",
    "accuracy_score(ytest,ypred)"
   ]
  },
  {
   "cell_type": "code",
   "execution_count": 28,
   "metadata": {},
   "outputs": [
    {
     "data": {
      "text/plain": [
       "{'max_depth': 1, 'min_samples_split': 2}"
      ]
     },
     "execution_count": 28,
     "metadata": {},
     "output_type": "execute_result"
    }
   ],
   "source": [
    "# to check the best parameters used by GridSearchCV\n",
    "dtpipe.named_steps['train'].best_params_"
   ]
  },
  {
   "cell_type": "markdown",
   "metadata": {
    "colab": {
     "base_uri": "https://localhost:8080/"
    },
    "id": "swWiCMPFJ2FZ",
    "outputId": "54a3fd25-017c-4671-8e3a-e4953f7e88ab"
   },
   "source": [
    "### Note:\n",
    "* #### The feature selection is affecting the accuracy of the model in this case. \n",
    "* #### We can also improve the accuracy by tuning the Decision Tree"
   ]
  },
  {
   "cell_type": "markdown",
   "metadata": {},
   "source": [
    "## Save the Model"
   ]
  },
  {
   "cell_type": "code",
   "execution_count": 29,
   "metadata": {},
   "outputs": [],
   "source": [
    "import pickle\n",
    "pickle.dump(dtpipe,open('pipe.pkl','wb'))"
   ]
  },
  {
   "cell_type": "markdown",
   "metadata": {
    "id": "wehUoyL_J2Fa"
   },
   "source": [
    "    "
   ]
  },
  {
   "cell_type": "markdown",
   "metadata": {},
   "source": [
    "## Cross Validation using Pipeline"
   ]
  },
  {
   "cell_type": "markdown",
   "metadata": {},
   "source": [
    "Cross validation can be used on the entire pipeline. \n",
    "Let' take for e.g. `for CV=5`\n",
    "1. First the xtrain is split into 5 pieces. 4/5th is used for training data and 1/5th is used for testing data.\n",
    "2. On the training data it does all steps from 1 to 4 and step 5 to fit the model.\n",
    "3. on the 1/5th testing data it does steps from 1 to 4 and uses the model to make predictions. And then it calculates the accuracy.\n",
    "4. This process is repeated 4 more times for other holds (since CV=5).\n",
    "5. The average accuracy score is returned."
   ]
  },
  {
   "cell_type": "code",
   "execution_count": 30,
   "metadata": {},
   "outputs": [
    {
     "data": {
      "text/plain": [
       "0.7984951556380129"
      ]
     },
     "execution_count": 30,
     "metadata": {},
     "output_type": "execute_result"
    }
   ],
   "source": [
    "# cross validation using cross_val_score\n",
    "from sklearn.model_selection import cross_val_score\n",
    "cross_val_score(dtpipe, xtrain, ytrain, cv=5, scoring='accuracy').mean()"
   ]
  },
  {
   "cell_type": "markdown",
   "metadata": {},
   "source": [
    "Here we have used only xtrain. However, CV is done on the entire dataset before train, test split. CV is prefered when the number of observations is too less. since we cannot afford a split with a smaller dataset.\n",
    "Since the random_state in train_test_split function can create different splits everytime resulting in different scores. That is why we use CV to perform that train_test_split in 5 different ways (with CV=5) and calculate mean score."
   ]
  },
  {
   "cell_type": "markdown",
   "metadata": {},
   "source": [
    "    "
   ]
  },
  {
   "cell_type": "markdown",
   "metadata": {},
   "source": [
    "## GridSearch using Pipeline\n",
    "\n",
    "For GridSearch we need the names of the transformers used in the pipe. That is why it is better to use Pipeline 1 syntax."
   ]
  },
  {
   "cell_type": "code",
   "execution_count": 31,
   "metadata": {},
   "outputs": [],
   "source": [
    "pipe = Pipeline([\n",
    "    ('impute',step1),\n",
    "    ('encode',step2),\n",
    "    ('scale',step3),\n",
    "    ('select',step4),\n",
    "    ('train',step5)\n",
    "])"
   ]
  },
  {
   "cell_type": "code",
   "execution_count": 32,
   "metadata": {},
   "outputs": [
    {
     "data": {
      "text/html": [
       "<style>#sk-3027bf6a-e435-4800-aab5-a906cbc4b842 {color: black;background-color: white;}#sk-3027bf6a-e435-4800-aab5-a906cbc4b842 pre{padding: 0;}#sk-3027bf6a-e435-4800-aab5-a906cbc4b842 div.sk-toggleable {background-color: white;}#sk-3027bf6a-e435-4800-aab5-a906cbc4b842 label.sk-toggleable__label {cursor: pointer;display: block;width: 100%;margin-bottom: 0;padding: 0.3em;box-sizing: border-box;text-align: center;}#sk-3027bf6a-e435-4800-aab5-a906cbc4b842 label.sk-toggleable__label-arrow:before {content: \"▸\";float: left;margin-right: 0.25em;color: #696969;}#sk-3027bf6a-e435-4800-aab5-a906cbc4b842 label.sk-toggleable__label-arrow:hover:before {color: black;}#sk-3027bf6a-e435-4800-aab5-a906cbc4b842 div.sk-estimator:hover label.sk-toggleable__label-arrow:before {color: black;}#sk-3027bf6a-e435-4800-aab5-a906cbc4b842 div.sk-toggleable__content {max-height: 0;max-width: 0;overflow: hidden;text-align: left;background-color: #f0f8ff;}#sk-3027bf6a-e435-4800-aab5-a906cbc4b842 div.sk-toggleable__content pre {margin: 0.2em;color: black;border-radius: 0.25em;background-color: #f0f8ff;}#sk-3027bf6a-e435-4800-aab5-a906cbc4b842 input.sk-toggleable__control:checked~div.sk-toggleable__content {max-height: 200px;max-width: 100%;overflow: auto;}#sk-3027bf6a-e435-4800-aab5-a906cbc4b842 input.sk-toggleable__control:checked~label.sk-toggleable__label-arrow:before {content: \"▾\";}#sk-3027bf6a-e435-4800-aab5-a906cbc4b842 div.sk-estimator input.sk-toggleable__control:checked~label.sk-toggleable__label {background-color: #d4ebff;}#sk-3027bf6a-e435-4800-aab5-a906cbc4b842 div.sk-label input.sk-toggleable__control:checked~label.sk-toggleable__label {background-color: #d4ebff;}#sk-3027bf6a-e435-4800-aab5-a906cbc4b842 input.sk-hidden--visually {border: 0;clip: rect(1px 1px 1px 1px);clip: rect(1px, 1px, 1px, 1px);height: 1px;margin: -1px;overflow: hidden;padding: 0;position: absolute;width: 1px;}#sk-3027bf6a-e435-4800-aab5-a906cbc4b842 div.sk-estimator {font-family: monospace;background-color: #f0f8ff;border: 1px dotted black;border-radius: 0.25em;box-sizing: border-box;margin-bottom: 0.5em;}#sk-3027bf6a-e435-4800-aab5-a906cbc4b842 div.sk-estimator:hover {background-color: #d4ebff;}#sk-3027bf6a-e435-4800-aab5-a906cbc4b842 div.sk-parallel-item::after {content: \"\";width: 100%;border-bottom: 1px solid gray;flex-grow: 1;}#sk-3027bf6a-e435-4800-aab5-a906cbc4b842 div.sk-label:hover label.sk-toggleable__label {background-color: #d4ebff;}#sk-3027bf6a-e435-4800-aab5-a906cbc4b842 div.sk-serial::before {content: \"\";position: absolute;border-left: 1px solid gray;box-sizing: border-box;top: 2em;bottom: 0;left: 50%;}#sk-3027bf6a-e435-4800-aab5-a906cbc4b842 div.sk-serial {display: flex;flex-direction: column;align-items: center;background-color: white;padding-right: 0.2em;padding-left: 0.2em;}#sk-3027bf6a-e435-4800-aab5-a906cbc4b842 div.sk-item {z-index: 1;}#sk-3027bf6a-e435-4800-aab5-a906cbc4b842 div.sk-parallel {display: flex;align-items: stretch;justify-content: center;background-color: white;}#sk-3027bf6a-e435-4800-aab5-a906cbc4b842 div.sk-parallel::before {content: \"\";position: absolute;border-left: 1px solid gray;box-sizing: border-box;top: 2em;bottom: 0;left: 50%;}#sk-3027bf6a-e435-4800-aab5-a906cbc4b842 div.sk-parallel-item {display: flex;flex-direction: column;position: relative;background-color: white;}#sk-3027bf6a-e435-4800-aab5-a906cbc4b842 div.sk-parallel-item:first-child::after {align-self: flex-end;width: 50%;}#sk-3027bf6a-e435-4800-aab5-a906cbc4b842 div.sk-parallel-item:last-child::after {align-self: flex-start;width: 50%;}#sk-3027bf6a-e435-4800-aab5-a906cbc4b842 div.sk-parallel-item:only-child::after {width: 0;}#sk-3027bf6a-e435-4800-aab5-a906cbc4b842 div.sk-dashed-wrapped {border: 1px dashed gray;margin: 0 0.4em 0.5em 0.4em;box-sizing: border-box;padding-bottom: 0.4em;background-color: white;position: relative;}#sk-3027bf6a-e435-4800-aab5-a906cbc4b842 div.sk-label label {font-family: monospace;font-weight: bold;background-color: white;display: inline-block;line-height: 1.2em;}#sk-3027bf6a-e435-4800-aab5-a906cbc4b842 div.sk-label-container {position: relative;z-index: 2;text-align: center;}#sk-3027bf6a-e435-4800-aab5-a906cbc4b842 div.sk-container {/* jupyter's `normalize.less` sets `[hidden] { display: none; }` but bootstrap.min.css set `[hidden] { display: none !important; }` so we also need the `!important` here to be able to override the default hidden behavior on the sphinx rendered scikit-learn.org. See: https://github.com/scikit-learn/scikit-learn/issues/21755 */display: inline-block !important;position: relative;}#sk-3027bf6a-e435-4800-aab5-a906cbc4b842 div.sk-text-repr-fallback {display: none;}</style><div id=\"sk-3027bf6a-e435-4800-aab5-a906cbc4b842\" class=\"sk-top-container\"><div class=\"sk-text-repr-fallback\"><pre>Pipeline(steps=[(&#x27;impute&#x27;,\n",
       "                 ColumnTransformer(remainder=&#x27;passthrough&#x27;,\n",
       "                                   transformers=[(&#x27;simpleimputer-1&#x27;,\n",
       "                                                  SimpleImputer(strategy=&#x27;most_frequent&#x27;),\n",
       "                                                  [0]),\n",
       "                                                 (&#x27;simpleimputer-2&#x27;,\n",
       "                                                  SimpleImputer(strategy=&#x27;most_frequent&#x27;),\n",
       "                                                  [1]),\n",
       "                                                 (&#x27;simpleimputer-3&#x27;,\n",
       "                                                  SimpleImputer(strategy=&#x27;most_frequent&#x27;),\n",
       "                                                  [2]),\n",
       "                                                 (&#x27;simpleimputer-4&#x27;,\n",
       "                                                  SimpleImputer(strategy=&#x27;most_frequent&#x27;),\n",
       "                                                  [3]),\n",
       "                                                 (&#x27;simpleimpu...\n",
       "                                                  OneHotEncoder(handle_unknown=&#x27;ignore&#x27;,\n",
       "                                                                sparse=False),\n",
       "                                                  [0, 1, 2, 3, 4, 10])])),\n",
       "                (&#x27;scale&#x27;,\n",
       "                 ColumnTransformer(remainder=&#x27;passthrough&#x27;,\n",
       "                                   transformers=[(&#x27;minmaxscaler&#x27;,\n",
       "                                                  MinMaxScaler(),\n",
       "                                                  [-2, -3, -4, -5])])),\n",
       "                (&#x27;select&#x27;,\n",
       "                 SelectKBest(score_func=&lt;function chi2 at 0x000002A0220CEAF0&gt;)),\n",
       "                (&#x27;train&#x27;,\n",
       "                 GridSearchCV(estimator=DecisionTreeClassifier(),\n",
       "                              param_grid={&#x27;max_depth&#x27;: [None, 1, 2, 3],\n",
       "                                          &#x27;min_samples_split&#x27;: [2, 3, 4]}))])</pre><b>Please rerun this cell to show the HTML repr or trust the notebook.</b></div><div class=\"sk-container\" hidden><div class=\"sk-item sk-dashed-wrapped\"><div class=\"sk-label-container\"><div class=\"sk-label sk-toggleable\"><input class=\"sk-toggleable__control sk-hidden--visually\" id=\"8e3f06ae-c682-46c4-a75a-5afb09f852f2\" type=\"checkbox\" ><label for=\"8e3f06ae-c682-46c4-a75a-5afb09f852f2\" class=\"sk-toggleable__label sk-toggleable__label-arrow\">Pipeline</label><div class=\"sk-toggleable__content\"><pre>Pipeline(steps=[(&#x27;impute&#x27;,\n",
       "                 ColumnTransformer(remainder=&#x27;passthrough&#x27;,\n",
       "                                   transformers=[(&#x27;simpleimputer-1&#x27;,\n",
       "                                                  SimpleImputer(strategy=&#x27;most_frequent&#x27;),\n",
       "                                                  [0]),\n",
       "                                                 (&#x27;simpleimputer-2&#x27;,\n",
       "                                                  SimpleImputer(strategy=&#x27;most_frequent&#x27;),\n",
       "                                                  [1]),\n",
       "                                                 (&#x27;simpleimputer-3&#x27;,\n",
       "                                                  SimpleImputer(strategy=&#x27;most_frequent&#x27;),\n",
       "                                                  [2]),\n",
       "                                                 (&#x27;simpleimputer-4&#x27;,\n",
       "                                                  SimpleImputer(strategy=&#x27;most_frequent&#x27;),\n",
       "                                                  [3]),\n",
       "                                                 (&#x27;simpleimpu...\n",
       "                                                  OneHotEncoder(handle_unknown=&#x27;ignore&#x27;,\n",
       "                                                                sparse=False),\n",
       "                                                  [0, 1, 2, 3, 4, 10])])),\n",
       "                (&#x27;scale&#x27;,\n",
       "                 ColumnTransformer(remainder=&#x27;passthrough&#x27;,\n",
       "                                   transformers=[(&#x27;minmaxscaler&#x27;,\n",
       "                                                  MinMaxScaler(),\n",
       "                                                  [-2, -3, -4, -5])])),\n",
       "                (&#x27;select&#x27;,\n",
       "                 SelectKBest(score_func=&lt;function chi2 at 0x000002A0220CEAF0&gt;)),\n",
       "                (&#x27;train&#x27;,\n",
       "                 GridSearchCV(estimator=DecisionTreeClassifier(),\n",
       "                              param_grid={&#x27;max_depth&#x27;: [None, 1, 2, 3],\n",
       "                                          &#x27;min_samples_split&#x27;: [2, 3, 4]}))])</pre></div></div></div><div class=\"sk-serial\"><div class=\"sk-item sk-dashed-wrapped\"><div class=\"sk-label-container\"><div class=\"sk-label sk-toggleable\"><input class=\"sk-toggleable__control sk-hidden--visually\" id=\"2b6ee5b8-aa3f-45fd-9dc5-53fe8c9e0538\" type=\"checkbox\" ><label for=\"2b6ee5b8-aa3f-45fd-9dc5-53fe8c9e0538\" class=\"sk-toggleable__label sk-toggleable__label-arrow\">impute: ColumnTransformer</label><div class=\"sk-toggleable__content\"><pre>ColumnTransformer(remainder=&#x27;passthrough&#x27;,\n",
       "                  transformers=[(&#x27;simpleimputer-1&#x27;,\n",
       "                                 SimpleImputer(strategy=&#x27;most_frequent&#x27;), [0]),\n",
       "                                (&#x27;simpleimputer-2&#x27;,\n",
       "                                 SimpleImputer(strategy=&#x27;most_frequent&#x27;), [1]),\n",
       "                                (&#x27;simpleimputer-3&#x27;,\n",
       "                                 SimpleImputer(strategy=&#x27;most_frequent&#x27;), [2]),\n",
       "                                (&#x27;simpleimputer-4&#x27;,\n",
       "                                 SimpleImputer(strategy=&#x27;most_frequent&#x27;), [3]),\n",
       "                                (&#x27;simpleimputer-5&#x27;,\n",
       "                                 SimpleImputer(strat...\n",
       "                                (&#x27;simpleimputer-6&#x27;,\n",
       "                                 SimpleImputer(strategy=&#x27;median&#x27;), [5]),\n",
       "                                (&#x27;simpleimputer-7&#x27;,\n",
       "                                 SimpleImputer(strategy=&#x27;median&#x27;), [6]),\n",
       "                                (&#x27;simpleimputer-8&#x27;,\n",
       "                                 SimpleImputer(strategy=&#x27;median&#x27;), [7]),\n",
       "                                (&#x27;simpleimputer-9&#x27;,\n",
       "                                 SimpleImputer(strategy=&#x27;most_frequent&#x27;), [8]),\n",
       "                                (&#x27;simpleimputer-10&#x27;,\n",
       "                                 SimpleImputer(strategy=&#x27;most_frequent&#x27;), [9]),\n",
       "                                (&#x27;simpleimputer-11&#x27;,\n",
       "                                 SimpleImputer(strategy=&#x27;most_frequent&#x27;),\n",
       "                                 [10])])</pre></div></div></div><div class=\"sk-parallel\"><div class=\"sk-parallel-item\"><div class=\"sk-item\"><div class=\"sk-label-container\"><div class=\"sk-label sk-toggleable\"><input class=\"sk-toggleable__control sk-hidden--visually\" id=\"5ac386aa-ff6e-49c9-82c8-24d787ebc44d\" type=\"checkbox\" ><label for=\"5ac386aa-ff6e-49c9-82c8-24d787ebc44d\" class=\"sk-toggleable__label sk-toggleable__label-arrow\">simpleimputer-1</label><div class=\"sk-toggleable__content\"><pre>[0]</pre></div></div></div><div class=\"sk-serial\"><div class=\"sk-item\"><div class=\"sk-estimator sk-toggleable\"><input class=\"sk-toggleable__control sk-hidden--visually\" id=\"facfeb06-9a7f-45c7-87b8-a1a812c0ee7c\" type=\"checkbox\" ><label for=\"facfeb06-9a7f-45c7-87b8-a1a812c0ee7c\" class=\"sk-toggleable__label sk-toggleable__label-arrow\">SimpleImputer</label><div class=\"sk-toggleable__content\"><pre>SimpleImputer(strategy=&#x27;most_frequent&#x27;)</pre></div></div></div></div></div></div><div class=\"sk-parallel-item\"><div class=\"sk-item\"><div class=\"sk-label-container\"><div class=\"sk-label sk-toggleable\"><input class=\"sk-toggleable__control sk-hidden--visually\" id=\"0866b348-1282-441c-a14d-c8a696936c4c\" type=\"checkbox\" ><label for=\"0866b348-1282-441c-a14d-c8a696936c4c\" class=\"sk-toggleable__label sk-toggleable__label-arrow\">simpleimputer-2</label><div class=\"sk-toggleable__content\"><pre>[1]</pre></div></div></div><div class=\"sk-serial\"><div class=\"sk-item\"><div class=\"sk-estimator sk-toggleable\"><input class=\"sk-toggleable__control sk-hidden--visually\" id=\"f545d378-7a0e-4c9b-8ef8-f6fd16f6ea4d\" type=\"checkbox\" ><label for=\"f545d378-7a0e-4c9b-8ef8-f6fd16f6ea4d\" class=\"sk-toggleable__label sk-toggleable__label-arrow\">SimpleImputer</label><div class=\"sk-toggleable__content\"><pre>SimpleImputer(strategy=&#x27;most_frequent&#x27;)</pre></div></div></div></div></div></div><div class=\"sk-parallel-item\"><div class=\"sk-item\"><div class=\"sk-label-container\"><div class=\"sk-label sk-toggleable\"><input class=\"sk-toggleable__control sk-hidden--visually\" id=\"aa8d6c64-15c2-4437-974d-6eedb5195b62\" type=\"checkbox\" ><label for=\"aa8d6c64-15c2-4437-974d-6eedb5195b62\" class=\"sk-toggleable__label sk-toggleable__label-arrow\">simpleimputer-3</label><div class=\"sk-toggleable__content\"><pre>[2]</pre></div></div></div><div class=\"sk-serial\"><div class=\"sk-item\"><div class=\"sk-estimator sk-toggleable\"><input class=\"sk-toggleable__control sk-hidden--visually\" id=\"2d5a6e25-9b31-4ad0-ba8e-ea9aa0c58101\" type=\"checkbox\" ><label for=\"2d5a6e25-9b31-4ad0-ba8e-ea9aa0c58101\" class=\"sk-toggleable__label sk-toggleable__label-arrow\">SimpleImputer</label><div class=\"sk-toggleable__content\"><pre>SimpleImputer(strategy=&#x27;most_frequent&#x27;)</pre></div></div></div></div></div></div><div class=\"sk-parallel-item\"><div class=\"sk-item\"><div class=\"sk-label-container\"><div class=\"sk-label sk-toggleable\"><input class=\"sk-toggleable__control sk-hidden--visually\" id=\"0ff2e85e-0b7c-45f2-b70b-1526546ca8d5\" type=\"checkbox\" ><label for=\"0ff2e85e-0b7c-45f2-b70b-1526546ca8d5\" class=\"sk-toggleable__label sk-toggleable__label-arrow\">simpleimputer-4</label><div class=\"sk-toggleable__content\"><pre>[3]</pre></div></div></div><div class=\"sk-serial\"><div class=\"sk-item\"><div class=\"sk-estimator sk-toggleable\"><input class=\"sk-toggleable__control sk-hidden--visually\" id=\"115cbd04-4e1b-4db9-b2bf-5b7f6755162c\" type=\"checkbox\" ><label for=\"115cbd04-4e1b-4db9-b2bf-5b7f6755162c\" class=\"sk-toggleable__label sk-toggleable__label-arrow\">SimpleImputer</label><div class=\"sk-toggleable__content\"><pre>SimpleImputer(strategy=&#x27;most_frequent&#x27;)</pre></div></div></div></div></div></div><div class=\"sk-parallel-item\"><div class=\"sk-item\"><div class=\"sk-label-container\"><div class=\"sk-label sk-toggleable\"><input class=\"sk-toggleable__control sk-hidden--visually\" id=\"f83eb752-07ad-4e19-ab51-1618c3683af2\" type=\"checkbox\" ><label for=\"f83eb752-07ad-4e19-ab51-1618c3683af2\" class=\"sk-toggleable__label sk-toggleable__label-arrow\">simpleimputer-5</label><div class=\"sk-toggleable__content\"><pre>[4]</pre></div></div></div><div class=\"sk-serial\"><div class=\"sk-item\"><div class=\"sk-estimator sk-toggleable\"><input class=\"sk-toggleable__control sk-hidden--visually\" id=\"b6442363-b03d-458f-bdbd-fc469f513f12\" type=\"checkbox\" ><label for=\"b6442363-b03d-458f-bdbd-fc469f513f12\" class=\"sk-toggleable__label sk-toggleable__label-arrow\">SimpleImputer</label><div class=\"sk-toggleable__content\"><pre>SimpleImputer(strategy=&#x27;most_frequent&#x27;)</pre></div></div></div></div></div></div><div class=\"sk-parallel-item\"><div class=\"sk-item\"><div class=\"sk-label-container\"><div class=\"sk-label sk-toggleable\"><input class=\"sk-toggleable__control sk-hidden--visually\" id=\"8870615f-c477-4c9c-a412-1bbfb25506ab\" type=\"checkbox\" ><label for=\"8870615f-c477-4c9c-a412-1bbfb25506ab\" class=\"sk-toggleable__label sk-toggleable__label-arrow\">simpleimputer-6</label><div class=\"sk-toggleable__content\"><pre>[5]</pre></div></div></div><div class=\"sk-serial\"><div class=\"sk-item\"><div class=\"sk-estimator sk-toggleable\"><input class=\"sk-toggleable__control sk-hidden--visually\" id=\"448be59e-3d98-46c9-bce4-01610e1d382b\" type=\"checkbox\" ><label for=\"448be59e-3d98-46c9-bce4-01610e1d382b\" class=\"sk-toggleable__label sk-toggleable__label-arrow\">SimpleImputer</label><div class=\"sk-toggleable__content\"><pre>SimpleImputer(strategy=&#x27;median&#x27;)</pre></div></div></div></div></div></div><div class=\"sk-parallel-item\"><div class=\"sk-item\"><div class=\"sk-label-container\"><div class=\"sk-label sk-toggleable\"><input class=\"sk-toggleable__control sk-hidden--visually\" id=\"5dc45af1-869f-4283-8932-e333e091357e\" type=\"checkbox\" ><label for=\"5dc45af1-869f-4283-8932-e333e091357e\" class=\"sk-toggleable__label sk-toggleable__label-arrow\">simpleimputer-7</label><div class=\"sk-toggleable__content\"><pre>[6]</pre></div></div></div><div class=\"sk-serial\"><div class=\"sk-item\"><div class=\"sk-estimator sk-toggleable\"><input class=\"sk-toggleable__control sk-hidden--visually\" id=\"15e3758d-b955-4a12-b231-436d5bac62c6\" type=\"checkbox\" ><label for=\"15e3758d-b955-4a12-b231-436d5bac62c6\" class=\"sk-toggleable__label sk-toggleable__label-arrow\">SimpleImputer</label><div class=\"sk-toggleable__content\"><pre>SimpleImputer(strategy=&#x27;median&#x27;)</pre></div></div></div></div></div></div><div class=\"sk-parallel-item\"><div class=\"sk-item\"><div class=\"sk-label-container\"><div class=\"sk-label sk-toggleable\"><input class=\"sk-toggleable__control sk-hidden--visually\" id=\"1c654808-7d81-43e9-8af3-e22b7d76d030\" type=\"checkbox\" ><label for=\"1c654808-7d81-43e9-8af3-e22b7d76d030\" class=\"sk-toggleable__label sk-toggleable__label-arrow\">simpleimputer-8</label><div class=\"sk-toggleable__content\"><pre>[7]</pre></div></div></div><div class=\"sk-serial\"><div class=\"sk-item\"><div class=\"sk-estimator sk-toggleable\"><input class=\"sk-toggleable__control sk-hidden--visually\" id=\"bb5e482b-cf7f-4ae2-8dc9-38a14c06b8d1\" type=\"checkbox\" ><label for=\"bb5e482b-cf7f-4ae2-8dc9-38a14c06b8d1\" class=\"sk-toggleable__label sk-toggleable__label-arrow\">SimpleImputer</label><div class=\"sk-toggleable__content\"><pre>SimpleImputer(strategy=&#x27;median&#x27;)</pre></div></div></div></div></div></div><div class=\"sk-parallel-item\"><div class=\"sk-item\"><div class=\"sk-label-container\"><div class=\"sk-label sk-toggleable\"><input class=\"sk-toggleable__control sk-hidden--visually\" id=\"06ac4da5-afb3-4a91-8c0d-0d7ba56bf6ec\" type=\"checkbox\" ><label for=\"06ac4da5-afb3-4a91-8c0d-0d7ba56bf6ec\" class=\"sk-toggleable__label sk-toggleable__label-arrow\">simpleimputer-9</label><div class=\"sk-toggleable__content\"><pre>[8]</pre></div></div></div><div class=\"sk-serial\"><div class=\"sk-item\"><div class=\"sk-estimator sk-toggleable\"><input class=\"sk-toggleable__control sk-hidden--visually\" id=\"fad0793e-4587-4427-99a3-f509f3746462\" type=\"checkbox\" ><label for=\"fad0793e-4587-4427-99a3-f509f3746462\" class=\"sk-toggleable__label sk-toggleable__label-arrow\">SimpleImputer</label><div class=\"sk-toggleable__content\"><pre>SimpleImputer(strategy=&#x27;most_frequent&#x27;)</pre></div></div></div></div></div></div><div class=\"sk-parallel-item\"><div class=\"sk-item\"><div class=\"sk-label-container\"><div class=\"sk-label sk-toggleable\"><input class=\"sk-toggleable__control sk-hidden--visually\" id=\"597582b8-b65f-4fc5-8c62-2df67a24cf68\" type=\"checkbox\" ><label for=\"597582b8-b65f-4fc5-8c62-2df67a24cf68\" class=\"sk-toggleable__label sk-toggleable__label-arrow\">simpleimputer-10</label><div class=\"sk-toggleable__content\"><pre>[9]</pre></div></div></div><div class=\"sk-serial\"><div class=\"sk-item\"><div class=\"sk-estimator sk-toggleable\"><input class=\"sk-toggleable__control sk-hidden--visually\" id=\"83f1ffb8-717e-41a0-900b-156a3eb15e37\" type=\"checkbox\" ><label for=\"83f1ffb8-717e-41a0-900b-156a3eb15e37\" class=\"sk-toggleable__label sk-toggleable__label-arrow\">SimpleImputer</label><div class=\"sk-toggleable__content\"><pre>SimpleImputer(strategy=&#x27;most_frequent&#x27;)</pre></div></div></div></div></div></div><div class=\"sk-parallel-item\"><div class=\"sk-item\"><div class=\"sk-label-container\"><div class=\"sk-label sk-toggleable\"><input class=\"sk-toggleable__control sk-hidden--visually\" id=\"610cd12e-a09a-44b0-8804-cc9e70777e2c\" type=\"checkbox\" ><label for=\"610cd12e-a09a-44b0-8804-cc9e70777e2c\" class=\"sk-toggleable__label sk-toggleable__label-arrow\">simpleimputer-11</label><div class=\"sk-toggleable__content\"><pre>[10]</pre></div></div></div><div class=\"sk-serial\"><div class=\"sk-item\"><div class=\"sk-estimator sk-toggleable\"><input class=\"sk-toggleable__control sk-hidden--visually\" id=\"bec61193-77b2-49f4-af4b-b8fa83221567\" type=\"checkbox\" ><label for=\"bec61193-77b2-49f4-af4b-b8fa83221567\" class=\"sk-toggleable__label sk-toggleable__label-arrow\">SimpleImputer</label><div class=\"sk-toggleable__content\"><pre>SimpleImputer(strategy=&#x27;most_frequent&#x27;)</pre></div></div></div></div></div></div><div class=\"sk-parallel-item\"><div class=\"sk-item\"><div class=\"sk-label-container\"><div class=\"sk-label sk-toggleable\"><input class=\"sk-toggleable__control sk-hidden--visually\" id=\"a0459cb9-e3ec-4e9c-8f97-86456ef46c75\" type=\"checkbox\" ><label for=\"a0459cb9-e3ec-4e9c-8f97-86456ef46c75\" class=\"sk-toggleable__label sk-toggleable__label-arrow\">remainder</label><div class=\"sk-toggleable__content\"><pre>[]</pre></div></div></div><div class=\"sk-serial\"><div class=\"sk-item\"><div class=\"sk-estimator sk-toggleable\"><input class=\"sk-toggleable__control sk-hidden--visually\" id=\"7abb65b8-5411-4350-8b3b-c087da735d75\" type=\"checkbox\" ><label for=\"7abb65b8-5411-4350-8b3b-c087da735d75\" class=\"sk-toggleable__label sk-toggleable__label-arrow\">passthrough</label><div class=\"sk-toggleable__content\"><pre>passthrough</pre></div></div></div></div></div></div></div></div><div class=\"sk-item sk-dashed-wrapped\"><div class=\"sk-label-container\"><div class=\"sk-label sk-toggleable\"><input class=\"sk-toggleable__control sk-hidden--visually\" id=\"3df5fc81-1c42-4dd8-8f26-b9749bc70789\" type=\"checkbox\" ><label for=\"3df5fc81-1c42-4dd8-8f26-b9749bc70789\" class=\"sk-toggleable__label sk-toggleable__label-arrow\">encode: ColumnTransformer</label><div class=\"sk-toggleable__content\"><pre>ColumnTransformer(remainder=&#x27;passthrough&#x27;,\n",
       "                  transformers=[(&#x27;onehotencoder&#x27;,\n",
       "                                 OneHotEncoder(handle_unknown=&#x27;ignore&#x27;,\n",
       "                                               sparse=False),\n",
       "                                 [0, 1, 2, 3, 4, 10])])</pre></div></div></div><div class=\"sk-parallel\"><div class=\"sk-parallel-item\"><div class=\"sk-item\"><div class=\"sk-label-container\"><div class=\"sk-label sk-toggleable\"><input class=\"sk-toggleable__control sk-hidden--visually\" id=\"96ccec2b-8944-426e-9a18-6b59f1f51623\" type=\"checkbox\" ><label for=\"96ccec2b-8944-426e-9a18-6b59f1f51623\" class=\"sk-toggleable__label sk-toggleable__label-arrow\">onehotencoder</label><div class=\"sk-toggleable__content\"><pre>[0, 1, 2, 3, 4, 10]</pre></div></div></div><div class=\"sk-serial\"><div class=\"sk-item\"><div class=\"sk-estimator sk-toggleable\"><input class=\"sk-toggleable__control sk-hidden--visually\" id=\"263a2e41-e0ab-4a60-aac1-3902865826b2\" type=\"checkbox\" ><label for=\"263a2e41-e0ab-4a60-aac1-3902865826b2\" class=\"sk-toggleable__label sk-toggleable__label-arrow\">OneHotEncoder</label><div class=\"sk-toggleable__content\"><pre>OneHotEncoder(handle_unknown=&#x27;ignore&#x27;, sparse=False)</pre></div></div></div></div></div></div><div class=\"sk-parallel-item\"><div class=\"sk-item\"><div class=\"sk-label-container\"><div class=\"sk-label sk-toggleable\"><input class=\"sk-toggleable__control sk-hidden--visually\" id=\"9aeee660-af05-499f-abaa-762b6cf1be33\" type=\"checkbox\" ><label for=\"9aeee660-af05-499f-abaa-762b6cf1be33\" class=\"sk-toggleable__label sk-toggleable__label-arrow\">remainder</label><div class=\"sk-toggleable__content\"><pre>[5, 6, 7, 8, 9]</pre></div></div></div><div class=\"sk-serial\"><div class=\"sk-item\"><div class=\"sk-estimator sk-toggleable\"><input class=\"sk-toggleable__control sk-hidden--visually\" id=\"240debc1-50f3-43ca-b7ad-ff83ade0b6c8\" type=\"checkbox\" ><label for=\"240debc1-50f3-43ca-b7ad-ff83ade0b6c8\" class=\"sk-toggleable__label sk-toggleable__label-arrow\">passthrough</label><div class=\"sk-toggleable__content\"><pre>passthrough</pre></div></div></div></div></div></div></div></div><div class=\"sk-item sk-dashed-wrapped\"><div class=\"sk-label-container\"><div class=\"sk-label sk-toggleable\"><input class=\"sk-toggleable__control sk-hidden--visually\" id=\"ce44ce63-5b71-4011-8d2b-ab15e108db0d\" type=\"checkbox\" ><label for=\"ce44ce63-5b71-4011-8d2b-ab15e108db0d\" class=\"sk-toggleable__label sk-toggleable__label-arrow\">scale: ColumnTransformer</label><div class=\"sk-toggleable__content\"><pre>ColumnTransformer(remainder=&#x27;passthrough&#x27;,\n",
       "                  transformers=[(&#x27;minmaxscaler&#x27;, MinMaxScaler(),\n",
       "                                 [-2, -3, -4, -5])])</pre></div></div></div><div class=\"sk-parallel\"><div class=\"sk-parallel-item\"><div class=\"sk-item\"><div class=\"sk-label-container\"><div class=\"sk-label sk-toggleable\"><input class=\"sk-toggleable__control sk-hidden--visually\" id=\"5805e2de-0da9-4c55-b3b0-505ee4ac7f52\" type=\"checkbox\" ><label for=\"5805e2de-0da9-4c55-b3b0-505ee4ac7f52\" class=\"sk-toggleable__label sk-toggleable__label-arrow\">minmaxscaler</label><div class=\"sk-toggleable__content\"><pre>[-2, -3, -4, -5]</pre></div></div></div><div class=\"sk-serial\"><div class=\"sk-item\"><div class=\"sk-estimator sk-toggleable\"><input class=\"sk-toggleable__control sk-hidden--visually\" id=\"cc6a8437-cb6d-48fd-b948-b49a3e768020\" type=\"checkbox\" ><label for=\"cc6a8437-cb6d-48fd-b948-b49a3e768020\" class=\"sk-toggleable__label sk-toggleable__label-arrow\">MinMaxScaler</label><div class=\"sk-toggleable__content\"><pre>MinMaxScaler()</pre></div></div></div></div></div></div><div class=\"sk-parallel-item\"><div class=\"sk-item\"><div class=\"sk-label-container\"><div class=\"sk-label sk-toggleable\"><input class=\"sk-toggleable__control sk-hidden--visually\" id=\"6242d4bd-e8d5-497c-939a-2785d8eaf3a1\" type=\"checkbox\" ><label for=\"6242d4bd-e8d5-497c-939a-2785d8eaf3a1\" class=\"sk-toggleable__label sk-toggleable__label-arrow\">remainder</label><div class=\"sk-toggleable__content\"><pre>[0, 1, 2, 3, 4, 5, 6, 7, 8, 9, 10, 11, 12, 13, 14, 19]</pre></div></div></div><div class=\"sk-serial\"><div class=\"sk-item\"><div class=\"sk-estimator sk-toggleable\"><input class=\"sk-toggleable__control sk-hidden--visually\" id=\"78473513-fef8-4da1-8d90-f0ce55f03ffe\" type=\"checkbox\" ><label for=\"78473513-fef8-4da1-8d90-f0ce55f03ffe\" class=\"sk-toggleable__label sk-toggleable__label-arrow\">passthrough</label><div class=\"sk-toggleable__content\"><pre>passthrough</pre></div></div></div></div></div></div></div></div><div class=\"sk-item\"><div class=\"sk-estimator sk-toggleable\"><input class=\"sk-toggleable__control sk-hidden--visually\" id=\"4c7d34ae-5d10-4632-a390-f4d2971df19d\" type=\"checkbox\" ><label for=\"4c7d34ae-5d10-4632-a390-f4d2971df19d\" class=\"sk-toggleable__label sk-toggleable__label-arrow\">SelectKBest</label><div class=\"sk-toggleable__content\"><pre>SelectKBest(score_func=&lt;function chi2 at 0x000002A0220CEAF0&gt;)</pre></div></div></div><div class=\"sk-item sk-dashed-wrapped\"><div class=\"sk-label-container\"><div class=\"sk-label sk-toggleable\"><input class=\"sk-toggleable__control sk-hidden--visually\" id=\"b128da7f-9ca7-4437-9030-dbf5b6f484cb\" type=\"checkbox\" ><label for=\"b128da7f-9ca7-4437-9030-dbf5b6f484cb\" class=\"sk-toggleable__label sk-toggleable__label-arrow\">train: GridSearchCV</label><div class=\"sk-toggleable__content\"><pre>GridSearchCV(estimator=DecisionTreeClassifier(),\n",
       "             param_grid={&#x27;max_depth&#x27;: [None, 1, 2, 3],\n",
       "                         &#x27;min_samples_split&#x27;: [2, 3, 4]})</pre></div></div></div><div class=\"sk-parallel\"><div class=\"sk-parallel-item\"><div class=\"sk-item\"><div class=\"sk-serial\"><div class=\"sk-item\"><div class=\"sk-estimator sk-toggleable\"><input class=\"sk-toggleable__control sk-hidden--visually\" id=\"bcaea7b9-5426-4f72-a51f-b1985ab7d602\" type=\"checkbox\" ><label for=\"bcaea7b9-5426-4f72-a51f-b1985ab7d602\" class=\"sk-toggleable__label sk-toggleable__label-arrow\">DecisionTreeClassifier</label><div class=\"sk-toggleable__content\"><pre>DecisionTreeClassifier()</pre></div></div></div></div></div></div></div></div></div></div></div></div>"
      ],
      "text/plain": [
       "Pipeline(steps=[('impute',\n",
       "                 ColumnTransformer(remainder='passthrough',\n",
       "                                   transformers=[('simpleimputer-1',\n",
       "                                                  SimpleImputer(strategy='most_frequent'),\n",
       "                                                  [0]),\n",
       "                                                 ('simpleimputer-2',\n",
       "                                                  SimpleImputer(strategy='most_frequent'),\n",
       "                                                  [1]),\n",
       "                                                 ('simpleimputer-3',\n",
       "                                                  SimpleImputer(strategy='most_frequent'),\n",
       "                                                  [2]),\n",
       "                                                 ('simpleimputer-4',\n",
       "                                                  SimpleImputer(strategy='most_frequent'),\n",
       "                                                  [3]),\n",
       "                                                 ('simpleimpu...\n",
       "                                                  OneHotEncoder(handle_unknown='ignore',\n",
       "                                                                sparse=False),\n",
       "                                                  [0, 1, 2, 3, 4, 10])])),\n",
       "                ('scale',\n",
       "                 ColumnTransformer(remainder='passthrough',\n",
       "                                   transformers=[('minmaxscaler',\n",
       "                                                  MinMaxScaler(),\n",
       "                                                  [-2, -3, -4, -5])])),\n",
       "                ('select',\n",
       "                 SelectKBest(score_func=<function chi2 at 0x000002A0220CEAF0>)),\n",
       "                ('train',\n",
       "                 GridSearchCV(estimator=DecisionTreeClassifier(),\n",
       "                              param_grid={'max_depth': [None, 1, 2, 3],\n",
       "                                          'min_samples_split': [2, 3, 4]}))])"
      ]
     },
     "execution_count": 32,
     "metadata": {},
     "output_type": "execute_result"
    }
   ],
   "source": [
    "pipe.fit(xtrain,ytrain)"
   ]
  },
  {
   "cell_type": "code",
   "execution_count": 33,
   "metadata": {},
   "outputs": [],
   "source": [
    "# we will try different values for parameters max_depth and min_samples_split of a tree\n",
    "params = { 'train__max_depth':[None,1,2,3],\n",
    "         'train__min_samples_split':[2,3,4]}"
   ]
  },
  {
   "cell_type": "code",
   "execution_count": 34,
   "metadata": {},
   "outputs": [
    {
     "ename": "ValueError",
     "evalue": "Invalid parameter max_depth for estimator GridSearchCV(estimator=DecisionTreeClassifier(),\n             param_grid={'max_depth': [None, 1, 2, 3],\n                         'min_samples_split': [2, 3, 4]}). Check the list of available parameters with `estimator.get_params().keys()`.",
     "output_type": "error",
     "traceback": [
      "\u001b[1;31m---------------------------------------------------------------------------\u001b[0m",
      "\u001b[1;31mValueError\u001b[0m                                Traceback (most recent call last)",
      "\u001b[1;32m~\\AppData\\Local\\Temp\\ipykernel_4208\\4008540881.py\u001b[0m in \u001b[0;36m<module>\u001b[1;34m\u001b[0m\n\u001b[0;32m      1\u001b[0m \u001b[1;32mfrom\u001b[0m \u001b[0msklearn\u001b[0m\u001b[1;33m.\u001b[0m\u001b[0mmodel_selection\u001b[0m \u001b[1;32mimport\u001b[0m \u001b[0mGridSearchCV\u001b[0m\u001b[1;33m\u001b[0m\u001b[1;33m\u001b[0m\u001b[0m\n\u001b[0;32m      2\u001b[0m \u001b[0mgrid\u001b[0m \u001b[1;33m=\u001b[0m \u001b[0mGridSearchCV\u001b[0m\u001b[1;33m(\u001b[0m\u001b[0mpipe\u001b[0m\u001b[1;33m,\u001b[0m \u001b[0mparams\u001b[0m\u001b[1;33m,\u001b[0m \u001b[0mcv\u001b[0m\u001b[1;33m=\u001b[0m\u001b[1;36m5\u001b[0m\u001b[1;33m,\u001b[0m \u001b[0mscoring\u001b[0m\u001b[1;33m=\u001b[0m\u001b[1;34m'accuracy'\u001b[0m\u001b[1;33m)\u001b[0m\u001b[1;33m\u001b[0m\u001b[1;33m\u001b[0m\u001b[0m\n\u001b[1;32m----> 3\u001b[1;33m \u001b[0mgrid\u001b[0m\u001b[1;33m.\u001b[0m\u001b[0mfit\u001b[0m\u001b[1;33m(\u001b[0m\u001b[0mxtrain\u001b[0m\u001b[1;33m,\u001b[0m \u001b[0mytrain\u001b[0m\u001b[1;33m)\u001b[0m\u001b[1;33m\u001b[0m\u001b[1;33m\u001b[0m\u001b[0m\n\u001b[0m",
      "\u001b[1;32m~\\anaconda3\\lib\\site-packages\\sklearn\\model_selection\\_search.py\u001b[0m in \u001b[0;36mfit\u001b[1;34m(self, X, y, groups, **fit_params)\u001b[0m\n\u001b[0;32m    889\u001b[0m                 \u001b[1;32mreturn\u001b[0m \u001b[0mresults\u001b[0m\u001b[1;33m\u001b[0m\u001b[1;33m\u001b[0m\u001b[0m\n\u001b[0;32m    890\u001b[0m \u001b[1;33m\u001b[0m\u001b[0m\n\u001b[1;32m--> 891\u001b[1;33m             \u001b[0mself\u001b[0m\u001b[1;33m.\u001b[0m\u001b[0m_run_search\u001b[0m\u001b[1;33m(\u001b[0m\u001b[0mevaluate_candidates\u001b[0m\u001b[1;33m)\u001b[0m\u001b[1;33m\u001b[0m\u001b[1;33m\u001b[0m\u001b[0m\n\u001b[0m\u001b[0;32m    892\u001b[0m \u001b[1;33m\u001b[0m\u001b[0m\n\u001b[0;32m    893\u001b[0m             \u001b[1;31m# multimetric is determined here because in the case of a callable\u001b[0m\u001b[1;33m\u001b[0m\u001b[1;33m\u001b[0m\u001b[0m\n",
      "\u001b[1;32m~\\anaconda3\\lib\\site-packages\\sklearn\\model_selection\\_search.py\u001b[0m in \u001b[0;36m_run_search\u001b[1;34m(self, evaluate_candidates)\u001b[0m\n\u001b[0;32m   1390\u001b[0m     \u001b[1;32mdef\u001b[0m \u001b[0m_run_search\u001b[0m\u001b[1;33m(\u001b[0m\u001b[0mself\u001b[0m\u001b[1;33m,\u001b[0m \u001b[0mevaluate_candidates\u001b[0m\u001b[1;33m)\u001b[0m\u001b[1;33m:\u001b[0m\u001b[1;33m\u001b[0m\u001b[1;33m\u001b[0m\u001b[0m\n\u001b[0;32m   1391\u001b[0m         \u001b[1;34m\"\"\"Search all candidates in param_grid\"\"\"\u001b[0m\u001b[1;33m\u001b[0m\u001b[1;33m\u001b[0m\u001b[0m\n\u001b[1;32m-> 1392\u001b[1;33m         \u001b[0mevaluate_candidates\u001b[0m\u001b[1;33m(\u001b[0m\u001b[0mParameterGrid\u001b[0m\u001b[1;33m(\u001b[0m\u001b[0mself\u001b[0m\u001b[1;33m.\u001b[0m\u001b[0mparam_grid\u001b[0m\u001b[1;33m)\u001b[0m\u001b[1;33m)\u001b[0m\u001b[1;33m\u001b[0m\u001b[1;33m\u001b[0m\u001b[0m\n\u001b[0m\u001b[0;32m   1393\u001b[0m \u001b[1;33m\u001b[0m\u001b[0m\n\u001b[0;32m   1394\u001b[0m \u001b[1;33m\u001b[0m\u001b[0m\n",
      "\u001b[1;32m~\\anaconda3\\lib\\site-packages\\sklearn\\model_selection\\_search.py\u001b[0m in \u001b[0;36mevaluate_candidates\u001b[1;34m(candidate_params, cv, more_results)\u001b[0m\n\u001b[0;32m    836\u001b[0m                     )\n\u001b[0;32m    837\u001b[0m \u001b[1;33m\u001b[0m\u001b[0m\n\u001b[1;32m--> 838\u001b[1;33m                 out = parallel(\n\u001b[0m\u001b[0;32m    839\u001b[0m                     delayed(_fit_and_score)(\n\u001b[0;32m    840\u001b[0m                         \u001b[0mclone\u001b[0m\u001b[1;33m(\u001b[0m\u001b[0mbase_estimator\u001b[0m\u001b[1;33m)\u001b[0m\u001b[1;33m,\u001b[0m\u001b[1;33m\u001b[0m\u001b[1;33m\u001b[0m\u001b[0m\n",
      "\u001b[1;32m~\\anaconda3\\lib\\site-packages\\joblib\\parallel.py\u001b[0m in \u001b[0;36m__call__\u001b[1;34m(self, iterable)\u001b[0m\n\u001b[0;32m   1041\u001b[0m             \u001b[1;31m# remaining jobs.\u001b[0m\u001b[1;33m\u001b[0m\u001b[1;33m\u001b[0m\u001b[0m\n\u001b[0;32m   1042\u001b[0m             \u001b[0mself\u001b[0m\u001b[1;33m.\u001b[0m\u001b[0m_iterating\u001b[0m \u001b[1;33m=\u001b[0m \u001b[1;32mFalse\u001b[0m\u001b[1;33m\u001b[0m\u001b[1;33m\u001b[0m\u001b[0m\n\u001b[1;32m-> 1043\u001b[1;33m             \u001b[1;32mif\u001b[0m \u001b[0mself\u001b[0m\u001b[1;33m.\u001b[0m\u001b[0mdispatch_one_batch\u001b[0m\u001b[1;33m(\u001b[0m\u001b[0miterator\u001b[0m\u001b[1;33m)\u001b[0m\u001b[1;33m:\u001b[0m\u001b[1;33m\u001b[0m\u001b[1;33m\u001b[0m\u001b[0m\n\u001b[0m\u001b[0;32m   1044\u001b[0m                 \u001b[0mself\u001b[0m\u001b[1;33m.\u001b[0m\u001b[0m_iterating\u001b[0m \u001b[1;33m=\u001b[0m \u001b[0mself\u001b[0m\u001b[1;33m.\u001b[0m\u001b[0m_original_iterator\u001b[0m \u001b[1;32mis\u001b[0m \u001b[1;32mnot\u001b[0m \u001b[1;32mNone\u001b[0m\u001b[1;33m\u001b[0m\u001b[1;33m\u001b[0m\u001b[0m\n\u001b[0;32m   1045\u001b[0m \u001b[1;33m\u001b[0m\u001b[0m\n",
      "\u001b[1;32m~\\anaconda3\\lib\\site-packages\\joblib\\parallel.py\u001b[0m in \u001b[0;36mdispatch_one_batch\u001b[1;34m(self, iterator)\u001b[0m\n\u001b[0;32m    859\u001b[0m                 \u001b[1;32mreturn\u001b[0m \u001b[1;32mFalse\u001b[0m\u001b[1;33m\u001b[0m\u001b[1;33m\u001b[0m\u001b[0m\n\u001b[0;32m    860\u001b[0m             \u001b[1;32melse\u001b[0m\u001b[1;33m:\u001b[0m\u001b[1;33m\u001b[0m\u001b[1;33m\u001b[0m\u001b[0m\n\u001b[1;32m--> 861\u001b[1;33m                 \u001b[0mself\u001b[0m\u001b[1;33m.\u001b[0m\u001b[0m_dispatch\u001b[0m\u001b[1;33m(\u001b[0m\u001b[0mtasks\u001b[0m\u001b[1;33m)\u001b[0m\u001b[1;33m\u001b[0m\u001b[1;33m\u001b[0m\u001b[0m\n\u001b[0m\u001b[0;32m    862\u001b[0m                 \u001b[1;32mreturn\u001b[0m \u001b[1;32mTrue\u001b[0m\u001b[1;33m\u001b[0m\u001b[1;33m\u001b[0m\u001b[0m\n\u001b[0;32m    863\u001b[0m \u001b[1;33m\u001b[0m\u001b[0m\n",
      "\u001b[1;32m~\\anaconda3\\lib\\site-packages\\joblib\\parallel.py\u001b[0m in \u001b[0;36m_dispatch\u001b[1;34m(self, batch)\u001b[0m\n\u001b[0;32m    777\u001b[0m         \u001b[1;32mwith\u001b[0m \u001b[0mself\u001b[0m\u001b[1;33m.\u001b[0m\u001b[0m_lock\u001b[0m\u001b[1;33m:\u001b[0m\u001b[1;33m\u001b[0m\u001b[1;33m\u001b[0m\u001b[0m\n\u001b[0;32m    778\u001b[0m             \u001b[0mjob_idx\u001b[0m \u001b[1;33m=\u001b[0m \u001b[0mlen\u001b[0m\u001b[1;33m(\u001b[0m\u001b[0mself\u001b[0m\u001b[1;33m.\u001b[0m\u001b[0m_jobs\u001b[0m\u001b[1;33m)\u001b[0m\u001b[1;33m\u001b[0m\u001b[1;33m\u001b[0m\u001b[0m\n\u001b[1;32m--> 779\u001b[1;33m             \u001b[0mjob\u001b[0m \u001b[1;33m=\u001b[0m \u001b[0mself\u001b[0m\u001b[1;33m.\u001b[0m\u001b[0m_backend\u001b[0m\u001b[1;33m.\u001b[0m\u001b[0mapply_async\u001b[0m\u001b[1;33m(\u001b[0m\u001b[0mbatch\u001b[0m\u001b[1;33m,\u001b[0m \u001b[0mcallback\u001b[0m\u001b[1;33m=\u001b[0m\u001b[0mcb\u001b[0m\u001b[1;33m)\u001b[0m\u001b[1;33m\u001b[0m\u001b[1;33m\u001b[0m\u001b[0m\n\u001b[0m\u001b[0;32m    780\u001b[0m             \u001b[1;31m# A job can complete so quickly than its callback is\u001b[0m\u001b[1;33m\u001b[0m\u001b[1;33m\u001b[0m\u001b[0m\n\u001b[0;32m    781\u001b[0m             \u001b[1;31m# called before we get here, causing self._jobs to\u001b[0m\u001b[1;33m\u001b[0m\u001b[1;33m\u001b[0m\u001b[0m\n",
      "\u001b[1;32m~\\anaconda3\\lib\\site-packages\\joblib\\_parallel_backends.py\u001b[0m in \u001b[0;36mapply_async\u001b[1;34m(self, func, callback)\u001b[0m\n\u001b[0;32m    206\u001b[0m     \u001b[1;32mdef\u001b[0m \u001b[0mapply_async\u001b[0m\u001b[1;33m(\u001b[0m\u001b[0mself\u001b[0m\u001b[1;33m,\u001b[0m \u001b[0mfunc\u001b[0m\u001b[1;33m,\u001b[0m \u001b[0mcallback\u001b[0m\u001b[1;33m=\u001b[0m\u001b[1;32mNone\u001b[0m\u001b[1;33m)\u001b[0m\u001b[1;33m:\u001b[0m\u001b[1;33m\u001b[0m\u001b[1;33m\u001b[0m\u001b[0m\n\u001b[0;32m    207\u001b[0m         \u001b[1;34m\"\"\"Schedule a func to be run\"\"\"\u001b[0m\u001b[1;33m\u001b[0m\u001b[1;33m\u001b[0m\u001b[0m\n\u001b[1;32m--> 208\u001b[1;33m         \u001b[0mresult\u001b[0m \u001b[1;33m=\u001b[0m \u001b[0mImmediateResult\u001b[0m\u001b[1;33m(\u001b[0m\u001b[0mfunc\u001b[0m\u001b[1;33m)\u001b[0m\u001b[1;33m\u001b[0m\u001b[1;33m\u001b[0m\u001b[0m\n\u001b[0m\u001b[0;32m    209\u001b[0m         \u001b[1;32mif\u001b[0m \u001b[0mcallback\u001b[0m\u001b[1;33m:\u001b[0m\u001b[1;33m\u001b[0m\u001b[1;33m\u001b[0m\u001b[0m\n\u001b[0;32m    210\u001b[0m             \u001b[0mcallback\u001b[0m\u001b[1;33m(\u001b[0m\u001b[0mresult\u001b[0m\u001b[1;33m)\u001b[0m\u001b[1;33m\u001b[0m\u001b[1;33m\u001b[0m\u001b[0m\n",
      "\u001b[1;32m~\\anaconda3\\lib\\site-packages\\joblib\\_parallel_backends.py\u001b[0m in \u001b[0;36m__init__\u001b[1;34m(self, batch)\u001b[0m\n\u001b[0;32m    570\u001b[0m         \u001b[1;31m# Don't delay the application, to avoid keeping the input\u001b[0m\u001b[1;33m\u001b[0m\u001b[1;33m\u001b[0m\u001b[0m\n\u001b[0;32m    571\u001b[0m         \u001b[1;31m# arguments in memory\u001b[0m\u001b[1;33m\u001b[0m\u001b[1;33m\u001b[0m\u001b[0m\n\u001b[1;32m--> 572\u001b[1;33m         \u001b[0mself\u001b[0m\u001b[1;33m.\u001b[0m\u001b[0mresults\u001b[0m \u001b[1;33m=\u001b[0m \u001b[0mbatch\u001b[0m\u001b[1;33m(\u001b[0m\u001b[1;33m)\u001b[0m\u001b[1;33m\u001b[0m\u001b[1;33m\u001b[0m\u001b[0m\n\u001b[0m\u001b[0;32m    573\u001b[0m \u001b[1;33m\u001b[0m\u001b[0m\n\u001b[0;32m    574\u001b[0m     \u001b[1;32mdef\u001b[0m \u001b[0mget\u001b[0m\u001b[1;33m(\u001b[0m\u001b[0mself\u001b[0m\u001b[1;33m)\u001b[0m\u001b[1;33m:\u001b[0m\u001b[1;33m\u001b[0m\u001b[1;33m\u001b[0m\u001b[0m\n",
      "\u001b[1;32m~\\anaconda3\\lib\\site-packages\\joblib\\parallel.py\u001b[0m in \u001b[0;36m__call__\u001b[1;34m(self)\u001b[0m\n\u001b[0;32m    260\u001b[0m         \u001b[1;31m# change the default number of processes to -1\u001b[0m\u001b[1;33m\u001b[0m\u001b[1;33m\u001b[0m\u001b[0m\n\u001b[0;32m    261\u001b[0m         \u001b[1;32mwith\u001b[0m \u001b[0mparallel_backend\u001b[0m\u001b[1;33m(\u001b[0m\u001b[0mself\u001b[0m\u001b[1;33m.\u001b[0m\u001b[0m_backend\u001b[0m\u001b[1;33m,\u001b[0m \u001b[0mn_jobs\u001b[0m\u001b[1;33m=\u001b[0m\u001b[0mself\u001b[0m\u001b[1;33m.\u001b[0m\u001b[0m_n_jobs\u001b[0m\u001b[1;33m)\u001b[0m\u001b[1;33m:\u001b[0m\u001b[1;33m\u001b[0m\u001b[1;33m\u001b[0m\u001b[0m\n\u001b[1;32m--> 262\u001b[1;33m             return [func(*args, **kwargs)\n\u001b[0m\u001b[0;32m    263\u001b[0m                     for func, args, kwargs in self.items]\n\u001b[0;32m    264\u001b[0m \u001b[1;33m\u001b[0m\u001b[0m\n",
      "\u001b[1;32m~\\anaconda3\\lib\\site-packages\\joblib\\parallel.py\u001b[0m in \u001b[0;36m<listcomp>\u001b[1;34m(.0)\u001b[0m\n\u001b[0;32m    260\u001b[0m         \u001b[1;31m# change the default number of processes to -1\u001b[0m\u001b[1;33m\u001b[0m\u001b[1;33m\u001b[0m\u001b[0m\n\u001b[0;32m    261\u001b[0m         \u001b[1;32mwith\u001b[0m \u001b[0mparallel_backend\u001b[0m\u001b[1;33m(\u001b[0m\u001b[0mself\u001b[0m\u001b[1;33m.\u001b[0m\u001b[0m_backend\u001b[0m\u001b[1;33m,\u001b[0m \u001b[0mn_jobs\u001b[0m\u001b[1;33m=\u001b[0m\u001b[0mself\u001b[0m\u001b[1;33m.\u001b[0m\u001b[0m_n_jobs\u001b[0m\u001b[1;33m)\u001b[0m\u001b[1;33m:\u001b[0m\u001b[1;33m\u001b[0m\u001b[1;33m\u001b[0m\u001b[0m\n\u001b[1;32m--> 262\u001b[1;33m             return [func(*args, **kwargs)\n\u001b[0m\u001b[0;32m    263\u001b[0m                     for func, args, kwargs in self.items]\n\u001b[0;32m    264\u001b[0m \u001b[1;33m\u001b[0m\u001b[0m\n",
      "\u001b[1;32m~\\anaconda3\\lib\\site-packages\\sklearn\\utils\\fixes.py\u001b[0m in \u001b[0;36m__call__\u001b[1;34m(self, *args, **kwargs)\u001b[0m\n\u001b[0;32m    214\u001b[0m     \u001b[1;32mdef\u001b[0m \u001b[0m__call__\u001b[0m\u001b[1;33m(\u001b[0m\u001b[0mself\u001b[0m\u001b[1;33m,\u001b[0m \u001b[1;33m*\u001b[0m\u001b[0margs\u001b[0m\u001b[1;33m,\u001b[0m \u001b[1;33m**\u001b[0m\u001b[0mkwargs\u001b[0m\u001b[1;33m)\u001b[0m\u001b[1;33m:\u001b[0m\u001b[1;33m\u001b[0m\u001b[1;33m\u001b[0m\u001b[0m\n\u001b[0;32m    215\u001b[0m         \u001b[1;32mwith\u001b[0m \u001b[0mconfig_context\u001b[0m\u001b[1;33m(\u001b[0m\u001b[1;33m**\u001b[0m\u001b[0mself\u001b[0m\u001b[1;33m.\u001b[0m\u001b[0mconfig\u001b[0m\u001b[1;33m)\u001b[0m\u001b[1;33m:\u001b[0m\u001b[1;33m\u001b[0m\u001b[1;33m\u001b[0m\u001b[0m\n\u001b[1;32m--> 216\u001b[1;33m             \u001b[1;32mreturn\u001b[0m \u001b[0mself\u001b[0m\u001b[1;33m.\u001b[0m\u001b[0mfunction\u001b[0m\u001b[1;33m(\u001b[0m\u001b[1;33m*\u001b[0m\u001b[0margs\u001b[0m\u001b[1;33m,\u001b[0m \u001b[1;33m**\u001b[0m\u001b[0mkwargs\u001b[0m\u001b[1;33m)\u001b[0m\u001b[1;33m\u001b[0m\u001b[1;33m\u001b[0m\u001b[0m\n\u001b[0m\u001b[0;32m    217\u001b[0m \u001b[1;33m\u001b[0m\u001b[0m\n\u001b[0;32m    218\u001b[0m \u001b[1;33m\u001b[0m\u001b[0m\n",
      "\u001b[1;32m~\\anaconda3\\lib\\site-packages\\sklearn\\model_selection\\_validation.py\u001b[0m in \u001b[0;36m_fit_and_score\u001b[1;34m(estimator, X, y, scorer, train, test, verbose, parameters, fit_params, return_train_score, return_parameters, return_n_test_samples, return_times, return_estimator, split_progress, candidate_progress, error_score)\u001b[0m\n\u001b[0;32m    666\u001b[0m             \u001b[0mcloned_parameters\u001b[0m\u001b[1;33m[\u001b[0m\u001b[0mk\u001b[0m\u001b[1;33m]\u001b[0m \u001b[1;33m=\u001b[0m \u001b[0mclone\u001b[0m\u001b[1;33m(\u001b[0m\u001b[0mv\u001b[0m\u001b[1;33m,\u001b[0m \u001b[0msafe\u001b[0m\u001b[1;33m=\u001b[0m\u001b[1;32mFalse\u001b[0m\u001b[1;33m)\u001b[0m\u001b[1;33m\u001b[0m\u001b[1;33m\u001b[0m\u001b[0m\n\u001b[0;32m    667\u001b[0m \u001b[1;33m\u001b[0m\u001b[0m\n\u001b[1;32m--> 668\u001b[1;33m         \u001b[0mestimator\u001b[0m \u001b[1;33m=\u001b[0m \u001b[0mestimator\u001b[0m\u001b[1;33m.\u001b[0m\u001b[0mset_params\u001b[0m\u001b[1;33m(\u001b[0m\u001b[1;33m**\u001b[0m\u001b[0mcloned_parameters\u001b[0m\u001b[1;33m)\u001b[0m\u001b[1;33m\u001b[0m\u001b[1;33m\u001b[0m\u001b[0m\n\u001b[0m\u001b[0;32m    669\u001b[0m \u001b[1;33m\u001b[0m\u001b[0m\n\u001b[0;32m    670\u001b[0m     \u001b[0mstart_time\u001b[0m \u001b[1;33m=\u001b[0m \u001b[0mtime\u001b[0m\u001b[1;33m.\u001b[0m\u001b[0mtime\u001b[0m\u001b[1;33m(\u001b[0m\u001b[1;33m)\u001b[0m\u001b[1;33m\u001b[0m\u001b[1;33m\u001b[0m\u001b[0m\n",
      "\u001b[1;32m~\\anaconda3\\lib\\site-packages\\sklearn\\pipeline.py\u001b[0m in \u001b[0;36mset_params\u001b[1;34m(self, **kwargs)\u001b[0m\n\u001b[0;32m    186\u001b[0m             \u001b[0mPipeline\u001b[0m \u001b[1;32mclass\u001b[0m \u001b[0minstance\u001b[0m\u001b[1;33m.\u001b[0m\u001b[1;33m\u001b[0m\u001b[1;33m\u001b[0m\u001b[0m\n\u001b[0;32m    187\u001b[0m         \"\"\"\n\u001b[1;32m--> 188\u001b[1;33m         \u001b[0mself\u001b[0m\u001b[1;33m.\u001b[0m\u001b[0m_set_params\u001b[0m\u001b[1;33m(\u001b[0m\u001b[1;34m\"steps\"\u001b[0m\u001b[1;33m,\u001b[0m \u001b[1;33m**\u001b[0m\u001b[0mkwargs\u001b[0m\u001b[1;33m)\u001b[0m\u001b[1;33m\u001b[0m\u001b[1;33m\u001b[0m\u001b[0m\n\u001b[0m\u001b[0;32m    189\u001b[0m         \u001b[1;32mreturn\u001b[0m \u001b[0mself\u001b[0m\u001b[1;33m\u001b[0m\u001b[1;33m\u001b[0m\u001b[0m\n\u001b[0;32m    190\u001b[0m \u001b[1;33m\u001b[0m\u001b[0m\n",
      "\u001b[1;32m~\\anaconda3\\lib\\site-packages\\sklearn\\utils\\metaestimators.py\u001b[0m in \u001b[0;36m_set_params\u001b[1;34m(self, attr, **params)\u001b[0m\n\u001b[0;32m     52\u001b[0m                 \u001b[0mself\u001b[0m\u001b[1;33m.\u001b[0m\u001b[0m_replace_estimator\u001b[0m\u001b[1;33m(\u001b[0m\u001b[0mattr\u001b[0m\u001b[1;33m,\u001b[0m \u001b[0mname\u001b[0m\u001b[1;33m,\u001b[0m \u001b[0mparams\u001b[0m\u001b[1;33m.\u001b[0m\u001b[0mpop\u001b[0m\u001b[1;33m(\u001b[0m\u001b[0mname\u001b[0m\u001b[1;33m)\u001b[0m\u001b[1;33m)\u001b[0m\u001b[1;33m\u001b[0m\u001b[1;33m\u001b[0m\u001b[0m\n\u001b[0;32m     53\u001b[0m         \u001b[1;31m# 3. Step parameters and other initialisation arguments\u001b[0m\u001b[1;33m\u001b[0m\u001b[1;33m\u001b[0m\u001b[0m\n\u001b[1;32m---> 54\u001b[1;33m         \u001b[0msuper\u001b[0m\u001b[1;33m(\u001b[0m\u001b[1;33m)\u001b[0m\u001b[1;33m.\u001b[0m\u001b[0mset_params\u001b[0m\u001b[1;33m(\u001b[0m\u001b[1;33m**\u001b[0m\u001b[0mparams\u001b[0m\u001b[1;33m)\u001b[0m\u001b[1;33m\u001b[0m\u001b[1;33m\u001b[0m\u001b[0m\n\u001b[0m\u001b[0;32m     55\u001b[0m         \u001b[1;32mreturn\u001b[0m \u001b[0mself\u001b[0m\u001b[1;33m\u001b[0m\u001b[1;33m\u001b[0m\u001b[0m\n\u001b[0;32m     56\u001b[0m \u001b[1;33m\u001b[0m\u001b[0m\n",
      "\u001b[1;32m~\\anaconda3\\lib\\site-packages\\sklearn\\base.py\u001b[0m in \u001b[0;36mset_params\u001b[1;34m(self, **params)\u001b[0m\n\u001b[0;32m    256\u001b[0m \u001b[1;33m\u001b[0m\u001b[0m\n\u001b[0;32m    257\u001b[0m         \u001b[1;32mfor\u001b[0m \u001b[0mkey\u001b[0m\u001b[1;33m,\u001b[0m \u001b[0msub_params\u001b[0m \u001b[1;32min\u001b[0m \u001b[0mnested_params\u001b[0m\u001b[1;33m.\u001b[0m\u001b[0mitems\u001b[0m\u001b[1;33m(\u001b[0m\u001b[1;33m)\u001b[0m\u001b[1;33m:\u001b[0m\u001b[1;33m\u001b[0m\u001b[1;33m\u001b[0m\u001b[0m\n\u001b[1;32m--> 258\u001b[1;33m             \u001b[0mvalid_params\u001b[0m\u001b[1;33m[\u001b[0m\u001b[0mkey\u001b[0m\u001b[1;33m]\u001b[0m\u001b[1;33m.\u001b[0m\u001b[0mset_params\u001b[0m\u001b[1;33m(\u001b[0m\u001b[1;33m**\u001b[0m\u001b[0msub_params\u001b[0m\u001b[1;33m)\u001b[0m\u001b[1;33m\u001b[0m\u001b[1;33m\u001b[0m\u001b[0m\n\u001b[0m\u001b[0;32m    259\u001b[0m \u001b[1;33m\u001b[0m\u001b[0m\n\u001b[0;32m    260\u001b[0m         \u001b[1;32mreturn\u001b[0m \u001b[0mself\u001b[0m\u001b[1;33m\u001b[0m\u001b[1;33m\u001b[0m\u001b[0m\n",
      "\u001b[1;32m~\\anaconda3\\lib\\site-packages\\sklearn\\base.py\u001b[0m in \u001b[0;36mset_params\u001b[1;34m(self, **params)\u001b[0m\n\u001b[0;32m    243\u001b[0m             \u001b[0mkey\u001b[0m\u001b[1;33m,\u001b[0m \u001b[0mdelim\u001b[0m\u001b[1;33m,\u001b[0m \u001b[0msub_key\u001b[0m \u001b[1;33m=\u001b[0m \u001b[0mkey\u001b[0m\u001b[1;33m.\u001b[0m\u001b[0mpartition\u001b[0m\u001b[1;33m(\u001b[0m\u001b[1;34m\"__\"\u001b[0m\u001b[1;33m)\u001b[0m\u001b[1;33m\u001b[0m\u001b[1;33m\u001b[0m\u001b[0m\n\u001b[0;32m    244\u001b[0m             \u001b[1;32mif\u001b[0m \u001b[0mkey\u001b[0m \u001b[1;32mnot\u001b[0m \u001b[1;32min\u001b[0m \u001b[0mvalid_params\u001b[0m\u001b[1;33m:\u001b[0m\u001b[1;33m\u001b[0m\u001b[1;33m\u001b[0m\u001b[0m\n\u001b[1;32m--> 245\u001b[1;33m                 raise ValueError(\n\u001b[0m\u001b[0;32m    246\u001b[0m                     \u001b[1;34m\"Invalid parameter %s for estimator %s. \"\u001b[0m\u001b[1;33m\u001b[0m\u001b[1;33m\u001b[0m\u001b[0m\n\u001b[0;32m    247\u001b[0m                     \u001b[1;34m\"Check the list of available parameters \"\u001b[0m\u001b[1;33m\u001b[0m\u001b[1;33m\u001b[0m\u001b[0m\n",
      "\u001b[1;31mValueError\u001b[0m: Invalid parameter max_depth for estimator GridSearchCV(estimator=DecisionTreeClassifier(),\n             param_grid={'max_depth': [None, 1, 2, 3],\n                         'min_samples_split': [2, 3, 4]}). Check the list of available parameters with `estimator.get_params().keys()`."
     ]
    }
   ],
   "source": [
    "from sklearn.model_selection import GridSearchCV\n",
    "grid = GridSearchCV(pipe, params, cv=5, scoring='accuracy')\n",
    "grid.fit(xtrain, ytrain)"
   ]
  },
  {
   "cell_type": "code",
   "execution_count": 35,
   "metadata": {},
   "outputs": [
    {
     "ename": "AttributeError",
     "evalue": "'GridSearchCV' object has no attribute 'best_score_'",
     "output_type": "error",
     "traceback": [
      "\u001b[1;31m---------------------------------------------------------------------------\u001b[0m",
      "\u001b[1;31mAttributeError\u001b[0m                            Traceback (most recent call last)",
      "\u001b[1;32m~\\AppData\\Local\\Temp\\ipykernel_4208\\2801345326.py\u001b[0m in \u001b[0;36m<module>\u001b[1;34m\u001b[0m\n\u001b[1;32m----> 1\u001b[1;33m \u001b[0mgrid\u001b[0m\u001b[1;33m.\u001b[0m\u001b[0mbest_score_\u001b[0m\u001b[1;33m,\u001b[0m \u001b[0mgrid\u001b[0m\u001b[1;33m.\u001b[0m\u001b[0mbest_params_\u001b[0m\u001b[1;33m\u001b[0m\u001b[1;33m\u001b[0m\u001b[0m\n\u001b[0m",
      "\u001b[1;31mAttributeError\u001b[0m: 'GridSearchCV' object has no attribute 'best_score_'"
     ]
    }
   ],
   "source": [
    "grid.best_score_, grid.best_params_"
   ]
  },
  {
   "cell_type": "code",
   "execution_count": null,
   "metadata": {},
   "outputs": [],
   "source": []
  },
  {
   "cell_type": "code",
   "execution_count": null,
   "metadata": {},
   "outputs": [],
   "source": []
  },
  {
   "cell_type": "code",
   "execution_count": null,
   "metadata": {},
   "outputs": [],
   "source": []
  },
  {
   "cell_type": "code",
   "execution_count": null,
   "metadata": {},
   "outputs": [],
   "source": []
  },
  {
   "cell_type": "code",
   "execution_count": null,
   "metadata": {},
   "outputs": [],
   "source": []
  }
 ],
 "metadata": {
  "colab": {
   "collapsed_sections": [
    "RYOHc68YujYE",
    "lc_kizYoJ2FS",
    "ZsJCxVwOJ2FU",
    "vQniuFLiJ2FZ",
    "Iid-Mm7SvKLH",
    "kO38zz_lvQlb",
    "dcVJD8thJ2Fo",
    "WU_fkGPkJ2Fo",
    "O6Li3YCgJ2Fq",
    "IvmLln6PJ2F0",
    "1i5o-mJxJ2F1",
    "8VR2DLkQJ2F5",
    "pQ6brzE7J2F_",
    "hFMuvW1uJ2Gb",
    "6jkwgRPuQDMl",
    "I-1mdGanQO3N",
    "05_n-tl3J2Gh",
    "GcrbeHLgJ2Gl",
    "_Q2od2oZJ2Gm",
    "5V1nnqq2J2Gs",
    "I6LhGTQoJ2Gy",
    "9VxTAromSFOq",
    "-W0I9QpctKVK",
    "5lZqtS1yJ2G5",
    "FIFI3J9hJ2G7"
   ],
   "name": "Project_Code.ipynb",
   "provenance": []
  },
  "kernelspec": {
   "display_name": "Python 3 (ipykernel)",
   "language": "python",
   "name": "python3"
  },
  "language_info": {
   "codemirror_mode": {
    "name": "ipython",
    "version": 3
   },
   "file_extension": ".py",
   "mimetype": "text/x-python",
   "name": "python",
   "nbconvert_exporter": "python",
   "pygments_lexer": "ipython3",
   "version": "3.9.13"
  }
 },
 "nbformat": 4,
 "nbformat_minor": 1
}

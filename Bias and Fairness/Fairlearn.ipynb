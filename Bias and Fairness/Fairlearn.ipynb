{
 "cells": [
  {
   "cell_type": "markdown",
   "metadata": {
    "id": "Z_fGl8o4J2FR"
   },
   "source": [
    "# **Loan Eligibility Prediction**"
   ]
  },
  {
   "cell_type": "markdown",
   "metadata": {
    "id": "RYOHc68YujYE"
   },
   "source": [
    "## **Data Analysis and Data Prep**"
   ]
  },
  {
   "cell_type": "markdown",
   "metadata": {
    "id": "lc_kizYoJ2FS"
   },
   "source": [
    "### Loading all the necessary packages"
   ]
  },
  {
   "cell_type": "code",
   "execution_count": 1,
   "metadata": {
    "id": "AkAmUuumJ2FU"
   },
   "outputs": [],
   "source": [
    "import pandas as pd\n",
    "import numpy as np\n",
    "import seaborn as sns\n",
    "import matplotlib.pyplot as plt\n",
    "%matplotlib inline\n",
    "import warnings\n",
    "warnings.filterwarnings(\"ignore\")"
   ]
  },
  {
   "cell_type": "markdown",
   "metadata": {
    "id": "ZsJCxVwOJ2FU"
   },
   "source": [
    "### Reading the data"
   ]
  },
  {
   "cell_type": "code",
   "execution_count": 2,
   "metadata": {
    "id": "lDgOzoxfJ2FV"
   },
   "outputs": [],
   "source": [
    "#we will save a raw copy of the training set\n",
    "raw = pd.read_csv('fairlearn.csv')"
   ]
  },
  {
   "cell_type": "code",
   "execution_count": 3,
   "metadata": {
    "colab": {
     "base_uri": "https://localhost:8080/",
     "height": 241
    },
    "id": "LPxkm7y6J2FW",
    "outputId": "2229138b-977f-4fd3-da98-c2b16b62ab23"
   },
   "outputs": [
    {
     "data": {
      "text/html": [
       "<div>\n",
       "<style scoped>\n",
       "    .dataframe tbody tr th:only-of-type {\n",
       "        vertical-align: middle;\n",
       "    }\n",
       "\n",
       "    .dataframe tbody tr th {\n",
       "        vertical-align: top;\n",
       "    }\n",
       "\n",
       "    .dataframe thead th {\n",
       "        text-align: right;\n",
       "    }\n",
       "</style>\n",
       "<table border=\"1\" class=\"dataframe\">\n",
       "  <thead>\n",
       "    <tr style=\"text-align: right;\">\n",
       "      <th></th>\n",
       "      <th>Loan_ID</th>\n",
       "      <th>Gender</th>\n",
       "      <th>Married</th>\n",
       "      <th>Dependents</th>\n",
       "      <th>Graduate</th>\n",
       "      <th>Self_Employed</th>\n",
       "      <th>ApplicantIncome</th>\n",
       "      <th>CoapplicantIncome</th>\n",
       "      <th>LoanAmount</th>\n",
       "      <th>Loan_Amount_Term</th>\n",
       "      <th>Credit_History</th>\n",
       "      <th>Property_Area</th>\n",
       "      <th>Eligible</th>\n",
       "    </tr>\n",
       "  </thead>\n",
       "  <tbody>\n",
       "    <tr>\n",
       "      <th>0</th>\n",
       "      <td>LP001002</td>\n",
       "      <td>1.0</td>\n",
       "      <td>No</td>\n",
       "      <td>0</td>\n",
       "      <td>Graduate</td>\n",
       "      <td>No</td>\n",
       "      <td>5849</td>\n",
       "      <td>0.0</td>\n",
       "      <td>NaN</td>\n",
       "      <td>360.0</td>\n",
       "      <td>1.0</td>\n",
       "      <td>Urban</td>\n",
       "      <td>1</td>\n",
       "    </tr>\n",
       "    <tr>\n",
       "      <th>1</th>\n",
       "      <td>LP001003</td>\n",
       "      <td>1.0</td>\n",
       "      <td>Yes</td>\n",
       "      <td>1</td>\n",
       "      <td>Graduate</td>\n",
       "      <td>No</td>\n",
       "      <td>4583</td>\n",
       "      <td>1508.0</td>\n",
       "      <td>128.0</td>\n",
       "      <td>360.0</td>\n",
       "      <td>1.0</td>\n",
       "      <td>Rural</td>\n",
       "      <td>0</td>\n",
       "    </tr>\n",
       "    <tr>\n",
       "      <th>2</th>\n",
       "      <td>LP001005</td>\n",
       "      <td>1.0</td>\n",
       "      <td>Yes</td>\n",
       "      <td>0</td>\n",
       "      <td>Graduate</td>\n",
       "      <td>Yes</td>\n",
       "      <td>3000</td>\n",
       "      <td>0.0</td>\n",
       "      <td>66.0</td>\n",
       "      <td>360.0</td>\n",
       "      <td>1.0</td>\n",
       "      <td>Urban</td>\n",
       "      <td>1</td>\n",
       "    </tr>\n",
       "    <tr>\n",
       "      <th>3</th>\n",
       "      <td>LP001006</td>\n",
       "      <td>1.0</td>\n",
       "      <td>Yes</td>\n",
       "      <td>0</td>\n",
       "      <td>Not Graduate</td>\n",
       "      <td>No</td>\n",
       "      <td>2583</td>\n",
       "      <td>2358.0</td>\n",
       "      <td>120.0</td>\n",
       "      <td>360.0</td>\n",
       "      <td>1.0</td>\n",
       "      <td>Urban</td>\n",
       "      <td>1</td>\n",
       "    </tr>\n",
       "    <tr>\n",
       "      <th>4</th>\n",
       "      <td>LP001008</td>\n",
       "      <td>1.0</td>\n",
       "      <td>No</td>\n",
       "      <td>0</td>\n",
       "      <td>Graduate</td>\n",
       "      <td>No</td>\n",
       "      <td>6000</td>\n",
       "      <td>0.0</td>\n",
       "      <td>141.0</td>\n",
       "      <td>360.0</td>\n",
       "      <td>1.0</td>\n",
       "      <td>Urban</td>\n",
       "      <td>1</td>\n",
       "    </tr>\n",
       "  </tbody>\n",
       "</table>\n",
       "</div>"
      ],
      "text/plain": [
       "    Loan_ID  Gender Married Dependents      Graduate Self_Employed  \\\n",
       "0  LP001002     1.0      No          0      Graduate            No   \n",
       "1  LP001003     1.0     Yes          1      Graduate            No   \n",
       "2  LP001005     1.0     Yes          0      Graduate           Yes   \n",
       "3  LP001006     1.0     Yes          0  Not Graduate            No   \n",
       "4  LP001008     1.0      No          0      Graduate            No   \n",
       "\n",
       "   ApplicantIncome  CoapplicantIncome  LoanAmount  Loan_Amount_Term  \\\n",
       "0             5849                0.0         NaN             360.0   \n",
       "1             4583             1508.0       128.0             360.0   \n",
       "2             3000                0.0        66.0             360.0   \n",
       "3             2583             2358.0       120.0             360.0   \n",
       "4             6000                0.0       141.0             360.0   \n",
       "\n",
       "   Credit_History Property_Area  Eligible  \n",
       "0             1.0         Urban         1  \n",
       "1             1.0         Rural         0  \n",
       "2             1.0         Urban         1  \n",
       "3             1.0         Urban         1  \n",
       "4             1.0         Urban         1  "
      ]
     },
     "execution_count": 3,
     "metadata": {},
     "output_type": "execute_result"
    }
   ],
   "source": [
    "#Importing the training data\n",
    "train = pd.read_csv('fairlearn.csv')\n",
    "train.head(5)"
   ]
  },
  {
   "cell_type": "code",
   "execution_count": 4,
   "metadata": {
    "colab": {
     "base_uri": "https://localhost:8080/",
     "height": 71
    },
    "id": "MwgS6DwLJ2FX",
    "outputId": "0bbeb917-0a0a-443c-f19e-3ad02b71547c"
   },
   "outputs": [
    {
     "data": {
      "text/plain": [
       "<AxesSubplot:>"
      ]
     },
     "execution_count": 4,
     "metadata": {},
     "output_type": "execute_result"
    },
    {
     "data": {
      "image/png": "[encoded data removed]",
      "text/plain": [
       "<Figure size 640x480 with 1 Axes>"
      ]
     },
     "metadata": {},
     "output_type": "display_data"
    }
   ],
   "source": [
    "#Let's check some stats quickly\n",
    "train['Eligible'].value_counts().plot.bar()"
   ]
  },
  {
   "cell_type": "code",
   "execution_count": 5,
   "metadata": {},
   "outputs": [],
   "source": [
    "df = train.copy()\n",
    "df['ApplicantIncome'][(df['Gender'] == 0) & (df['Eligible']==1)] = (df['ApplicantIncome'][(df['Gender'] == 0) & (df['Eligible']==1)])+10000"
   ]
  },
  {
   "cell_type": "code",
   "execution_count": 6,
   "metadata": {},
   "outputs": [
    {
     "data": {
      "image/png": "[encoded data removed]",
      "text/plain": [
       "<Figure size 1000x400 with 2 Axes>"
      ]
     },
     "metadata": {},
     "output_type": "display_data"
    }
   ],
   "source": [
    "#Plot the distribution of Applicant income for both men and women\n",
    "\n",
    "fig, (ax1, ax2) = plt.subplots(ncols=2, figsize=(10, 4))\n",
    "\n",
    "train['ApplicantIncome'][(train['Gender'] == 1) & (train['Eligible']==0)].plot(\n",
    "    kind='kde', label='Not Eligible', ax=ax1, title='Applicant income for men')\n",
    "\n",
    "\n",
    "train['ApplicantIncome'][(train['Gender'] == 1) & (train['Eligible']==1)].plot(\n",
    "    kind='kde', label='Eligible', ax=ax1, title='Applicant income for men')\n",
    "\n",
    "train['ApplicantIncome'][(train['Gender'] == 0) & (train['Eligible']==0)].plot(\n",
    "    kind='kde', label='Not Eligible', ax=ax2, title='Applicant income for women')\n",
    "train['ApplicantIncome'][(train['Gender'] == 0) & (train['Eligible']==1)].plot(\n",
    "    kind='kde', label='Eligible', ax=ax2, title='Applicant income for women')\n",
    "    \n",
    "plt.legend(bbox_to_anchor=(1.7, 1))\n",
    "\n",
    "plt.show()"
   ]
  },
  {
   "cell_type": "markdown",
   "metadata": {
    "id": "dssXaJX0AwEt"
   },
   "source": [
    "### Make the applicant income feature important and add bias for women class"
   ]
  },
  {
   "cell_type": "code",
   "execution_count": 7,
   "metadata": {},
   "outputs": [
    {
     "data": {
      "image/png": "[encoded data removed]",
      "text/plain": [
       "<Figure size 1000x400 with 2 Axes>"
      ]
     },
     "metadata": {},
     "output_type": "display_data"
    }
   ],
   "source": [
    "#We will add bias and normalize\n",
    "train['ApplicantIncome'][train['Gender']==0] = train['Eligible'] + np.random.normal(scale=0.5, size=train.shape[0])\n",
    "train.loc[train['Gender'] == 1, 'ApplicantIncome'] = np.random.normal(scale=0.5, size=train[train['Gender'] == 1].shape[0])\n",
    "\n",
    "#Plot the distribution\n",
    "fig, (ax1, ax2) = plt.subplots(ncols=2, figsize=(10, 4))\n",
    "\n",
    "train['ApplicantIncome'][(train['Gender'] == 1) & (train['Eligible']==0)].plot(\n",
    "    kind='kde', label='Not Eligible', ax=ax1, title='Applicant income for men')\n",
    "train['ApplicantIncome'][(train['Gender'] == 1) & (train['Eligible']==1)].plot(\n",
    "    kind='kde', label='Eligible', ax=ax1, title='Applicant income for men')\n",
    "\n",
    "train['ApplicantIncome'][(train['Gender'] == 0) & (train['Eligible']==0)].plot(\n",
    "    kind='kde', label='Not Eligible', ax=ax2, title='Applicant income for women')\n",
    "train['ApplicantIncome'][(train['Gender'] == 0) & (train['Eligible']==1)].plot(\n",
    "    kind='kde', label='Eligible', ax=ax2, title='Applicant income for women')\n",
    "    \n",
    "plt.legend(bbox_to_anchor=(1.7, 1))\n",
    "\n",
    "plt.show()"
   ]
  },
  {
   "cell_type": "markdown",
   "metadata": {
    "id": "vQniuFLiJ2FZ"
   },
   "source": [
    "### Missing value imputation"
   ]
  },
  {
   "cell_type": "code",
   "execution_count": 8,
   "metadata": {
    "colab": {
     "base_uri": "https://localhost:8080/"
    },
    "id": "swWiCMPFJ2FZ",
    "outputId": "0cd9991d-3d8f-4c53-cb1b-7c5167eef971"
   },
   "outputs": [
    {
     "data": {
      "text/plain": [
       "Loan_ID               0\n",
       "Gender               13\n",
       "Married               3\n",
       "Dependents           15\n",
       "Graduate              0\n",
       "Self_Employed        32\n",
       "ApplicantIncome       0\n",
       "CoapplicantIncome     0\n",
       "LoanAmount           22\n",
       "Loan_Amount_Term     14\n",
       "Credit_History       50\n",
       "Property_Area         0\n",
       "Eligible              0\n",
       "dtype: int64"
      ]
     },
     "execution_count": 8,
     "metadata": {},
     "output_type": "execute_result"
    }
   ],
   "source": [
    "#check for missing values\n",
    "train.isnull().sum()"
   ]
  },
  {
   "cell_type": "markdown",
   "metadata": {
    "id": "roM2r5WwJ2Fa"
   },
   "source": [
    "Consider these methods to fill in the missing values:\n",
    "* For numerical variables: imputation using mean or median \n",
    "* For categorical variables: imputation using mode\n",
    "\n",
    "In the 'Loan_Amount_Term' variable, the value of 360 is repeating the most. So we will replace the missing values in this variable using the mode of this variable. i.e. 360\n",
    "\n",
    "train['Loan_Amount_Term'].value_counts()\n",
    "\n",
    "For the 'LoanAmount' variable, use mean or median to impute the missing values. We will use the median to fill the null values as 'LoanAmount' has outliers so the mean will not be the proper approach as it is highly affected by the presence of outliers."
   ]
  },
  {
   "cell_type": "markdown",
   "metadata": {
    "id": "wehUoyL_J2Fa"
   },
   "source": [
    "    "
   ]
  },
  {
   "cell_type": "code",
   "execution_count": 9,
   "metadata": {
    "id": "kfpwiE-4J2Fb"
   },
   "outputs": [],
   "source": [
    "train['Gender'].fillna(train['Gender'].mode()[0], inplace=True)\n",
    "train['Married'].fillna(train['Married'].mode()[0], inplace=True)\n",
    "train['Dependents'].fillna(train['Dependents'].mode()[0], inplace=True)\n",
    "train['Self_Employed'].fillna(train['Self_Employed'].mode()[0], inplace=True)\n",
    "\n",
    "train['LoanAmount'].fillna(train['LoanAmount'].median(), inplace=True)\n",
    "train['Loan_Amount_Term'].fillna(train['Loan_Amount_Term'].mode()[0], inplace=True)\n",
    "train['Credit_History'].fillna(train['Credit_History'].mode()[0], inplace=True)"
   ]
  },
  {
   "cell_type": "code",
   "execution_count": 10,
   "metadata": {
    "colab": {
     "base_uri": "https://localhost:8080/"
    },
    "id": "xObYJfwvJ2Fc",
    "outputId": "fd8228fc-e4f6-4154-c11b-270500238fdb"
   },
   "outputs": [
    {
     "data": {
      "text/plain": [
       "Loan_ID              0\n",
       "Gender               0\n",
       "Married              0\n",
       "Dependents           0\n",
       "Graduate             0\n",
       "Self_Employed        0\n",
       "ApplicantIncome      0\n",
       "CoapplicantIncome    0\n",
       "LoanAmount           0\n",
       "Loan_Amount_Term     0\n",
       "Credit_History       0\n",
       "Property_Area        0\n",
       "Eligible             0\n",
       "dtype: int64"
      ]
     },
     "execution_count": 10,
     "metadata": {},
     "output_type": "execute_result"
    }
   ],
   "source": [
    "#Confirm\n",
    "train.isnull().sum()"
   ]
  },
  {
   "cell_type": "code",
   "execution_count": 11,
   "metadata": {
    "colab": {
     "base_uri": "https://localhost:8080/",
     "height": 131
    },
    "id": "3H2AgZIpJ2Fe",
    "outputId": "df8a9faf-9eff-46b2-a36a-f31651ce0d4b"
   },
   "outputs": [
    {
     "data": {
      "text/html": [
       "<div>\n",
       "<style scoped>\n",
       "    .dataframe tbody tr th:only-of-type {\n",
       "        vertical-align: middle;\n",
       "    }\n",
       "\n",
       "    .dataframe tbody tr th {\n",
       "        vertical-align: top;\n",
       "    }\n",
       "\n",
       "    .dataframe thead th {\n",
       "        text-align: right;\n",
       "    }\n",
       "</style>\n",
       "<table border=\"1\" class=\"dataframe\">\n",
       "  <thead>\n",
       "    <tr style=\"text-align: right;\">\n",
       "      <th></th>\n",
       "      <th>Loan_ID</th>\n",
       "      <th>Gender</th>\n",
       "      <th>Married</th>\n",
       "      <th>Dependents</th>\n",
       "      <th>Graduate</th>\n",
       "      <th>Self_Employed</th>\n",
       "      <th>ApplicantIncome</th>\n",
       "      <th>CoapplicantIncome</th>\n",
       "      <th>LoanAmount</th>\n",
       "      <th>Loan_Amount_Term</th>\n",
       "      <th>Credit_History</th>\n",
       "      <th>Property_Area</th>\n",
       "      <th>Eligible</th>\n",
       "    </tr>\n",
       "  </thead>\n",
       "  <tbody>\n",
       "    <tr>\n",
       "      <th>0</th>\n",
       "      <td>LP001002</td>\n",
       "      <td>1.0</td>\n",
       "      <td>No</td>\n",
       "      <td>0</td>\n",
       "      <td>Graduate</td>\n",
       "      <td>No</td>\n",
       "      <td>0.397027</td>\n",
       "      <td>0.0</td>\n",
       "      <td>128.0</td>\n",
       "      <td>360.0</td>\n",
       "      <td>1.0</td>\n",
       "      <td>Urban</td>\n",
       "      <td>1</td>\n",
       "    </tr>\n",
       "    <tr>\n",
       "      <th>1</th>\n",
       "      <td>LP001003</td>\n",
       "      <td>1.0</td>\n",
       "      <td>Yes</td>\n",
       "      <td>1</td>\n",
       "      <td>Graduate</td>\n",
       "      <td>No</td>\n",
       "      <td>-0.442070</td>\n",
       "      <td>1508.0</td>\n",
       "      <td>128.0</td>\n",
       "      <td>360.0</td>\n",
       "      <td>1.0</td>\n",
       "      <td>Rural</td>\n",
       "      <td>0</td>\n",
       "    </tr>\n",
       "  </tbody>\n",
       "</table>\n",
       "</div>"
      ],
      "text/plain": [
       "    Loan_ID  Gender Married Dependents  Graduate Self_Employed  \\\n",
       "0  LP001002     1.0      No          0  Graduate            No   \n",
       "1  LP001003     1.0     Yes          1  Graduate            No   \n",
       "\n",
       "   ApplicantIncome  CoapplicantIncome  LoanAmount  Loan_Amount_Term  \\\n",
       "0         0.397027                0.0       128.0             360.0   \n",
       "1        -0.442070             1508.0       128.0             360.0   \n",
       "\n",
       "   Credit_History Property_Area  Eligible  \n",
       "0             1.0         Urban         1  \n",
       "1             1.0         Rural         0  "
      ]
     },
     "execution_count": 11,
     "metadata": {},
     "output_type": "execute_result"
    }
   ],
   "source": [
    "train.head(2)"
   ]
  },
  {
   "cell_type": "markdown",
   "metadata": {
    "id": "Iid-Mm7SvKLH"
   },
   "source": [
    "### Data Prep"
   ]
  },
  {
   "cell_type": "code",
   "execution_count": 12,
   "metadata": {
    "id": "EcZljCkwJ2Fh"
   },
   "outputs": [],
   "source": [
    "#If you want to label encode \n",
    "#from sklearn import preprocessing\n",
    "#encode = preprocessing.LabelEncoder()\n",
    "\n",
    "#train['Dependents'] = encode.fit_transform(train.Dependents.values)\n",
    "#train['Credit_History'] = encode.fit_transform(train.Credit_History.values)\n",
    "#train['Married'] = encode.fit_transform(train.Married.values)\n",
    "#train['Gender_Male'] = encode.fit_transform(train.Gender_Male.values)"
   ]
  },
  {
   "cell_type": "code",
   "execution_count": 13,
   "metadata": {
    "id": "LmENRcDNlYfa"
   },
   "outputs": [],
   "source": [
    "#If you want to One-Hot Encode\n",
    "#train = pd.get_dummies(train, columns=['Property_Area'])\n",
    "#train = pd.get_dummies(train, columns=['Dependents'])"
   ]
  },
  {
   "cell_type": "code",
   "execution_count": 14,
   "metadata": {
    "colab": {
     "base_uri": "https://localhost:8080/"
    },
    "id": "cR1ew7riJ2Fh",
    "outputId": "59c9b219-7723-42d8-a799-3477d6d7071a"
   },
   "outputs": [
    {
     "data": {
      "text/plain": [
       "Loan_ID               object\n",
       "Gender               float64\n",
       "Married                int64\n",
       "Dependents             int64\n",
       "Graduate               int64\n",
       "Self_Employed          int64\n",
       "ApplicantIncome      float64\n",
       "CoapplicantIncome    float64\n",
       "LoanAmount           float64\n",
       "Loan_Amount_Term       int64\n",
       "Credit_History         int64\n",
       "Property_Area         object\n",
       "Eligible               int64\n",
       "dtype: object"
      ]
     },
     "execution_count": 14,
     "metadata": {},
     "output_type": "execute_result"
    }
   ],
   "source": [
    "#Or just replace values for this exercise\n",
    "train = train.replace({'Married':{'Yes':1,'No':0}})\n",
    "train = train.replace({'Graduate':{'Graduate':1,'Not Graduate':0}})\n",
    "train = train.replace({'Self_Employed':{'Yes':1,'No':0}})\n",
    "\n",
    "train = train.astype({'Credit_History': 'int64'})\n",
    "train = train.replace({'Dependents':{'0':0,'1':1,'2':2,'3+':3}})\n",
    "train = train.astype({'Dependents':'int64'})\n",
    "train = train.astype({'Loan_Amount_Term':'int64'})\n",
    "train.dtypes"
   ]
  },
  {
   "cell_type": "code",
   "execution_count": 15,
   "metadata": {
    "colab": {
     "base_uri": "https://localhost:8080/"
    },
    "id": "GG_Qct1UMOUk",
    "outputId": "a440866e-8627-48ff-f7e4-7d05e88c18fa"
   },
   "outputs": [
    {
     "name": "stdout",
     "output_type": "stream",
     "text": [
      "<class 'pandas.core.frame.DataFrame'>\n",
      "RangeIndex: 614 entries, 0 to 613\n",
      "Data columns (total 13 columns):\n",
      " #   Column             Non-Null Count  Dtype  \n",
      "---  ------             --------------  -----  \n",
      " 0   Loan_ID            614 non-null    object \n",
      " 1   Gender             614 non-null    float64\n",
      " 2   Married            614 non-null    int64  \n",
      " 3   Dependents         614 non-null    int64  \n",
      " 4   Graduate           614 non-null    int64  \n",
      " 5   Self_Employed      614 non-null    int64  \n",
      " 6   ApplicantIncome    614 non-null    float64\n",
      " 7   CoapplicantIncome  614 non-null    float64\n",
      " 8   LoanAmount         614 non-null    float64\n",
      " 9   Loan_Amount_Term   614 non-null    int64  \n",
      " 10  Credit_History     614 non-null    int64  \n",
      " 11  Property_Area      614 non-null    object \n",
      " 12  Eligible           614 non-null    int64  \n",
      "dtypes: float64(4), int64(7), object(2)\n",
      "memory usage: 62.5+ KB\n"
     ]
    }
   ],
   "source": [
    "#make sure no variables are of datatype 'object'\n",
    "train.info()"
   ]
  },
  {
   "cell_type": "code",
   "execution_count": 16,
   "metadata": {
    "id": "NVSiPlSIksGg"
   },
   "outputs": [],
   "source": [
    "#We'll drop Loan_ID, Property_Area for now. We don't need them for this exercise.\n",
    "train = train.drop(['Loan_ID','Property_Area','Married','Dependents','Graduate','Self_Employed','CoapplicantIncome','LoanAmount','Loan_Amount_Term','Credit_History'], axis=1)"
   ]
  },
  {
   "cell_type": "markdown",
   "metadata": {},
   "source": [
    "    "
   ]
  },
  {
   "cell_type": "markdown",
   "metadata": {
    "id": "60Jiuzf5m9TX"
   },
   "source": [
    "### Let's use applicant income and Gender to predict eligibility for both Men and Women."
   ]
  },
  {
   "cell_type": "code",
   "execution_count": 17,
   "metadata": {
    "colab": {
     "base_uri": "https://localhost:8080/",
     "height": 204
    },
    "id": "Qn5JQXCuBSlp",
    "outputId": "aed9ca02-5387-4786-c36d-5b8493ee5f5e"
   },
   "outputs": [
    {
     "data": {
      "text/html": [
       "<div>\n",
       "<style scoped>\n",
       "    .dataframe tbody tr th:only-of-type {\n",
       "        vertical-align: middle;\n",
       "    }\n",
       "\n",
       "    .dataframe tbody tr th {\n",
       "        vertical-align: top;\n",
       "    }\n",
       "\n",
       "    .dataframe thead th {\n",
       "        text-align: right;\n",
       "    }\n",
       "</style>\n",
       "<table border=\"1\" class=\"dataframe\">\n",
       "  <thead>\n",
       "    <tr style=\"text-align: right;\">\n",
       "      <th></th>\n",
       "      <th>Gender</th>\n",
       "      <th>ApplicantIncome</th>\n",
       "      <th>Eligible</th>\n",
       "    </tr>\n",
       "  </thead>\n",
       "  <tbody>\n",
       "    <tr>\n",
       "      <th>0</th>\n",
       "      <td>1.0</td>\n",
       "      <td>0.397027</td>\n",
       "      <td>1</td>\n",
       "    </tr>\n",
       "    <tr>\n",
       "      <th>1</th>\n",
       "      <td>1.0</td>\n",
       "      <td>-0.442070</td>\n",
       "      <td>0</td>\n",
       "    </tr>\n",
       "    <tr>\n",
       "      <th>2</th>\n",
       "      <td>1.0</td>\n",
       "      <td>-0.735451</td>\n",
       "      <td>1</td>\n",
       "    </tr>\n",
       "    <tr>\n",
       "      <th>3</th>\n",
       "      <td>1.0</td>\n",
       "      <td>0.223615</td>\n",
       "      <td>1</td>\n",
       "    </tr>\n",
       "    <tr>\n",
       "      <th>4</th>\n",
       "      <td>1.0</td>\n",
       "      <td>-0.012940</td>\n",
       "      <td>1</td>\n",
       "    </tr>\n",
       "  </tbody>\n",
       "</table>\n",
       "</div>"
      ],
      "text/plain": [
       "   Gender  ApplicantIncome  Eligible\n",
       "0     1.0         0.397027         1\n",
       "1     1.0        -0.442070         0\n",
       "2     1.0        -0.735451         1\n",
       "3     1.0         0.223615         1\n",
       "4     1.0        -0.012940         1"
      ]
     },
     "execution_count": 17,
     "metadata": {},
     "output_type": "execute_result"
    }
   ],
   "source": [
    "#this is our biased dataset\n",
    "bdata = train[['Gender','ApplicantIncome','Eligible']]\n",
    "#Save this biased dataset\n",
    "bdata.to_csv('Biasdata.csv')\n",
    "bdata.head()"
   ]
  },
  {
   "cell_type": "code",
   "execution_count": 18,
   "metadata": {
    "colab": {
     "base_uri": "https://localhost:8080/",
     "height": 204
    },
    "id": "1F_bGHppAV01",
    "outputId": "6908eaa2-da54-4c52-9b65-5dc4f0b49c0c"
   },
   "outputs": [
    {
     "data": {
      "text/html": [
       "<div>\n",
       "<style scoped>\n",
       "    .dataframe tbody tr th:only-of-type {\n",
       "        vertical-align: middle;\n",
       "    }\n",
       "\n",
       "    .dataframe tbody tr th {\n",
       "        vertical-align: top;\n",
       "    }\n",
       "\n",
       "    .dataframe thead th {\n",
       "        text-align: right;\n",
       "    }\n",
       "</style>\n",
       "<table border=\"1\" class=\"dataframe\">\n",
       "  <thead>\n",
       "    <tr style=\"text-align: right;\">\n",
       "      <th></th>\n",
       "      <th>Gender</th>\n",
       "      <th>ApplicantIncome</th>\n",
       "    </tr>\n",
       "  </thead>\n",
       "  <tbody>\n",
       "    <tr>\n",
       "      <th>0</th>\n",
       "      <td>1.0</td>\n",
       "      <td>0.397027</td>\n",
       "    </tr>\n",
       "    <tr>\n",
       "      <th>1</th>\n",
       "      <td>1.0</td>\n",
       "      <td>-0.442070</td>\n",
       "    </tr>\n",
       "    <tr>\n",
       "      <th>2</th>\n",
       "      <td>1.0</td>\n",
       "      <td>-0.735451</td>\n",
       "    </tr>\n",
       "    <tr>\n",
       "      <th>3</th>\n",
       "      <td>1.0</td>\n",
       "      <td>0.223615</td>\n",
       "    </tr>\n",
       "    <tr>\n",
       "      <th>4</th>\n",
       "      <td>1.0</td>\n",
       "      <td>-0.012940</td>\n",
       "    </tr>\n",
       "  </tbody>\n",
       "</table>\n",
       "</div>"
      ],
      "text/plain": [
       "   Gender  ApplicantIncome\n",
       "0     1.0         0.397027\n",
       "1     1.0        -0.442070\n",
       "2     1.0        -0.735451\n",
       "3     1.0         0.223615\n",
       "4     1.0        -0.012940"
      ]
     },
     "execution_count": 18,
     "metadata": {},
     "output_type": "execute_result"
    }
   ],
   "source": [
    "#Seperate the target vaiable\n",
    "x = bdata.drop('Eligible',1)\n",
    "y = bdata.Eligible\n",
    "x.head()"
   ]
  },
  {
   "cell_type": "code",
   "execution_count": 19,
   "metadata": {
    "id": "eX50FvzrAYqa"
   },
   "outputs": [],
   "source": [
    "#splitting the data in training and testing set\n",
    "from sklearn.model_selection import train_test_split\n",
    "x_train, x_test, y_train, y_test = train_test_split(x,y, test_size=0.3, stratify=x['Gender'], random_state=321)"
   ]
  },
  {
   "cell_type": "markdown",
   "metadata": {
    "id": "NKdgM9xqxqb-"
   },
   "source": [
    "## **1. Logistic Regression**"
   ]
  },
  {
   "cell_type": "markdown",
   "metadata": {
    "id": "lGDhJq40ns5I"
   },
   "source": [
    "Let's train a logistic regression model on this biased dataset and check if the model learns patterns from this bias."
   ]
  },
  {
   "cell_type": "code",
   "execution_count": 20,
   "metadata": {
    "colab": {
     "base_uri": "https://localhost:8080/"
    },
    "id": "EGT-Zek_yNEk",
    "outputId": "7fea1ecb-e07d-42d1-b367-cdc4c546e3c0"
   },
   "outputs": [
    {
     "data": {
      "text/html": [
       "<style>#sk-container-id-1 {color: black;}#sk-container-id-1 pre{padding: 0;}#sk-container-id-1 div.sk-toggleable {background-color: white;}#sk-container-id-1 label.sk-toggleable__label {cursor: pointer;display: block;width: 100%;margin-bottom: 0;padding: 0.3em;box-sizing: border-box;text-align: center;}#sk-container-id-1 label.sk-toggleable__label-arrow:before {content: \"▸\";float: left;margin-right: 0.25em;color: #696969;}#sk-container-id-1 label.sk-toggleable__label-arrow:hover:before {color: black;}#sk-container-id-1 div.sk-estimator:hover label.sk-toggleable__label-arrow:before {color: black;}#sk-container-id-1 div.sk-toggleable__content {max-height: 0;max-width: 0;overflow: hidden;text-align: left;background-color: #f0f8ff;}#sk-container-id-1 div.sk-toggleable__content pre {margin: 0.2em;color: black;border-radius: 0.25em;background-color: #f0f8ff;}#sk-container-id-1 input.sk-toggleable__control:checked~div.sk-toggleable__content {max-height: 200px;max-width: 100%;overflow: auto;}#sk-container-id-1 input.sk-toggleable__control:checked~label.sk-toggleable__label-arrow:before {content: \"▾\";}#sk-container-id-1 div.sk-estimator input.sk-toggleable__control:checked~label.sk-toggleable__label {background-color: #d4ebff;}#sk-container-id-1 div.sk-label input.sk-toggleable__control:checked~label.sk-toggleable__label {background-color: #d4ebff;}#sk-container-id-1 input.sk-hidden--visually {border: 0;clip: rect(1px 1px 1px 1px);clip: rect(1px, 1px, 1px, 1px);height: 1px;margin: -1px;overflow: hidden;padding: 0;position: absolute;width: 1px;}#sk-container-id-1 div.sk-estimator {font-family: monospace;background-color: #f0f8ff;border: 1px dotted black;border-radius: 0.25em;box-sizing: border-box;margin-bottom: 0.5em;}#sk-container-id-1 div.sk-estimator:hover {background-color: #d4ebff;}#sk-container-id-1 div.sk-parallel-item::after {content: \"\";width: 100%;border-bottom: 1px solid gray;flex-grow: 1;}#sk-container-id-1 div.sk-label:hover label.sk-toggleable__label {background-color: #d4ebff;}#sk-container-id-1 div.sk-serial::before {content: \"\";position: absolute;border-left: 1px solid gray;box-sizing: border-box;top: 0;bottom: 0;left: 50%;z-index: 0;}#sk-container-id-1 div.sk-serial {display: flex;flex-direction: column;align-items: center;background-color: white;padding-right: 0.2em;padding-left: 0.2em;position: relative;}#sk-container-id-1 div.sk-item {position: relative;z-index: 1;}#sk-container-id-1 div.sk-parallel {display: flex;align-items: stretch;justify-content: center;background-color: white;position: relative;}#sk-container-id-1 div.sk-item::before, #sk-container-id-1 div.sk-parallel-item::before {content: \"\";position: absolute;border-left: 1px solid gray;box-sizing: border-box;top: 0;bottom: 0;left: 50%;z-index: -1;}#sk-container-id-1 div.sk-parallel-item {display: flex;flex-direction: column;z-index: 1;position: relative;background-color: white;}#sk-container-id-1 div.sk-parallel-item:first-child::after {align-self: flex-end;width: 50%;}#sk-container-id-1 div.sk-parallel-item:last-child::after {align-self: flex-start;width: 50%;}#sk-container-id-1 div.sk-parallel-item:only-child::after {width: 0;}#sk-container-id-1 div.sk-dashed-wrapped {border: 1px dashed gray;margin: 0 0.4em 0.5em 0.4em;box-sizing: border-box;padding-bottom: 0.4em;background-color: white;}#sk-container-id-1 div.sk-label label {font-family: monospace;font-weight: bold;display: inline-block;line-height: 1.2em;}#sk-container-id-1 div.sk-label-container {text-align: center;}#sk-container-id-1 div.sk-container {/* jupyter's `normalize.less` sets `[hidden] { display: none; }` but bootstrap.min.css set `[hidden] { display: none !important; }` so we also need the `!important` here to be able to override the default hidden behavior on the sphinx rendered scikit-learn.org. See: https://github.com/scikit-learn/scikit-learn/issues/21755 */display: inline-block !important;position: relative;}#sk-container-id-1 div.sk-text-repr-fallback {display: none;}</style><div id=\"sk-container-id-1\" class=\"sk-top-container\"><div class=\"sk-text-repr-fallback\"><pre>LogisticRegression()</pre><b>In a Jupyter environment, please rerun this cell to show the HTML representation or trust the notebook. <br />On GitHub, the HTML representation is unable to render, please try loading this page with nbviewer.org.</b></div><div class=\"sk-container\" hidden><div class=\"sk-item\"><div class=\"sk-estimator sk-toggleable\"><input class=\"sk-toggleable__control sk-hidden--visually\" id=\"sk-estimator-id-1\" type=\"checkbox\" checked><label for=\"sk-estimator-id-1\" class=\"sk-toggleable__label sk-toggleable__label-arrow\">LogisticRegression</label><div class=\"sk-toggleable__content\"><pre>LogisticRegression()</pre></div></div></div></div></div>"
      ],
      "text/plain": [
       "LogisticRegression()"
      ]
     },
     "execution_count": 20,
     "metadata": {},
     "output_type": "execute_result"
    }
   ],
   "source": [
    "#Let's train a model on this baised dataset.\n",
    "from sklearn.linear_model import LogisticRegression\n",
    "from sklearn.metrics import accuracy_score\n",
    "lrmodel = LogisticRegression()\n",
    "lrmodel.fit(x_train, y_train)"
   ]
  },
  {
   "cell_type": "code",
   "execution_count": 21,
   "metadata": {
    "colab": {
     "base_uri": "https://localhost:8080/"
    },
    "id": "SPohSDFZyXAh",
    "outputId": "c6af64b2-7127-4cf0-8d77-5c6c7449442a"
   },
   "outputs": [
    {
     "name": "stdout",
     "output_type": "stream",
     "text": [
      "Overall model accuracy is 0.686\n"
     ]
    }
   ],
   "source": [
    "#Let’s predict the 'Eligibility' for testing set and calculate its accuracy.\n",
    "lrpred = lrmodel.predict(x_test)\n",
    "print('Overall model accuracy is', (accuracy_score(y_test, lrpred).round(3)))"
   ]
  },
  {
   "cell_type": "markdown",
   "metadata": {
    "id": "npAyvwMco_Br"
   },
   "source": [
    "## **Use Fairlearn**"
   ]
  },
  {
   "cell_type": "code",
   "execution_count": 24,
   "metadata": {
    "id": "6eYS-ETsbU9n"
   },
   "outputs": [
    {
     "name": "stdout",
     "output_type": "stream",
     "text": [
      "Collecting fairlearn\n",
      "  Using cached fairlearn-0.8.0-py3-none-any.whl (235 kB)\n",
      "Collecting raiwidgets\n",
      "  Using cached raiwidgets-0.29.0-py3-none-any.whl (2.6 MB)\n",
      "Requirement already satisfied: scikit-learn>=0.22.1 in c:\\users\\rushanthi\\anaconda3\\lib\\site-packages (from fairlearn) (1.0.2)\n",
      "Requirement already satisfied: numpy>=1.17.2 in c:\\users\\rushanthi\\anaconda3\\lib\\site-packages (from fairlearn) (1.21.5)\n",
      "Requirement already satisfied: pandas>=0.25.1 in c:\\users\\rushanthi\\anaconda3\\lib\\site-packages (from fairlearn) (1.4.4)\n",
      "Requirement already satisfied: scipy>=1.4.1 in c:\\users\\rushanthi\\anaconda3\\lib\\site-packages (from fairlearn) (1.9.1)\n",
      "Collecting lightgbm>=2.0.11\n",
      "  Using cached lightgbm-4.0.0-py3-none-win_amd64.whl (1.3 MB)\n",
      "Requirement already satisfied: itsdangerous<=2.1.2 in c:\\users\\rushanthi\\anaconda3\\lib\\site-packages (from raiwidgets) (2.0.1)\n",
      "Requirement already satisfied: raiutils>=0.4.0 in c:\\users\\rushanthi\\anaconda3\\lib\\site-packages (from raiwidgets) (0.4.0)\n",
      "Collecting erroranalysis>=0.4.4\n",
      "  Using cached erroranalysis-0.4.4-py3-none-any.whl (39 kB)\n",
      "Collecting responsibleai==0.29.0\n",
      "  Using cached responsibleai-0.29.0-py3-none-any.whl (149 kB)\n",
      "Collecting rai-core-flask==0.6.0\n",
      "  Using cached rai_core_flask-0.6.0-py3-none-any.whl (11 kB)\n",
      "Requirement already satisfied: Werkzeug<=2.2.3 in c:\\users\\rushanthi\\anaconda3\\lib\\site-packages (from rai-core-flask==0.6.0->raiwidgets) (2.0.3)\n",
      "Collecting Flask-Cors\n",
      "  Using cached Flask_Cors-4.0.0-py2.py3-none-any.whl (14 kB)\n",
      "Collecting gevent>=21.12.0\n",
      "  Using cached gevent-23.7.0-cp39-cp39-win_amd64.whl (1.5 MB)\n",
      "Requirement already satisfied: ipython>=7.31.1 in c:\\users\\rushanthi\\anaconda3\\lib\\site-packages (from rai-core-flask==0.6.0->raiwidgets) (7.31.1)\n",
      "Requirement already satisfied: greenlet>=1.1.2 in c:\\users\\rushanthi\\anaconda3\\lib\\site-packages (from rai-core-flask==0.6.0->raiwidgets) (2.0.2)\n",
      "Requirement already satisfied: markupsafe<=2.1.2 in c:\\users\\rushanthi\\anaconda3\\lib\\site-packages (from rai-core-flask==0.6.0->raiwidgets) (2.0.1)\n",
      "Requirement already satisfied: Flask in c:\\users\\rushanthi\\anaconda3\\lib\\site-packages (from rai-core-flask==0.6.0->raiwidgets) (1.1.2)\n",
      "Requirement already satisfied: numba<=0.55.2 in c:\\users\\rushanthi\\anaconda3\\lib\\site-packages (from responsibleai==0.29.0->raiwidgets) (0.55.1)\n",
      "Collecting econml>=0.14.1\n",
      "  Using cached econml-0.14.1-cp39-cp39-win_amd64.whl (937 kB)\n",
      "Collecting ml-wrappers\n",
      "  Using cached ml_wrappers-0.4.11-py3-none-any.whl (47 kB)\n",
      "Collecting ipykernel<=6.8.0\n",
      "  Using cached ipykernel-6.8.0-py3-none-any.whl (128 kB)\n",
      "Requirement already satisfied: networkx<=2.5 in c:\\users\\rushanthi\\anaconda3\\lib\\site-packages (from responsibleai==0.29.0->raiwidgets) (2.5)\n",
      "Requirement already satisfied: dice-ml<0.11,>=0.10 in c:\\users\\rushanthi\\anaconda3\\lib\\site-packages (from responsibleai==0.29.0->raiwidgets) (0.10)\n",
      "Requirement already satisfied: jsonschema in c:\\users\\rushanthi\\anaconda3\\lib\\site-packages (from responsibleai==0.29.0->raiwidgets) (4.16.0)\n",
      "Collecting interpret-community>=0.29.0\n",
      "  Using cached interpret_community-0.29.0-py3-none-any.whl (130 kB)\n",
      "Collecting statsmodels<0.14.0\n",
      "  Using cached statsmodels-0.13.5-cp39-cp39-win_amd64.whl (9.2 MB)\n",
      "Requirement already satisfied: semver~=2.13.0 in c:\\users\\rushanthi\\anaconda3\\lib\\site-packages (from responsibleai==0.29.0->raiwidgets) (2.13.0)\n",
      "Requirement already satisfied: pytz>=2020.1 in c:\\users\\rushanthi\\anaconda3\\lib\\site-packages (from pandas>=0.25.1->fairlearn) (2022.1)\n",
      "Requirement already satisfied: python-dateutil>=2.8.1 in c:\\users\\rushanthi\\anaconda3\\lib\\site-packages (from pandas>=0.25.1->fairlearn) (2.8.2)\n",
      "Requirement already satisfied: requests in c:\\users\\rushanthi\\anaconda3\\lib\\site-packages (from raiutils>=0.4.0->raiwidgets) (2.28.1)\n",
      "Requirement already satisfied: joblib>=0.11 in c:\\users\\rushanthi\\anaconda3\\lib\\site-packages (from scikit-learn>=0.22.1->fairlearn) (1.3.1)\n",
      "Requirement already satisfied: threadpoolctl>=2.0.0 in c:\\users\\rushanthi\\anaconda3\\lib\\site-packages (from scikit-learn>=0.22.1->fairlearn) (2.2.0)\n",
      "Requirement already satisfied: tqdm in c:\\users\\rushanthi\\anaconda3\\lib\\site-packages (from dice-ml<0.11,>=0.10->responsibleai==0.29.0->raiwidgets) (4.64.1)\n",
      "Collecting shap<0.42.0,>=0.38.1\n",
      "  Using cached shap-0.41.0-cp39-cp39-win_amd64.whl (435 kB)\n",
      "Requirement already satisfied: sparse in c:\\users\\rushanthi\\anaconda3\\lib\\site-packages (from econml>=0.14.1->responsibleai==0.29.0->raiwidgets) (0.14.0)\n",
      "Requirement already satisfied: cffi>=1.12.2 in c:\\users\\rushanthi\\anaconda3\\lib\\site-packages (from gevent>=21.12.0->rai-core-flask==0.6.0->raiwidgets) (1.15.1)\n",
      "Requirement already satisfied: zope.event in c:\\users\\rushanthi\\anaconda3\\lib\\site-packages (from gevent>=21.12.0->rai-core-flask==0.6.0->raiwidgets) (5.0)\n",
      "Requirement already satisfied: zope.interface in c:\\users\\rushanthi\\anaconda3\\lib\\site-packages (from gevent>=21.12.0->rai-core-flask==0.6.0->raiwidgets) (5.4.0)\n",
      "Requirement already satisfied: interpret-core[required]<=0.3.2,>=0.1.20 in c:\\users\\rushanthi\\anaconda3\\lib\\site-packages (from interpret-community>=0.29.0->responsibleai==0.29.0->raiwidgets) (0.3.2)\n",
      "Requirement already satisfied: packaging in c:\\users\\rushanthi\\anaconda3\\lib\\site-packages (from interpret-community>=0.29.0->responsibleai==0.29.0->raiwidgets) (21.3)\n",
      "Requirement already satisfied: nest-asyncio in c:\\users\\rushanthi\\anaconda3\\lib\\site-packages (from ipykernel<=6.8.0->responsibleai==0.29.0->raiwidgets) (1.5.5)\n",
      "Requirement already satisfied: debugpy<2.0,>=1.0.0 in c:\\users\\rushanthi\\anaconda3\\lib\\site-packages (from ipykernel<=6.8.0->responsibleai==0.29.0->raiwidgets) (1.5.1)\n",
      "Requirement already satisfied: traitlets<6.0,>=5.1.0 in c:\\users\\rushanthi\\anaconda3\\lib\\site-packages (from ipykernel<=6.8.0->responsibleai==0.29.0->raiwidgets) (5.1.1)\n",
      "Requirement already satisfied: matplotlib-inline<0.2.0,>=0.1.0 in c:\\users\\rushanthi\\anaconda3\\lib\\site-packages (from ipykernel<=6.8.0->responsibleai==0.29.0->raiwidgets) (0.1.6)\n",
      "Requirement already satisfied: jupyter-client<8.0 in c:\\users\\rushanthi\\anaconda3\\lib\\site-packages (from ipykernel<=6.8.0->responsibleai==0.29.0->raiwidgets) (7.3.4)\n",
      "Requirement already satisfied: tornado<7.0,>=4.2 in c:\\users\\rushanthi\\anaconda3\\lib\\site-packages (from ipykernel<=6.8.0->responsibleai==0.29.0->raiwidgets) (6.1)\n",
      "Requirement already satisfied: setuptools>=18.5 in c:\\users\\rushanthi\\anaconda3\\lib\\site-packages (from ipython>=7.31.1->rai-core-flask==0.6.0->raiwidgets) (63.4.1)\n",
      "Requirement already satisfied: decorator in c:\\users\\rushanthi\\anaconda3\\lib\\site-packages (from ipython>=7.31.1->rai-core-flask==0.6.0->raiwidgets) (5.1.1)\n",
      "Requirement already satisfied: pygments in c:\\users\\rushanthi\\anaconda3\\lib\\site-packages (from ipython>=7.31.1->rai-core-flask==0.6.0->raiwidgets) (2.11.2)\n",
      "Requirement already satisfied: jedi>=0.16 in c:\\users\\rushanthi\\anaconda3\\lib\\site-packages (from ipython>=7.31.1->rai-core-flask==0.6.0->raiwidgets) (0.18.1)\n",
      "Requirement already satisfied: prompt-toolkit!=3.0.0,!=3.0.1,<3.1.0,>=2.0.0 in c:\\users\\rushanthi\\anaconda3\\lib\\site-packages (from ipython>=7.31.1->rai-core-flask==0.6.0->raiwidgets) (3.0.20)\n",
      "Requirement already satisfied: pickleshare in c:\\users\\rushanthi\\anaconda3\\lib\\site-packages (from ipython>=7.31.1->rai-core-flask==0.6.0->raiwidgets) (0.7.5)\n",
      "Requirement already satisfied: colorama in c:\\users\\rushanthi\\anaconda3\\lib\\site-packages (from ipython>=7.31.1->rai-core-flask==0.6.0->raiwidgets) (0.4.5)\n",
      "Requirement already satisfied: backcall in c:\\users\\rushanthi\\anaconda3\\lib\\site-packages (from ipython>=7.31.1->rai-core-flask==0.6.0->raiwidgets) (0.2.0)\n",
      "Requirement already satisfied: llvmlite<0.39,>=0.38.0rc1 in c:\\users\\rushanthi\\anaconda3\\lib\\site-packages (from numba<=0.55.2->responsibleai==0.29.0->raiwidgets) (0.38.0)\n",
      "Requirement already satisfied: six>=1.5 in c:\\users\\rushanthi\\anaconda3\\lib\\site-packages (from python-dateutil>=2.8.1->pandas>=0.25.1->fairlearn) (1.16.0)\n",
      "Requirement already satisfied: patsy>=0.5.2 in c:\\users\\rushanthi\\anaconda3\\lib\\site-packages (from statsmodels<0.14.0->responsibleai==0.29.0->raiwidgets) (0.5.2)\n",
      "Requirement already satisfied: Jinja2>=2.10.1 in c:\\users\\rushanthi\\anaconda3\\lib\\site-packages (from Flask->rai-core-flask==0.6.0->raiwidgets) (2.11.3)\n",
      "Requirement already satisfied: click>=5.1 in c:\\users\\rushanthi\\anaconda3\\lib\\site-packages (from Flask->rai-core-flask==0.6.0->raiwidgets) (8.0.4)\n",
      "Requirement already satisfied: pyrsistent!=0.17.0,!=0.17.1,!=0.17.2,>=0.14.0 in c:\\users\\rushanthi\\anaconda3\\lib\\site-packages (from jsonschema->responsibleai==0.29.0->raiwidgets) (0.18.0)\n",
      "Requirement already satisfied: attrs>=17.4.0 in c:\\users\\rushanthi\\anaconda3\\lib\\site-packages (from jsonschema->responsibleai==0.29.0->raiwidgets) (21.4.0)\n",
      "Requirement already satisfied: urllib3<1.27,>=1.21.1 in c:\\users\\rushanthi\\anaconda3\\lib\\site-packages (from requests->raiutils>=0.4.0->raiwidgets) (1.26.11)\n",
      "Requirement already satisfied: idna<4,>=2.5 in c:\\users\\rushanthi\\anaconda3\\lib\\site-packages (from requests->raiutils>=0.4.0->raiwidgets) (3.3)\n",
      "Requirement already satisfied: certifi>=2017.4.17 in c:\\users\\rushanthi\\anaconda3\\lib\\site-packages (from requests->raiutils>=0.4.0->raiwidgets) (2022.9.14)\n",
      "Requirement already satisfied: charset-normalizer<3,>=2 in c:\\users\\rushanthi\\anaconda3\\lib\\site-packages (from requests->raiutils>=0.4.0->raiwidgets) (2.0.4)\n",
      "Requirement already satisfied: pycparser in c:\\users\\rushanthi\\anaconda3\\lib\\site-packages (from cffi>=1.12.2->gevent>=21.12.0->rai-core-flask==0.6.0->raiwidgets) (2.21)\n",
      "Requirement already satisfied: parso<0.9.0,>=0.8.0 in c:\\users\\rushanthi\\anaconda3\\lib\\site-packages (from jedi>=0.16->ipython>=7.31.1->rai-core-flask==0.6.0->raiwidgets) (0.8.3)\n",
      "Requirement already satisfied: pyzmq>=23.0 in c:\\users\\rushanthi\\anaconda3\\lib\\site-packages (from jupyter-client<8.0->ipykernel<=6.8.0->responsibleai==0.29.0->raiwidgets) (23.2.0)\n",
      "Requirement already satisfied: entrypoints in c:\\users\\rushanthi\\anaconda3\\lib\\site-packages (from jupyter-client<8.0->ipykernel<=6.8.0->responsibleai==0.29.0->raiwidgets) (0.4)\n",
      "Requirement already satisfied: jupyter-core>=4.9.2 in c:\\users\\rushanthi\\anaconda3\\lib\\site-packages (from jupyter-client<8.0->ipykernel<=6.8.0->responsibleai==0.29.0->raiwidgets) (4.11.1)\n",
      "Requirement already satisfied: pyparsing!=3.0.5,>=2.0.2 in c:\\users\\rushanthi\\anaconda3\\lib\\site-packages (from packaging->interpret-community>=0.29.0->responsibleai==0.29.0->raiwidgets) (3.0.9)\n",
      "Requirement already satisfied: wcwidth in c:\\users\\rushanthi\\anaconda3\\lib\\site-packages (from prompt-toolkit!=3.0.0,!=3.0.1,<3.1.0,>=2.0.0->ipython>=7.31.1->rai-core-flask==0.6.0->raiwidgets) (0.2.5)\n",
      "Requirement already satisfied: slicer==0.0.7 in c:\\users\\rushanthi\\anaconda3\\lib\\site-packages (from shap<0.42.0,>=0.38.1->econml>=0.14.1->responsibleai==0.29.0->raiwidgets) (0.0.7)\n",
      "Requirement already satisfied: cloudpickle in c:\\users\\rushanthi\\anaconda3\\lib\\site-packages (from shap<0.42.0,>=0.38.1->econml>=0.14.1->responsibleai==0.29.0->raiwidgets) (2.0.0)\n",
      "Requirement already satisfied: pywin32>=1.0 in c:\\users\\rushanthi\\anaconda3\\lib\\site-packages (from jupyter-core>=4.9.2->jupyter-client<8.0->ipykernel<=6.8.0->responsibleai==0.29.0->raiwidgets) (302)\n",
      "Installing collected packages: lightgbm, gevent, statsmodels, shap, ml-wrappers, ipykernel, Flask-Cors, fairlearn, rai-core-flask, interpret-community, erroranalysis, econml, responsibleai, raiwidgets\n",
      "  Attempting uninstall: statsmodels\n",
      "    Found existing installation: statsmodels 0.14.0\n",
      "    Uninstalling statsmodels-0.14.0:\n",
      "      Successfully uninstalled statsmodels-0.14.0\n",
      "  Attempting uninstall: shap\n",
      "    Found existing installation: shap 0.42.1\n",
      "    Uninstalling shap-0.42.1:\n",
      "      Successfully uninstalled shap-0.42.1\n",
      "  Attempting uninstall: ipykernel\n",
      "    Found existing installation: ipykernel 6.15.2\n",
      "    Uninstalling ipykernel-6.15.2:\n",
      "      Successfully uninstalled ipykernel-6.15.2\n",
      "Successfully installed Flask-Cors-4.0.0 econml-0.14.1 erroranalysis-0.4.4 fairlearn-0.8.0 gevent-23.7.0 interpret-community-0.29.0 ipykernel-6.8.0 lightgbm-4.0.0 ml-wrappers-0.4.11 rai-core-flask-0.6.0 raiwidgets-0.29.0 responsibleai-0.29.0 shap-0.41.0 statsmodels-0.13.5\n"
     ]
    },
    {
     "name": "stderr",
     "output_type": "stream",
     "text": [
      "WARNING: Ignoring invalid distribution -tatsmodels (c:\\users\\rushanthi\\anaconda3\\lib\\site-packages)\n",
      "WARNING: Ignoring invalid distribution -tatsmodels (c:\\users\\rushanthi\\anaconda3\\lib\\site-packages)\n",
      "WARNING: Ignoring invalid distribution -tatsmodels (c:\\users\\rushanthi\\anaconda3\\lib\\site-packages)\n",
      "    WARNING: Ignoring invalid distribution -tatsmodels (c:\\users\\rushanthi\\anaconda3\\lib\\site-packages)\n",
      "    WARNING: Ignoring invalid distribution -tatsmodels (c:\\users\\rushanthi\\anaconda3\\lib\\site-packages)\n",
      "    WARNING: Ignoring invalid distribution -tatsmodels (c:\\users\\rushanthi\\anaconda3\\lib\\site-packages)\n",
      "WARNING: Ignoring invalid distribution -tatsmodels (c:\\users\\rushanthi\\anaconda3\\lib\\site-packages)\n",
      "WARNING: Ignoring invalid distribution -tatsmodels (c:\\users\\rushanthi\\anaconda3\\lib\\site-packages)\n",
      "WARNING: Ignoring invalid distribution -tatsmodels (c:\\users\\rushanthi\\anaconda3\\lib\\site-packages)\n",
      "WARNING: Ignoring invalid distribution -tatsmodels (c:\\users\\rushanthi\\anaconda3\\lib\\site-packages)\n",
      "WARNING: Ignoring invalid distribution -tatsmodels (c:\\users\\rushanthi\\anaconda3\\lib\\site-packages)\n",
      "WARNING: Ignoring invalid distribution -tatsmodels (c:\\users\\rushanthi\\anaconda3\\lib\\site-packages)\n",
      "WARNING: Ignoring invalid distribution -tatsmodels (c:\\users\\rushanthi\\anaconda3\\lib\\site-packages)\n",
      "WARNING: Ignoring invalid distribution -tatsmodels (c:\\users\\rushanthi\\anaconda3\\lib\\site-packages)\n",
      "WARNING: Ignoring invalid distribution -tatsmodels (c:\\users\\rushanthi\\anaconda3\\lib\\site-packages)\n",
      "WARNING: Ignoring invalid distribution -tatsmodels (c:\\users\\rushanthi\\anaconda3\\lib\\site-packages)\n",
      "WARNING: Ignoring invalid distribution -tatsmodels (c:\\users\\rushanthi\\anaconda3\\lib\\site-packages)\n",
      "WARNING: Ignoring invalid distribution -tatsmodels (c:\\users\\rushanthi\\anaconda3\\lib\\site-packages)\n",
      "WARNING: Ignoring invalid distribution -tatsmodels (c:\\users\\rushanthi\\anaconda3\\lib\\site-packages)\n",
      "WARNING: Ignoring invalid distribution -tatsmodels (c:\\users\\rushanthi\\anaconda3\\lib\\site-packages)\n",
      "ERROR: pip's dependency resolver does not currently take into account all the packages that are installed. This behaviour is the source of the following dependency conflicts.\n",
      "explainerdashboard 0.4.2.2 requires scikit-learn>=1.1, but you have scikit-learn 1.0.2 which is incompatible.\n",
      "WARNING: Ignoring invalid distribution -tatsmodels (c:\\users\\rushanthi\\anaconda3\\lib\\site-packages)\n",
      "WARNING: Ignoring invalid distribution -tatsmodels (c:\\users\\rushanthi\\anaconda3\\lib\\site-packages)\n",
      "WARNING: Ignoring invalid distribution -tatsmodels (c:\\users\\rushanthi\\anaconda3\\lib\\site-packages)\n"
     ]
    }
   ],
   "source": [
    "!pip install --upgrade fairlearn raiwidgets"
   ]
  },
  {
   "cell_type": "code",
   "execution_count": 26,
   "metadata": {},
   "outputs": [
    {
     "data": {
      "text/html": [
       "<div>\n",
       "<style scoped>\n",
       "    .dataframe tbody tr th:only-of-type {\n",
       "        vertical-align: middle;\n",
       "    }\n",
       "\n",
       "    .dataframe tbody tr th {\n",
       "        vertical-align: top;\n",
       "    }\n",
       "\n",
       "    .dataframe thead th {\n",
       "        text-align: right;\n",
       "    }\n",
       "</style>\n",
       "<table border=\"1\" class=\"dataframe\">\n",
       "  <thead>\n",
       "    <tr style=\"text-align: right;\">\n",
       "      <th></th>\n",
       "      <th>Gender</th>\n",
       "      <th>ApplicantIncome</th>\n",
       "    </tr>\n",
       "  </thead>\n",
       "  <tbody>\n",
       "    <tr>\n",
       "      <th>263</th>\n",
       "      <td>Female</td>\n",
       "      <td>0.920230</td>\n",
       "    </tr>\n",
       "    <tr>\n",
       "      <th>583</th>\n",
       "      <td>Male</td>\n",
       "      <td>0.404797</td>\n",
       "    </tr>\n",
       "    <tr>\n",
       "      <th>258</th>\n",
       "      <td>Male</td>\n",
       "      <td>0.221684</td>\n",
       "    </tr>\n",
       "    <tr>\n",
       "      <th>28</th>\n",
       "      <td>Male</td>\n",
       "      <td>-0.892349</td>\n",
       "    </tr>\n",
       "    <tr>\n",
       "      <th>86</th>\n",
       "      <td>Male</td>\n",
       "      <td>0.275091</td>\n",
       "    </tr>\n",
       "  </tbody>\n",
       "</table>\n",
       "</div>"
      ],
      "text/plain": [
       "     Gender  ApplicantIncome\n",
       "263  Female         0.920230\n",
       "583    Male         0.404797\n",
       "258    Male         0.221684\n",
       "28     Male        -0.892349\n",
       "86     Male         0.275091"
      ]
     },
     "execution_count": 26,
     "metadata": {},
     "output_type": "execute_result"
    }
   ],
   "source": [
    "x_test.head()"
   ]
  },
  {
   "cell_type": "code",
   "execution_count": 25,
   "metadata": {
    "colab": {
     "base_uri": "https://localhost:8080/"
    },
    "id": "iRq6geBmplvK",
    "outputId": "15b4c649-c69c-4b37-e3e3-cb26c9cfd743"
   },
   "outputs": [
    {
     "name": "stdout",
     "output_type": "stream",
     "text": [
      "Overall Accuracy: 0.686\n",
      "\n",
      "Accuracy by group: Gender\n",
      "Female    0.705882\n",
      "Male      0.682119\n",
      "Name: accuracy_score, dtype: float64\n"
     ]
    }
   ],
   "source": [
    "#for understanding\n",
    "x_test = x_test.replace({'Gender':{1:'Male',0:'Female'}})\n",
    "\n",
    "#fairlearn metrics\n",
    "from fairlearn.metrics import MetricFrame, selection_rate\n",
    "acc = MetricFrame(metrics=accuracy_score, y_true=y_test, y_pred=lrpred, sensitive_features=x_test['Gender'])\n",
    "\n",
    "print('Overall Accuracy:', (acc.overall).round(3))\n",
    "print('\\nAccuracy by group:', acc.by_group)"
   ]
  },
  {
   "cell_type": "markdown",
   "metadata": {
    "id": "UMnJZiC4ckqt"
   },
   "source": [
    "This tells us that the model predicts loan eligibility with 71% accuracy for **Females** and  only 68% accuracy for **Males**. "
   ]
  },
  {
   "cell_type": "code",
   "execution_count": 27,
   "metadata": {
    "colab": {
     "base_uri": "https://localhost:8080/",
     "height": 279
    },
    "id": "fNW9seFib384",
    "outputId": "454874ba-2661-4f8c-ab30-e6e408abbfc3"
   },
   "outputs": [
    {
     "data": {
      "text/plain": [
       "<AxesSubplot:>"
      ]
     },
     "execution_count": 27,
     "metadata": {},
     "output_type": "execute_result"
    },
    {
     "data": {
      "image/png": "[encoded data removed]",
      "text/plain": [
       "<Figure size 640x480 with 1 Axes>"
      ]
     },
     "metadata": {},
     "output_type": "display_data"
    }
   ],
   "source": [
    "#Let's check some stats quickly\n",
    "x_train['Gender'].value_counts().plot.bar()"
   ]
  },
  {
   "cell_type": "markdown",
   "metadata": {},
   "source": [
    "That is mostly because the model has learned the bias of applicant income  for females. The records for Male applicants in the `x_train` dataset are higher than those of Females applicants. Ideally the model should learn better about the male applicants and make better predictions for males than females. \n",
    "\n",
    "This shows how easily a model gets influenced by bias.\n"
   ]
  },
  {
   "cell_type": "markdown",
   "metadata": {
    "id": "j73uiI9Wrqe4"
   },
   "source": [
    "However, in probems like this where there is class imbalance, simply `accuracy` is not enough. We have to evaluate a model based on `selection rate`, `precision`, and `recall`"
   ]
  },
  {
   "cell_type": "code",
   "execution_count": 28,
   "metadata": {
    "id": "qzcFbd1gc0Oy"
   },
   "outputs": [],
   "source": [
    "from sklearn.metrics import accuracy_score, recall_score, precision_score\n",
    "metrics = {'recall': recall_score,\n",
    "           'precision': precision_score}"
   ]
  },
  {
   "cell_type": "code",
   "execution_count": 29,
   "metadata": {
    "id": "qFK_ujasc22P"
   },
   "outputs": [],
   "source": [
    "group_metrics = MetricFrame(metrics=metrics,\n",
    "                             y_true=y_test,\n",
    "                             y_pred=lrpred,\n",
    "                             sensitive_features=x_test['Gender'])"
   ]
  },
  {
   "cell_type": "code",
   "execution_count": 30,
   "metadata": {
    "colab": {
     "base_uri": "https://localhost:8080/"
    },
    "id": "vDcq9DQ2c5Y1",
    "outputId": "e700c405-0292-49ab-c9af-c7f50298bf9b"
   },
   "outputs": [
    {
     "name": "stdout",
     "output_type": "stream",
     "text": [
      "Overall Metrics:\n",
      "Recall: 1.0\n",
      "Precision: 0.69\n",
      "\n",
      "Metrics by Group:\n",
      "        recall  precision\n",
      "Gender                   \n",
      "Female     1.0   0.705882\n",
      "Male       1.0   0.682119\n"
     ]
    }
   ],
   "source": [
    "print('Overall Metrics:')\n",
    "print('Recall:', recall_score(y_test, lrpred).round(2))\n",
    "print('Precision:', precision_score(y_test, lrpred).round(2))\n",
    "print('\\nMetrics by Group:')\n",
    "print(group_metrics.by_group)"
   ]
  },
  {
   "cell_type": "markdown",
   "metadata": {
    "id": "h0baUcQydAC3"
   },
   "source": [
    "**1. Recall** indicates the proportion of eligible (i.e. 1) cases that were correctly identified by the model. In other words, of all the applicants who are actually eligible, how many did the model find? The model does a better job at this for both male and female applicants, even though there is a class imbalance. The bias is helping the female class.\n",
    "\n",
    "**Question why?** In this case, the model was easily able to learn because of the bias and was able to identify female eligibility easily.\n",
    "\n",
    "\n",
    "\n",
    "---\n",
    "\n",
    "\n",
    "\n",
    "**2. Precision** identifies what proportion of eligible predictions was actually correct? In other words, when it predicts that an applicant is eligible, it is correct 69% of the time (overall). The precision for female group is better than the precision for male group.\n",
    "\n",
    "**Question why?** In this case, we know the answer. The model was easily able to learn because of the bias and was able to identify female eligibility precisely.\n"
   ]
  },
  {
   "cell_type": "code",
   "execution_count": null,
   "metadata": {},
   "outputs": [],
   "source": []
  }
 ],
 "metadata": {
  "colab": {
   "collapsed_sections": [
    "vQniuFLiJ2FZ",
    "NKdgM9xqxqb-",
    "npAyvwMco_Br",
    "bWq1BZdh_pD_",
    "jdByj99CBv_e",
    "zw_uUOA2MyDW",
    "z-ESo-1Ru0YY"
   ],
   "name": "Fairlearn.ipynb",
   "provenance": []
  },
  "kernelspec": {
   "display_name": "Python 3 (ipykernel)",
   "language": "python",
   "name": "python3"
  },
  "language_info": {
   "codemirror_mode": {
    "name": "ipython",
    "version": 3
   },
   "file_extension": ".py",
   "mimetype": "text/x-python",
   "name": "python",
   "nbconvert_exporter": "python",
   "pygments_lexer": "ipython3",
   "version": "3.9.13"
  }
 },
 "nbformat": 4,
 "nbformat_minor": 1
}

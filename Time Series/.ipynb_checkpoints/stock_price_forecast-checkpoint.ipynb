{
 "cells": [
  {
   "cell_type": "markdown",
   "metadata": {
    "id": "uek2dBkRXwLM"
   },
   "source": [
    "# **Time Series Forecasting with ARIMA Model**"
   ]
  },
  {
   "cell_type": "markdown",
   "metadata": {
    "id": "2BdHiYEuV2yV"
   },
   "source": [
    "ARIMA - Auto Regressive Integrated Moving Average\n",
    "\n",
    "An ARIMA model is characterized by 3 terms: p, d, q\n",
    "<br><br>\n",
    "* **AR (p) Autoregression:** An auto regressive AR(p) term refers to the number of lags of Y to be used as predictors.\n",
    "<br><br>\n",
    "* **I (d) Integration:** uses differencing of observations (subtracting an observation with an obseervation from the previous step) in order to make the time series stationary.\n",
    "<br><br>\n",
    "* **MA (q) Moving Average:**  ‘q’ is the order of the ‘Moving Average’ (MA) term. It refers to the number of lagged forecast errors that should go into the ARIMA Model.\n",
    "<br><br>\n",
    "\n",
    "Model Types: \n",
    "\n",
    "**ARIMA** - Non-seasonal auto regressive integrated moving average\n",
    "\n",
    "<span style=\"color:crimson\">**ARIMAX** - ARIMA with exogenous variable</span>\n",
    "\n",
    "**SARIMA** - Seasonal ARIMA\n",
    "\n",
    "**SARIMAX** - Seasonal ARIMA with exogenous variable"
   ]
  },
  {
   "cell_type": "code",
   "execution_count": 3,
   "metadata": {
    "id": "C5Geg2wxV2yY"
   },
   "outputs": [],
   "source": [
    "# import necessary libraries\n",
    "\n",
    "import pandas as pd\n",
    "import numpy as np\n",
    "import matplotlib.pyplot as plt"
   ]
  },
  {
   "cell_type": "markdown",
   "metadata": {
    "id": "6YUxwbZaV2yZ"
   },
   "source": [
    "    "
   ]
  },
  {
   "cell_type": "code",
   "execution_count": 4,
   "metadata": {
    "colab": {
     "base_uri": "https://localhost:8080/"
    },
    "id": "XYpTGxQeV2ya",
    "outputId": "535e2202-8453-45d2-a97f-6d3bcd79876f"
   },
   "outputs": [
    {
     "name": "stdout",
     "output_type": "stream",
     "text": [
      "Date         object\n",
      "Apple       float64\n",
      "TexasIns    float64\n",
      "dtype: object\n"
     ]
    }
   ],
   "source": [
    "# load the dataset. \n",
    "# This dataset contains the stock price for 'Apple' and the stock price for 'TXN'\n",
    "data = pd.read_csv('Apple.csv')\n",
    "print(data.dtypes)"
   ]
  },
  {
   "cell_type": "markdown",
   "metadata": {
    "id": "5nDLl0KCV2yb"
   },
   "source": [
    "The column `Date` is an 'object'. We need to change it to `datetime` data type."
   ]
  },
  {
   "cell_type": "code",
   "execution_count": 5,
   "metadata": {
    "id": "Em9kz1i3nC6o"
   },
   "outputs": [],
   "source": [
    "# convert 'Date' to datetime type\n",
    "data['Date'] = pd.to_datetime(data.Date)"
   ]
  },
  {
   "cell_type": "code",
   "execution_count": 6,
   "metadata": {
    "colab": {
     "base_uri": "https://localhost:8080/"
    },
    "id": "6g1mBBB8nItp",
    "outputId": "cb8eadd4-0e4a-4a81-f3cd-884178446de4"
   },
   "outputs": [
    {
     "name": "stdout",
     "output_type": "stream",
     "text": [
      "Date        datetime64[ns]\n",
      "Apple              float64\n",
      "TexasIns           float64\n",
      "dtype: object\n"
     ]
    }
   ],
   "source": [
    "# check the datatype\n",
    "print(data.dtypes)"
   ]
  },
  {
   "cell_type": "code",
   "execution_count": 7,
   "metadata": {
    "colab": {
     "base_uri": "https://localhost:8080/",
     "height": 269
    },
    "id": "m_7d7VxyV2yb",
    "outputId": "a82a405c-060a-426a-aa25-c39ae2e3fbc3"
   },
   "outputs": [
    {
     "data": {
      "text/html": [
       "<div>\n",
       "<style scoped>\n",
       "    .dataframe tbody tr th:only-of-type {\n",
       "        vertical-align: middle;\n",
       "    }\n",
       "\n",
       "    .dataframe tbody tr th {\n",
       "        vertical-align: top;\n",
       "    }\n",
       "\n",
       "    .dataframe thead th {\n",
       "        text-align: right;\n",
       "    }\n",
       "</style>\n",
       "<table border=\"1\" class=\"dataframe\">\n",
       "  <thead>\n",
       "    <tr style=\"text-align: right;\">\n",
       "      <th></th>\n",
       "      <th>Date</th>\n",
       "      <th>Apple</th>\n",
       "      <th>TexasIns</th>\n",
       "    </tr>\n",
       "  </thead>\n",
       "  <tbody>\n",
       "    <tr>\n",
       "      <th>0</th>\n",
       "      <td>2020-01-01</td>\n",
       "      <td>77.38</td>\n",
       "      <td>120.65</td>\n",
       "    </tr>\n",
       "    <tr>\n",
       "      <th>1</th>\n",
       "      <td>2020-02-01</td>\n",
       "      <td>68.34</td>\n",
       "      <td>114.14</td>\n",
       "    </tr>\n",
       "    <tr>\n",
       "      <th>2</th>\n",
       "      <td>2020-03-01</td>\n",
       "      <td>63.57</td>\n",
       "      <td>99.93</td>\n",
       "    </tr>\n",
       "    <tr>\n",
       "      <th>3</th>\n",
       "      <td>2020-04-01</td>\n",
       "      <td>73.45</td>\n",
       "      <td>116.07</td>\n",
       "    </tr>\n",
       "    <tr>\n",
       "      <th>4</th>\n",
       "      <td>2020-05-01</td>\n",
       "      <td>79.49</td>\n",
       "      <td>118.74</td>\n",
       "    </tr>\n",
       "    <tr>\n",
       "      <th>5</th>\n",
       "      <td>2020-06-01</td>\n",
       "      <td>91.20</td>\n",
       "      <td>126.97</td>\n",
       "    </tr>\n",
       "    <tr>\n",
       "      <th>6</th>\n",
       "      <td>2020-07-01</td>\n",
       "      <td>106.26</td>\n",
       "      <td>127.55</td>\n",
       "    </tr>\n",
       "  </tbody>\n",
       "</table>\n",
       "</div>"
      ],
      "text/plain": [
       "        Date   Apple  TexasIns\n",
       "0 2020-01-01   77.38    120.65\n",
       "1 2020-02-01   68.34    114.14\n",
       "2 2020-03-01   63.57     99.93\n",
       "3 2020-04-01   73.45    116.07\n",
       "4 2020-05-01   79.49    118.74\n",
       "5 2020-06-01   91.20    126.97\n",
       "6 2020-07-01  106.26    127.55"
      ]
     },
     "execution_count": 7,
     "metadata": {},
     "output_type": "execute_result"
    }
   ],
   "source": [
    "# for convenience\n",
    "pd.set_option('display.max_rows', 8)\n",
    "data.head(7)"
   ]
  },
  {
   "cell_type": "markdown",
   "metadata": {
    "id": "_W9vFsRkYAQS"
   },
   "source": [
    "If you use only the previous values of the time series to predict its future values, it is called **Univariate Time Series Forecasting**.\n",
    "\n",
    "And if you use predictors other than the series (a.k.a exogenous variables) to forecast it is called **Multi Variate Time Series Forecasting**."
   ]
  },
  {
   "cell_type": "markdown",
   "metadata": {
    "id": "V36FfX8PfPlY"
   },
   "source": [
    "# Univariate - Using only one variable"
   ]
  },
  {
   "cell_type": "code",
   "execution_count": 8,
   "metadata": {
    "id": "l3tJZ0gKV2yc"
   },
   "outputs": [],
   "source": [
    "# Univariate analysis - We will only use 'Apple' variable. \n",
    "# Training data - January 2020 to January 2022\n",
    "# Testing data - February 2022 - May 2022\n",
    "df = data.iloc[0:25,0:2]"
   ]
  },
  {
   "cell_type": "code",
   "execution_count": 9,
   "metadata": {
    "colab": {
     "base_uri": "https://localhost:8080/",
     "height": 206
    },
    "id": "TCM4F78iV2yc",
    "outputId": "ba8f6de0-0673-483d-cf8e-3b91b1b6d5bf"
   },
   "outputs": [
    {
     "data": {
      "text/html": [
       "<div>\n",
       "<style scoped>\n",
       "    .dataframe tbody tr th:only-of-type {\n",
       "        vertical-align: middle;\n",
       "    }\n",
       "\n",
       "    .dataframe tbody tr th {\n",
       "        vertical-align: top;\n",
       "    }\n",
       "\n",
       "    .dataframe thead th {\n",
       "        text-align: right;\n",
       "    }\n",
       "</style>\n",
       "<table border=\"1\" class=\"dataframe\">\n",
       "  <thead>\n",
       "    <tr style=\"text-align: right;\">\n",
       "      <th></th>\n",
       "      <th>Date</th>\n",
       "      <th>Apple</th>\n",
       "    </tr>\n",
       "  </thead>\n",
       "  <tbody>\n",
       "    <tr>\n",
       "      <th>20</th>\n",
       "      <td>2021-09-01</td>\n",
       "      <td>141.50</td>\n",
       "    </tr>\n",
       "    <tr>\n",
       "      <th>21</th>\n",
       "      <td>2021-10-01</td>\n",
       "      <td>149.80</td>\n",
       "    </tr>\n",
       "    <tr>\n",
       "      <th>22</th>\n",
       "      <td>2021-11-01</td>\n",
       "      <td>165.30</td>\n",
       "    </tr>\n",
       "    <tr>\n",
       "      <th>23</th>\n",
       "      <td>2021-12-01</td>\n",
       "      <td>177.57</td>\n",
       "    </tr>\n",
       "    <tr>\n",
       "      <th>24</th>\n",
       "      <td>2022-01-01</td>\n",
       "      <td>174.78</td>\n",
       "    </tr>\n",
       "  </tbody>\n",
       "</table>\n",
       "</div>"
      ],
      "text/plain": [
       "         Date   Apple\n",
       "20 2021-09-01  141.50\n",
       "21 2021-10-01  149.80\n",
       "22 2021-11-01  165.30\n",
       "23 2021-12-01  177.57\n",
       "24 2022-01-01  174.78"
      ]
     },
     "execution_count": 9,
     "metadata": {},
     "output_type": "execute_result"
    }
   ],
   "source": [
    "# check the data\n",
    "df.tail()"
   ]
  },
  {
   "cell_type": "code",
   "execution_count": 10,
   "metadata": {
    "id": "BUfxSwcfV2yc"
   },
   "outputs": [],
   "source": [
    "# set the 'Date' column as index\n",
    "df = df.set_index('Date')"
   ]
  },
  {
   "cell_type": "code",
   "execution_count": 11,
   "metadata": {
    "colab": {
     "base_uri": "https://localhost:8080/",
     "height": 315
    },
    "id": "LDzLr9OPV2yd",
    "outputId": "61e256e2-4526-456a-bab9-1de9bd24816e"
   },
   "outputs": [
    {
     "data": {
      "image/png": "[encoded data removed]",
      "text/plain": [
       "<Figure size 640x480 with 1 Axes>"
      ]
     },
     "metadata": {},
     "output_type": "display_data"
    }
   ],
   "source": [
    "# Plot Apple - Dependant (Target) variable\n",
    "plt.plot(df['Apple'])\n",
    "plt.title('Apple Stock Price')\n",
    "plt.xlabel('Date')\n",
    "plt.xticks(rotation=30)\n",
    "plt.ylabel('Price (USD)')\n",
    "plt.show()"
   ]
  },
  {
   "cell_type": "markdown",
   "metadata": {
    "id": "XtIM8ndPV2yd"
   },
   "source": [
    "    "
   ]
  },
  {
   "cell_type": "markdown",
   "metadata": {
    "id": "4aqogGMRV2ye"
   },
   "source": [
    "### Decomposition"
   ]
  },
  {
   "cell_type": "code",
   "execution_count": 34,
   "metadata": {
    "id": "y20Rc7FLV2ye"
   },
   "outputs": [],
   "source": [
    "# Extract and plot trend, seasonal and residuals. \n",
    "from statsmodels.tsa.seasonal import seasonal_decompose \n",
    "decomposed = seasonal_decompose(df['Apple'])"
   ]
  },
  {
   "cell_type": "code",
   "execution_count": 35,
   "metadata": {
    "id": "G7yi-V1OV2ye"
   },
   "outputs": [],
   "source": [
    "trend = decomposed.trend\n",
    "seasonal = decomposed.seasonal\n",
    "residual = decomposed.resid"
   ]
  },
  {
   "cell_type": "code",
   "execution_count": 36,
   "metadata": {
    "colab": {
     "base_uri": "https://localhost:8080/",
     "height": 483
    },
    "id": "jnaziVeQV2yf",
    "outputId": "5d98b35e-ea2f-41db-a377-292435f7ddd9",
    "scrolled": true
   },
   "outputs": [
    {
     "data": {
      "image/png": "[encoded data removed]",
      "text/plain": [
       "<Figure size 960x640 with 4 Axes>"
      ]
     },
     "metadata": {},
     "output_type": "display_data"
    }
   ],
   "source": [
    "plt.figure(figsize=(12,8))\n",
    "plt.subplot(411)\n",
    "plt.plot(df['Apple'], label='Original', color='black')\n",
    "plt.legend(loc='upper left')\n",
    "plt.subplot(412)\n",
    "plt.plot(trend, label='Trend', color='red')\n",
    "plt.legend(loc='upper left')\n",
    "plt.subplot(413)\n",
    "plt.plot(seasonal, label='Seasonal', color='blue')\n",
    "plt.legend(loc='upper left')\n",
    "plt.subplot(414)\n",
    "plt.plot(residual, label='Residual', color='black')\n",
    "plt.legend(loc='upper left')\n",
    "plt.show()"
   ]
  },
  {
   "cell_type": "markdown",
   "metadata": {
    "id": "a0F3p_CbV2yf"
   },
   "source": [
    "    "
   ]
  },
  {
   "cell_type": "markdown",
   "metadata": {
    "id": "1upntVuMe1Pn"
   },
   "source": [
    "## **Find p, d, q**"
   ]
  },
  {
   "cell_type": "markdown",
   "metadata": {
    "id": "Zxw8cH3GV2yi"
   },
   "source": [
    "### To find p and q use ACF and PACF plots from statsmodels library"
   ]
  },
  {
   "cell_type": "code",
   "execution_count": 37,
   "metadata": {
    "colab": {
     "base_uri": "https://localhost:8080/",
     "height": 656
    },
    "id": "bYdNEmiVV2yi",
    "outputId": "1605587e-aa94-423b-94e5-f9ed75f9693a",
    "scrolled": true
   },
   "outputs": [
    {
     "name": "stderr",
     "output_type": "stream",
     "text": [
      "C:\\Users\\Rushanthi\\anaconda3\\lib\\site-packages\\statsmodels\\graphics\\tsaplots.py:348: FutureWarning: The default method 'yw' can produce PACF values outside of the [-1,1] interval. After 0.13, the default will change tounadjusted Yule-Walker ('ywm'). You can use this method now by setting method='ywm'.\n",
      "  warnings.warn(\n"
     ]
    },
    {
     "data": {
      "image/png": "[encoded data removed]",
      "text/plain": [
       "<Figure size 560x320 with 1 Axes>"
      ]
     },
     "metadata": {},
     "output_type": "display_data"
    },
    {
     "data": {
      "image/png": "[encoded data removed]",
      "text/plain": [
       "<Figure size 560x320 with 1 Axes>"
      ]
     },
     "metadata": {},
     "output_type": "display_data"
    }
   ],
   "source": [
    "# for finding p,q using PACF and ACF plots respectively\n",
    "from statsmodels.graphics.tsaplots import plot_acf, plot_pacf\n",
    "plt.rcParams.update({'figure.figsize':(7,4), 'figure.dpi':80})\n",
    "\n",
    "# plot ACF \n",
    "plot_acf(df['Apple'].dropna());\n",
    "\n",
    "# plot PACF\n",
    "plot_pacf(df['Apple'].dropna(), lags=11);\n",
    "\n",
    "plt.show()"
   ]
  },
  {
   "cell_type": "markdown",
   "metadata": {
    "id": "eGw35O3WV2yj"
   },
   "source": [
    "    "
   ]
  },
  {
   "cell_type": "markdown",
   "metadata": {
    "id": "0A3SQwFfV2yj"
   },
   "source": [
    "**q** is given by the ACF plot, where you count the number of spikes outside of the confidence interval (blue area). The first one which is 0, is the current value which will always be correlated to itself i.e. value is 1. In this case we only 1 spike outside the confidence interval. Therefore, `q = 1`\n",
    "\n",
    "\n",
    "**p** is given by the PACF plot, where you count the number of spikes outside of the confidence interval (blue area). The first one which is 0, is the current value which will always be correlated to itself i.e. value is 1. In this case we only have 1 spike outside the confidence interval. Therefore, `p = 1\n",
    "`\n",
    "That spike value in pacf (i.e. 0.76 are the coeficient values (beta1, beta2, etc.) in the linear regression equation)\n",
    "\n",
    "We can use `q = 1` and `p = 1`"
   ]
  },
  {
   "cell_type": "markdown",
   "metadata": {
    "id": "9TRpTjVPV2yj"
   },
   "source": [
    "    "
   ]
  },
  {
   "cell_type": "markdown",
   "metadata": {
    "id": "UjhgfYfEV2yk"
   },
   "source": [
    "### To find d, we have to first check if the series is stationary"
   ]
  },
  {
   "cell_type": "markdown",
   "metadata": {
    "id": "dPd_sX9-V2yk"
   },
   "source": [
    "\n",
    "\n",
    "The first step to build an ARIMA model is to make the time series stationary.\n",
    "\n",
    "Because, term ‘Auto Regressive’ in ARIMA means it is a linear regression model that uses its own lags as predictors. Linear regression models, work best when the predictors are not correlated and are independent of each other.\n",
    "\n",
    "To make a series stationary, the most common approach is to difference (d) it. The value of `d`, therefore, is the minimum number of differencing needed to make the series stationary. And if the time series is already stationary, then d = 0."
   ]
  },
  {
   "cell_type": "code",
   "execution_count": 38,
   "metadata": {
    "id": "EcWDI0tmV2yl"
   },
   "outputs": [],
   "source": [
    "# Augmented Dickey-Fuller (ADF) test to check if the data is stationary. We already know it is not by looking at the chart above.\n",
    "from statsmodels.tsa.stattools import adfuller"
   ]
  },
  {
   "cell_type": "code",
   "execution_count": 39,
   "metadata": {
    "colab": {
     "base_uri": "https://localhost:8080/"
    },
    "id": "MPRQ6R_NV2yl",
    "outputId": "c22b1fff-94bd-480a-d095-5a004b2008f7"
   },
   "outputs": [
    {
     "name": "stdout",
     "output_type": "stream",
     "text": [
      "p-value: 0.9965327326233812\n"
     ]
    }
   ],
   "source": [
    "# if p value > 0.05 the series is non-stationary\n",
    "results = adfuller(df['Apple'])\n",
    "print('p-value:', results[1]) # adf, pvalue, usedlag_, nobs_, critical_values_, icbest_"
   ]
  },
  {
   "cell_type": "markdown",
   "metadata": {
    "id": "bAlmvKL-V2ym"
   },
   "source": [
    "    "
   ]
  },
  {
   "cell_type": "markdown",
   "metadata": {
    "id": "CqLB3EEDV2ym"
   },
   "source": [
    "\n",
    "* Do a first order differencing\n",
    "* Perform the ADF test on the differenced series to check the p-value\n",
    "* If p-value is <0.05, your series is stationary\n",
    "* If not, do a second order differencing. \n",
    "* Whatever order of differencing you do, that will be your value of 'd' in ARIMA model\n",
    "\n",
    "p-value is 0.99. Therefore, the series is **not stationary**. Therefore, we will need to make it stationary."
   ]
  },
  {
   "cell_type": "markdown",
   "metadata": {
    "id": "GM7yOOApiQBh"
   },
   "source": [
    "### Differencing - To make series stationary"
   ]
  },
  {
   "cell_type": "code",
   "execution_count": 40,
   "metadata": {
    "colab": {
     "base_uri": "https://localhost:8080/"
    },
    "id": "ZUH1KM06V2ym",
    "outputId": "f365cbf7-a660-4f88-a608-059fd895eed7"
   },
   "outputs": [
    {
     "name": "stdout",
     "output_type": "stream",
     "text": [
      "p-value: 0.015214001528359977\n"
     ]
    }
   ],
   "source": [
    "# 1st order differencing\n",
    "v1 = df['Apple'].diff().dropna()\n",
    "\n",
    "# adf test on the new series. if p value < 0.05 the series is stationary\n",
    "results1 = adfuller(v1)\n",
    "print('p-value:', results1[1]) # adf, pvalue, usedlag_, nobs_, critical_values_, icbest_"
   ]
  },
  {
   "cell_type": "code",
   "execution_count": 41,
   "metadata": {
    "colab": {
     "base_uri": "https://localhost:8080/",
     "height": 345
    },
    "id": "qXTPrhUMw_ym",
    "outputId": "96604ff1-7f7d-4634-c02c-301d6d56dd23"
   },
   "outputs": [
    {
     "data": {
      "image/png": "[encoded data removed]",
      "text/plain": [
       "<Figure size 560x320 with 1 Axes>"
      ]
     },
     "metadata": {},
     "output_type": "display_data"
    }
   ],
   "source": [
    "# Plot the differenced series\n",
    "plt.plot(v1)\n",
    "plt.title('1st order differenced series')\n",
    "plt.xlabel('Date')\n",
    "plt.xticks(rotation=30)\n",
    "plt.ylabel('Price (USD)')\n",
    "plt.show()"
   ]
  },
  {
   "cell_type": "code",
   "execution_count": 42,
   "metadata": {
    "colab": {
     "base_uri": "https://localhost:8080/"
    },
    "id": "xAuxMoPFipDO",
    "outputId": "6628962a-9c11-4268-c7bb-779ff480c064"
   },
   "outputs": [
    {
     "data": {
      "text/plain": [
       "4.058333333333334"
      ]
     },
     "execution_count": 42,
     "metadata": {},
     "output_type": "execute_result"
    }
   ],
   "source": [
    "# the mean for above series is\n",
    "(v1.values).mean()"
   ]
  },
  {
   "cell_type": "markdown",
   "metadata": {
    "id": "lOZxdXLa8HAw"
   },
   "source": [
    "The right order of differencing is the minimum differencing required to get a near-stationary series."
   ]
  },
  {
   "cell_type": "markdown",
   "metadata": {
    "id": "fpSWykEvV2yn"
   },
   "source": [
    "    "
   ]
  },
  {
   "cell_type": "code",
   "execution_count": 21,
   "metadata": {
    "id": "kVOUda16V2yo"
   },
   "outputs": [],
   "source": [
    "# if reqired, 2nd order differencing would be\n",
    "# v2 = v1.diff().dropna()\n",
    "# results2 = adfuller(v2)\n",
    "# print('p-value:', results2[1]) # adf, pvalue, usedlag_, nobs_, critical_values_, icbest_"
   ]
  },
  {
   "cell_type": "markdown",
   "metadata": {
    "id": "R2SngJvEV2yo"
   },
   "source": [
    "    "
   ]
  },
  {
   "cell_type": "markdown",
   "metadata": {
    "id": "wdmNfR6b9FFp"
   },
   "source": [
    "## **Find Seasonal Parameters P, D, Q, M**"
   ]
  },
  {
   "cell_type": "code",
   "execution_count": 22,
   "metadata": {
    "colab": {
     "base_uri": "https://localhost:8080/",
     "height": 656
    },
    "id": "mk_JUYCAfkbj",
    "outputId": "713d98ca-df47-4449-ac13-3d806f2a89ca"
   },
   "outputs": [
    {
     "name": "stderr",
     "output_type": "stream",
     "text": [
      "C:\\Users\\Rushanthi\\anaconda3\\lib\\site-packages\\statsmodels\\graphics\\tsaplots.py:348: FutureWarning: The default method 'yw' can produce PACF values outside of the [-1,1] interval. After 0.13, the default will change tounadjusted Yule-Walker ('ywm'). You can use this method now by setting method='ywm'.\n",
      "  warnings.warn(\n"
     ]
    },
    {
     "data": {
      "image/png": "[encoded data removed]",
      "text/plain": [
       "<Figure size 560x320 with 1 Axes>"
      ]
     },
     "metadata": {},
     "output_type": "display_data"
    },
    {
     "data": {
      "image/png": "[encoded data removed]",
      "text/plain": [
       "<Figure size 560x320 with 1 Axes>"
      ]
     },
     "metadata": {},
     "output_type": "display_data"
    }
   ],
   "source": [
    "# for finding p,q using PACF and ACF plots respectively\n",
    "from statsmodels.graphics.tsaplots import plot_acf, plot_pacf\n",
    "plt.rcParams.update({'figure.figsize':(7,4), 'figure.dpi':80})\n",
    "\n",
    "# plot ACF \n",
    "plot_acf(decomposed.seasonal.dropna());\n",
    "\n",
    "# plot PACF\n",
    "plot_pacf(decomposed.seasonal.dropna(), lags=11);\n",
    "\n",
    "plt.show()"
   ]
  },
  {
   "cell_type": "code",
   "execution_count": 23,
   "metadata": {
    "colab": {
     "base_uri": "https://localhost:8080/"
    },
    "id": "PoV_XtFTf9EN",
    "outputId": "42649127-92b3-4222-c639-a1fef8fdd54b"
   },
   "outputs": [
    {
     "name": "stdout",
     "output_type": "stream",
     "text": [
      "p-value: 0.007632730110827754\n"
     ]
    }
   ],
   "source": [
    "# if p value > 0.05 the series is non-stationary\n",
    "results = adfuller(decomposed.seasonal)\n",
    "print('p-value:', results[1]) # adf, pvalue, usedlag_, nobs_, critical_values_, icbest_"
   ]
  },
  {
   "cell_type": "markdown",
   "metadata": {
    "id": "LUWuuLPyguDB"
   },
   "source": [
    "Seasonality is stationary"
   ]
  },
  {
   "cell_type": "markdown",
   "metadata": {
    "id": "AQtgfIYdg15i"
   },
   "source": [
    "## **Training and Forecasting**"
   ]
  },
  {
   "cell_type": "code",
   "execution_count": 33,
   "metadata": {
    "id": "42q2fXT7h_j3"
   },
   "outputs": [
    {
     "name": "stdout",
     "output_type": "stream",
     "text": [
      "Requirement already satisfied: statsmodels in c:\\users\\rushanthi\\anaconda3\\lib\\site-packages (0.13.0)\n",
      "Requirement already satisfied: pandas>=0.25 in c:\\users\\rushanthi\\anaconda3\\lib\\site-packages (from statsmodels) (1.4.4)\n",
      "Requirement already satisfied: scipy>=1.3 in c:\\users\\rushanthi\\anaconda3\\lib\\site-packages (from statsmodels) (1.9.1)\n",
      "Requirement already satisfied: numpy>=1.17 in c:\\users\\rushanthi\\anaconda3\\lib\\site-packages (from statsmodels) (1.21.5)\n",
      "Requirement already satisfied: patsy>=0.5.2 in c:\\users\\rushanthi\\anaconda3\\lib\\site-packages (from statsmodels) (0.5.2)\n",
      "Requirement already satisfied: python-dateutil>=2.8.1 in c:\\users\\rushanthi\\anaconda3\\lib\\site-packages (from pandas>=0.25->statsmodels) (2.8.2)\n",
      "Requirement already satisfied: pytz>=2020.1 in c:\\users\\rushanthi\\anaconda3\\lib\\site-packages (from pandas>=0.25->statsmodels) (2022.1)\n",
      "Requirement already satisfied: six in c:\\users\\rushanthi\\anaconda3\\lib\\site-packages (from patsy>=0.5.2->statsmodels) (1.16.0)\n"
     ]
    },
    {
     "name": "stderr",
     "output_type": "stream",
     "text": [
      "WARNING: Ignoring invalid distribution -tatsmodels (c:\\users\\rushanthi\\anaconda3\\lib\\site-packages)\n",
      "WARNING: Ignoring invalid distribution -tatsmodels (c:\\users\\rushanthi\\anaconda3\\lib\\site-packages)\n",
      "WARNING: Ignoring invalid distribution -tatsmodels (c:\\users\\rushanthi\\anaconda3\\lib\\site-packages)\n",
      "WARNING: Ignoring invalid distribution -tatsmodels (c:\\users\\rushanthi\\anaconda3\\lib\\site-packages)\n",
      "WARNING: Ignoring invalid distribution -tatsmodels (c:\\users\\rushanthi\\anaconda3\\lib\\site-packages)\n",
      "WARNING: Ignoring invalid distribution -tatsmodels (c:\\users\\rushanthi\\anaconda3\\lib\\site-packages)\n"
     ]
    }
   ],
   "source": [
    "# Use statsmodels 0.11 or later\n",
    "# to check the version after import use: print(statsmodels.__version__)\n",
    "# to upgrade use: !pip install statsmodels --upgrade\n",
    "\n",
    "# Install statsmodel\n",
    "!pip install statsmodels\n"
   ]
  },
  {
   "cell_type": "code",
   "execution_count": 43,
   "metadata": {},
   "outputs": [
    {
     "name": "stdout",
     "output_type": "stream",
     "text": [
      "Requirement already satisfied: statsmodels in c:\\users\\rushanthi\\anaconda3\\lib\\site-packages (0.13.0)\n",
      "Collecting statsmodels\n",
      "  Downloading statsmodels-0.14.0-cp39-cp39-win_amd64.whl (9.4 MB)\n",
      "     ---------------------------------------- 9.4/9.4 MB 2.7 MB/s eta 0:00:00\n",
      "Requirement already satisfied: packaging>=21.3 in c:\\users\\rushanthi\\anaconda3\\lib\\site-packages (from statsmodels) (21.3)\n",
      "Requirement already satisfied: scipy!=1.9.2,>=1.4 in c:\\users\\rushanthi\\anaconda3\\lib\\site-packages (from statsmodels) (1.9.1)\n",
      "Requirement already satisfied: pandas>=1.0 in c:\\users\\rushanthi\\anaconda3\\lib\\site-packages (from statsmodels) (1.4.4)\n",
      "Requirement already satisfied: numpy>=1.18 in c:\\users\\rushanthi\\anaconda3\\lib\\site-packages (from statsmodels) (1.21.5)\n",
      "Requirement already satisfied: patsy>=0.5.2 in c:\\users\\rushanthi\\anaconda3\\lib\\site-packages (from statsmodels) (0.5.2)\n",
      "Requirement already satisfied: pyparsing!=3.0.5,>=2.0.2 in c:\\users\\rushanthi\\anaconda3\\lib\\site-packages (from packaging>=21.3->statsmodels) (3.0.9)\n",
      "Requirement already satisfied: python-dateutil>=2.8.1 in c:\\users\\rushanthi\\anaconda3\\lib\\site-packages (from pandas>=1.0->statsmodels) (2.8.2)\n",
      "Requirement already satisfied: pytz>=2020.1 in c:\\users\\rushanthi\\anaconda3\\lib\\site-packages (from pandas>=1.0->statsmodels) (2022.1)\n",
      "Requirement already satisfied: six in c:\\users\\rushanthi\\anaconda3\\lib\\site-packages (from patsy>=0.5.2->statsmodels) (1.16.0)\n",
      "Installing collected packages: statsmodels\n",
      "  Attempting uninstall: statsmodels\n",
      "    Found existing installation: statsmodels 0.13.0\n",
      "    Uninstalling statsmodels-0.13.0:\n",
      "      Successfully uninstalled statsmodels-0.13.0\n",
      "Successfully installed statsmodels-0.14.0\n"
     ]
    },
    {
     "name": "stderr",
     "output_type": "stream",
     "text": [
      "WARNING: Ignoring invalid distribution -tatsmodels (c:\\users\\rushanthi\\anaconda3\\lib\\site-packages)\n",
      "WARNING: Ignoring invalid distribution -tatsmodels (c:\\users\\rushanthi\\anaconda3\\lib\\site-packages)\n",
      "WARNING: Ignoring invalid distribution -tatsmodels (c:\\users\\rushanthi\\anaconda3\\lib\\site-packages)\n",
      "    WARNING: Ignoring invalid distribution -tatsmodels (c:\\users\\rushanthi\\anaconda3\\lib\\site-packages)\n",
      "WARNING: Ignoring invalid distribution -tatsmodels (c:\\users\\rushanthi\\anaconda3\\lib\\site-packages)\n",
      "ERROR: pip's dependency resolver does not currently take into account all the packages that are installed. This behaviour is the source of the following dependency conflicts.\n",
      "ydata-profiling 4.0.0 requires statsmodels<0.14,>=0.13.2, but you have statsmodels 0.14.0 which is incompatible.\n",
      "WARNING: Ignoring invalid distribution -tatsmodels (c:\\users\\rushanthi\\anaconda3\\lib\\site-packages)\n",
      "WARNING: Ignoring invalid distribution -tatsmodels (c:\\users\\rushanthi\\anaconda3\\lib\\site-packages)\n",
      "WARNING: Ignoring invalid distribution -tatsmodels (c:\\users\\rushanthi\\anaconda3\\lib\\site-packages)\n"
     ]
    }
   ],
   "source": [
    "!pip install --upgrade statsmodels\n"
   ]
  },
  {
   "cell_type": "code",
   "execution_count": 44,
   "metadata": {},
   "outputs": [],
   "source": [
    "import statsmodels"
   ]
  },
  {
   "cell_type": "code",
   "execution_count": 45,
   "metadata": {
    "id": "ZMi1LAheV2yX"
   },
   "outputs": [],
   "source": [
    "# Import ARIMA Model\n",
    "from statsmodels.tsa.arima.model import ARIMA"
   ]
  },
  {
   "cell_type": "code",
   "execution_count": 46,
   "metadata": {
    "colab": {
     "base_uri": "https://localhost:8080/"
    },
    "id": "i7YkJXgH9JOO",
    "outputId": "047e5031-8575-4294-e594-5030e6dbad69"
   },
   "outputs": [
    {
     "name": "stdout",
     "output_type": "stream",
     "text": [
      "                               SARIMAX Results                                \n",
      "==============================================================================\n",
      "Dep. Variable:                  Apple   No. Observations:                   25\n",
      "Model:                 ARIMA(1, 1, 1)   Log Likelihood                 -89.725\n",
      "Date:                Mon, 10 Jul 2023   AIC                            185.450\n",
      "Time:                        18:51:48   BIC                            188.984\n",
      "Sample:                    01-01-2020   HQIC                           186.387\n",
      "                         - 01-01-2022                                         \n",
      "Covariance Type:                  opg                                         \n",
      "==============================================================================\n",
      "                 coef    std err          z      P>|z|      [0.025      0.975]\n",
      "------------------------------------------------------------------------------\n",
      "ar.L1         -0.0677      0.653     -0.104      0.917      -1.348       1.213\n",
      "ma.L1          0.3789      0.683      0.554      0.579      -0.960       1.718\n",
      "sigma2       102.9968     46.552      2.213      0.027      11.758     194.236\n",
      "===================================================================================\n",
      "Ljung-Box (L1) (Q):                   0.44   Jarque-Bera (JB):                 1.41\n",
      "Prob(Q):                              0.51   Prob(JB):                         0.49\n",
      "Heteroskedasticity (H):               0.68   Skew:                            -0.49\n",
      "Prob(H) (two-sided):                  0.59   Kurtosis:                         2.33\n",
      "===================================================================================\n",
      "\n",
      "Warnings:\n",
      "[1] Covariance matrix calculated using the outer product of gradients (complex-step).\n"
     ]
    },
    {
     "name": "stderr",
     "output_type": "stream",
     "text": [
      "C:\\Users\\Rushanthi\\anaconda3\\lib\\site-packages\\statsmodels\\tsa\\base\\tsa_model.py:473: ValueWarning: No frequency information was provided, so inferred frequency MS will be used.\n",
      "  index = dates\n",
      "C:\\Users\\Rushanthi\\anaconda3\\lib\\site-packages\\statsmodels\\tsa\\base\\tsa_model.py:473: ValueWarning: No frequency information was provided, so inferred frequency MS will be used.\n",
      "  index = dates\n",
      "C:\\Users\\Rushanthi\\anaconda3\\lib\\site-packages\\statsmodels\\tsa\\base\\tsa_model.py:473: ValueWarning: No frequency information was provided, so inferred frequency MS will be used.\n",
      "  index = dates\n"
     ]
    }
   ],
   "source": [
    "# 2,1,1 ARIMA Model\n",
    "sarima = ARIMA(df.Apple, order=(1,1,1), seasonal_order=(0,0,0,12))\n",
    "model1 = sarima.fit()\n",
    "print(model1.summary())"
   ]
  },
  {
   "cell_type": "markdown",
   "metadata": {
    "id": "UKyHl9tW-lTa"
   },
   "source": [
    "Notice here the coefficient of the MA.L1 and MA.L2 term is close to zero and the P-Value in ‘P>|z|’ column is highly insignificant. It should ideally be less than 0.05 for the respective X to be significant.\n",
    "\n",
    "So, let’s rebuild the model without the MA2 term."
   ]
  },
  {
   "cell_type": "code",
   "execution_count": 47,
   "metadata": {
    "id": "oiPVR1GJke8K"
   },
   "outputs": [],
   "source": [
    "# Forecast\n",
    "forecast = model1.get_forecast(4)\n",
    "ypred = forecast.predicted_mean\n",
    "conf_int = forecast.conf_int(alpha=0.05)"
   ]
  },
  {
   "cell_type": "code",
   "execution_count": 48,
   "metadata": {
    "colab": {
     "base_uri": "https://localhost:8080/"
    },
    "id": "Ana3z9Djk5og",
    "outputId": "8955c3a5-0347-4c86-bfa0-505f62f00668"
   },
   "outputs": [
    {
     "data": {
      "text/plain": [
       "array([165.12, 174.61, 157.65, 148.84])"
      ]
     },
     "execution_count": 48,
     "metadata": {},
     "output_type": "execute_result"
    }
   ],
   "source": [
    "# Actual values for Feb 2022 to May 2022\n",
    "data.Apple[25:].values"
   ]
  },
  {
   "cell_type": "code",
   "execution_count": 49,
   "metadata": {
    "colab": {
     "base_uri": "https://localhost:8080/",
     "height": 206
    },
    "id": "Ory0eok5kpvM",
    "outputId": "b5b974c4-22f1-493c-e373-dc7a5efdbef3"
   },
   "outputs": [
    {
     "data": {
      "text/html": [
       "<div>\n",
       "<style scoped>\n",
       "    .dataframe tbody tr th:only-of-type {\n",
       "        vertical-align: middle;\n",
       "    }\n",
       "\n",
       "    .dataframe tbody tr th {\n",
       "        vertical-align: top;\n",
       "    }\n",
       "\n",
       "    .dataframe thead th {\n",
       "        text-align: right;\n",
       "    }\n",
       "</style>\n",
       "<table border=\"1\" class=\"dataframe\">\n",
       "  <thead>\n",
       "    <tr style=\"text-align: right;\">\n",
       "      <th></th>\n",
       "      <th>price_actual</th>\n",
       "      <th>lower_int</th>\n",
       "      <th>price_predicted</th>\n",
       "      <th>upper_int</th>\n",
       "    </tr>\n",
       "    <tr>\n",
       "      <th>Date</th>\n",
       "      <th></th>\n",
       "      <th></th>\n",
       "      <th></th>\n",
       "      <th></th>\n",
       "    </tr>\n",
       "  </thead>\n",
       "  <tbody>\n",
       "    <tr>\n",
       "      <th>2022-02-01</th>\n",
       "      <td>165.12</td>\n",
       "      <td>153.048128</td>\n",
       "      <td>172.93928</td>\n",
       "      <td>192.830433</td>\n",
       "    </tr>\n",
       "    <tr>\n",
       "      <th>2022-03-01</th>\n",
       "      <td>174.61</td>\n",
       "      <td>140.264348</td>\n",
       "      <td>173.06397</td>\n",
       "      <td>205.863593</td>\n",
       "    </tr>\n",
       "    <tr>\n",
       "      <th>2022-04-01</th>\n",
       "      <td>157.65</td>\n",
       "      <td>131.410814</td>\n",
       "      <td>173.055524</td>\n",
       "      <td>214.700234</td>\n",
       "    </tr>\n",
       "    <tr>\n",
       "      <th>2022-05-01</th>\n",
       "      <td>148.84</td>\n",
       "      <td>124.125464</td>\n",
       "      <td>173.056096</td>\n",
       "      <td>221.986728</td>\n",
       "    </tr>\n",
       "  </tbody>\n",
       "</table>\n",
       "</div>"
      ],
      "text/plain": [
       "           price_actual   lower_int price_predicted   upper_int\n",
       "Date                                                           \n",
       "2022-02-01       165.12  153.048128       172.93928  192.830433\n",
       "2022-03-01       174.61  140.264348       173.06397  205.863593\n",
       "2022-04-01       157.65  131.410814      173.055524  214.700234\n",
       "2022-05-01       148.84  124.125464      173.056096  221.986728"
      ]
     },
     "execution_count": 49,
     "metadata": {},
     "output_type": "execute_result"
    }
   ],
   "source": [
    "# creating a new Dataframe dp with the prediction values.\n",
    "Date = pd.Series(['2022-02-01', '2022-03-01', '2022-04-01', '2022-05-01'])\n",
    "price_actual = pd.Series(data.Apple[25:].values)\n",
    "price_predicted = pd.Series(ypred.values) \n",
    "lower_int = pd.Series(conf_int['lower Apple'].values)\n",
    "upper_int = upper_series = pd.Series(conf_int['upper Apple'].values)\n",
    "\n",
    "dp = pd.DataFrame([Date, price_actual, lower_int, price_predicted, upper_int], index =['Date','price_actual', 'lower_int', 'price_predicted', 'upper_int']).T\n",
    "dp = dp.set_index('Date')\n",
    "dp.index = pd.to_datetime(dp.index)\n",
    "dp"
   ]
  },
  {
   "cell_type": "code",
   "execution_count": 50,
   "metadata": {
    "id": "cFF34VgiiJGc"
   },
   "outputs": [],
   "source": [
    "# set the 'Date' column as index\n",
    "data = data.set_index('Date')"
   ]
  },
  {
   "cell_type": "code",
   "execution_count": 51,
   "metadata": {
    "colab": {
     "base_uri": "https://localhost:8080/",
     "height": 315
    },
    "id": "sf6NPHQhlc6X",
    "outputId": "a4fad9ac-0853-44c7-80a7-b5b67fca93b6"
   },
   "outputs": [
    {
     "data": {
      "image/png": "[encoded data removed]",
      "text/plain": [
       "<Figure size 560x320 with 1 Axes>"
      ]
     },
     "metadata": {},
     "output_type": "display_data"
    }
   ],
   "source": [
    "# Plot\n",
    "plt.plot(data.Apple)\n",
    "plt.plot(dp.price_predicted, color='orange')\n",
    "plt.fill_between(dp.index, \n",
    "                 lower_int, \n",
    "                 upper_int, \n",
    "                 color='k', alpha=.15)\n",
    "\n",
    "\n",
    "plt.title('Model Performance')\n",
    "plt.legend(['Actual','Prediction'], loc='lower right')\n",
    "plt.xlabel('Date')\n",
    "plt.xticks(rotation=30)\n",
    "plt.ylabel('Price (USD)')\n",
    "plt.show()"
   ]
  },
  {
   "cell_type": "code",
   "execution_count": 52,
   "metadata": {
    "colab": {
     "base_uri": "https://localhost:8080/"
    },
    "id": "1ldYrgzwpW0D",
    "outputId": "1482925e-e146-489c-e7c8-941608059922"
   },
   "outputs": [
    {
     "name": "stdout",
     "output_type": "stream",
     "text": [
      "SARIMA MAE =  12.246732448885595\n"
     ]
    }
   ],
   "source": [
    "# import evaluation matrices\n",
    "from sklearn.metrics import mean_absolute_error\n",
    "\n",
    "# Evaluate the model\n",
    "print('SARIMA MAE = ', mean_absolute_error(dp.price_actual, dp.price_predicted))"
   ]
  },
  {
   "cell_type": "markdown",
   "metadata": {
    "id": "tv9OjDzaV2ys"
   },
   "source": [
    "    "
   ]
  },
  {
   "cell_type": "markdown",
   "metadata": {
    "id": "H1JpJcG6p69y"
   },
   "source": [
    "# Bivariate - Using the exogenous variable - **'TexasIns'**"
   ]
  },
  {
   "cell_type": "code",
   "execution_count": 53,
   "metadata": {
    "id": "H_PuVy8KrQBh"
   },
   "outputs": [],
   "source": [
    "# Bivariate analysis - We will use both 'Apple' and 'TexasIns' variables. \n",
    "# Training data - January 2020 to January 2022\n",
    "# Testing data - February 2022 - May 2022\n",
    "dfx = data.iloc[0:25,0:3]"
   ]
  },
  {
   "cell_type": "code",
   "execution_count": 54,
   "metadata": {
    "colab": {
     "base_uri": "https://localhost:8080/",
     "height": 392
    },
    "id": "3i7sn6IqrbVW",
    "outputId": "2701c914-ec1f-4ee2-f950-f922dce8add2"
   },
   "outputs": [
    {
     "data": {
      "text/html": [
       "<div>\n",
       "<style scoped>\n",
       "    .dataframe tbody tr th:only-of-type {\n",
       "        vertical-align: middle;\n",
       "    }\n",
       "\n",
       "    .dataframe tbody tr th {\n",
       "        vertical-align: top;\n",
       "    }\n",
       "\n",
       "    .dataframe thead th {\n",
       "        text-align: right;\n",
       "    }\n",
       "</style>\n",
       "<table border=\"1\" class=\"dataframe\">\n",
       "  <thead>\n",
       "    <tr style=\"text-align: right;\">\n",
       "      <th></th>\n",
       "      <th>Apple</th>\n",
       "      <th>TexasIns</th>\n",
       "    </tr>\n",
       "    <tr>\n",
       "      <th>Date</th>\n",
       "      <th></th>\n",
       "      <th></th>\n",
       "    </tr>\n",
       "  </thead>\n",
       "  <tbody>\n",
       "    <tr>\n",
       "      <th>2020-01-01</th>\n",
       "      <td>77.38</td>\n",
       "      <td>120.65</td>\n",
       "    </tr>\n",
       "    <tr>\n",
       "      <th>2020-02-01</th>\n",
       "      <td>68.34</td>\n",
       "      <td>114.14</td>\n",
       "    </tr>\n",
       "    <tr>\n",
       "      <th>2020-03-01</th>\n",
       "      <td>63.57</td>\n",
       "      <td>99.93</td>\n",
       "    </tr>\n",
       "    <tr>\n",
       "      <th>2020-04-01</th>\n",
       "      <td>73.45</td>\n",
       "      <td>116.07</td>\n",
       "    </tr>\n",
       "    <tr>\n",
       "      <th>...</th>\n",
       "      <td>...</td>\n",
       "      <td>...</td>\n",
       "    </tr>\n",
       "    <tr>\n",
       "      <th>2021-10-01</th>\n",
       "      <td>149.80</td>\n",
       "      <td>187.48</td>\n",
       "    </tr>\n",
       "    <tr>\n",
       "      <th>2021-11-01</th>\n",
       "      <td>165.30</td>\n",
       "      <td>192.37</td>\n",
       "    </tr>\n",
       "    <tr>\n",
       "      <th>2021-12-01</th>\n",
       "      <td>177.57</td>\n",
       "      <td>188.47</td>\n",
       "    </tr>\n",
       "    <tr>\n",
       "      <th>2022-01-01</th>\n",
       "      <td>174.78</td>\n",
       "      <td>179.49</td>\n",
       "    </tr>\n",
       "  </tbody>\n",
       "</table>\n",
       "<p>25 rows × 2 columns</p>\n",
       "</div>"
      ],
      "text/plain": [
       "             Apple  TexasIns\n",
       "Date                        \n",
       "2020-01-01   77.38    120.65\n",
       "2020-02-01   68.34    114.14\n",
       "2020-03-01   63.57     99.93\n",
       "2020-04-01   73.45    116.07\n",
       "...            ...       ...\n",
       "2021-10-01  149.80    187.48\n",
       "2021-11-01  165.30    192.37\n",
       "2021-12-01  177.57    188.47\n",
       "2022-01-01  174.78    179.49\n",
       "\n",
       "[25 rows x 2 columns]"
      ]
     },
     "execution_count": 54,
     "metadata": {},
     "output_type": "execute_result"
    }
   ],
   "source": [
    "dfx"
   ]
  },
  {
   "cell_type": "code",
   "execution_count": 55,
   "metadata": {
    "id": "4cFSSYnFp40W"
   },
   "outputs": [
    {
     "name": "stdout",
     "output_type": "stream",
     "text": [
      "                               SARIMAX Results                                \n",
      "==============================================================================\n",
      "Dep. Variable:                  Apple   No. Observations:                   25\n",
      "Model:                 ARIMA(2, 1, 1)   Log Likelihood                 -88.309\n",
      "Date:                Mon, 10 Jul 2023   AIC                            186.618\n",
      "Time:                        18:58:20   BIC                            192.508\n",
      "Sample:                    01-01-2020   HQIC                           188.181\n",
      "                         - 01-01-2022                                         \n",
      "Covariance Type:                  opg                                         \n",
      "==============================================================================\n",
      "                 coef    std err          z      P>|z|      [0.025      0.975]\n",
      "------------------------------------------------------------------------------\n",
      "TexasIns       0.3134      0.255      1.230      0.219      -0.186       0.813\n",
      "ar.L1          0.2833      1.043      0.272      0.786      -1.761       2.327\n",
      "ar.L2         -0.2519      0.294     -0.856      0.392      -0.829       0.325\n",
      "ma.L1         -0.0536      1.025     -0.052      0.958      -2.062       1.954\n",
      "sigma2        91.3454     43.863      2.083      0.037       5.376     177.315\n",
      "===================================================================================\n",
      "Ljung-Box (L1) (Q):                   0.55   Jarque-Bera (JB):                 1.17\n",
      "Prob(Q):                              0.46   Prob(JB):                         0.56\n",
      "Heteroskedasticity (H):               1.03   Skew:                            -0.35\n",
      "Prob(H) (two-sided):                  0.97   Kurtosis:                         2.17\n",
      "===================================================================================\n",
      "\n",
      "Warnings:\n",
      "[1] Covariance matrix calculated using the outer product of gradients (complex-step).\n"
     ]
    },
    {
     "name": "stderr",
     "output_type": "stream",
     "text": [
      "C:\\Users\\Rushanthi\\anaconda3\\lib\\site-packages\\statsmodels\\tsa\\base\\tsa_model.py:473: ValueWarning: No frequency information was provided, so inferred frequency MS will be used.\n",
      "  index = dates\n",
      "C:\\Users\\Rushanthi\\anaconda3\\lib\\site-packages\\statsmodels\\tsa\\base\\tsa_model.py:473: ValueWarning: No frequency information was provided, so inferred frequency MS will be used.\n",
      "  index = dates\n",
      "C:\\Users\\Rushanthi\\anaconda3\\lib\\site-packages\\statsmodels\\tsa\\base\\tsa_model.py:473: ValueWarning: No frequency information was provided, so inferred frequency MS will be used.\n",
      "  index = dates\n"
     ]
    }
   ],
   "source": [
    "# 2,1,1 SARIMAX Model with exogenous variable\n",
    "sarimax = ARIMA(dfx.Apple, exog=dfx.TexasIns, order=(2,1,1), seasonal_order=(0,0,0,12))\n",
    "model2 = sarimax.fit()\n",
    "print(model2.summary())"
   ]
  },
  {
   "cell_type": "code",
   "execution_count": 56,
   "metadata": {
    "colab": {
     "base_uri": "https://localhost:8080/",
     "height": 364
    },
    "id": "UqeytxSVkTQG",
    "outputId": "51894bee-425f-4aef-dc33-c8aebe36ebb8"
   },
   "outputs": [
    {
     "ename": "ValueError",
     "evalue": "Out-of-sample operations in a model with a regression component require additional exogenous values via the `exog` argument.",
     "output_type": "error",
     "traceback": [
      "\u001b[1;31m---------------------------------------------------------------------------\u001b[0m",
      "\u001b[1;31mValueError\u001b[0m                                Traceback (most recent call last)",
      "\u001b[1;32m~\\AppData\\Local\\Temp\\ipykernel_33396\\3043673301.py\u001b[0m in \u001b[0;36m<module>\u001b[1;34m\u001b[0m\n\u001b[0;32m      1\u001b[0m \u001b[1;31m# Forecast\u001b[0m\u001b[1;33m\u001b[0m\u001b[1;33m\u001b[0m\u001b[0m\n\u001b[1;32m----> 2\u001b[1;33m \u001b[0mforecast\u001b[0m \u001b[1;33m=\u001b[0m \u001b[0mmodel2\u001b[0m\u001b[1;33m.\u001b[0m\u001b[0mget_forecast\u001b[0m\u001b[1;33m(\u001b[0m\u001b[1;36m4\u001b[0m\u001b[1;33m)\u001b[0m\u001b[1;33m\u001b[0m\u001b[1;33m\u001b[0m\u001b[0m\n\u001b[0m\u001b[0;32m      3\u001b[0m \u001b[0mypred\u001b[0m \u001b[1;33m=\u001b[0m \u001b[0mforecast\u001b[0m\u001b[1;33m.\u001b[0m\u001b[0mpredicted_mean\u001b[0m\u001b[1;33m\u001b[0m\u001b[1;33m\u001b[0m\u001b[0m\n\u001b[0;32m      4\u001b[0m \u001b[0mconf_int\u001b[0m \u001b[1;33m=\u001b[0m \u001b[0mforecast\u001b[0m\u001b[1;33m.\u001b[0m\u001b[0mconf_int\u001b[0m\u001b[1;33m(\u001b[0m\u001b[0malpha\u001b[0m\u001b[1;33m=\u001b[0m\u001b[1;36m0.05\u001b[0m\u001b[1;33m)\u001b[0m\u001b[1;33m\u001b[0m\u001b[1;33m\u001b[0m\u001b[0m\n",
      "\u001b[1;32m~\\anaconda3\\lib\\site-packages\\statsmodels\\tsa\\statespace\\mlemodel.py\u001b[0m in \u001b[0;36mget_forecast\u001b[1;34m(self, steps, signal_only, **kwargs)\u001b[0m\n\u001b[0;32m   3415\u001b[0m         \u001b[1;32melse\u001b[0m\u001b[1;33m:\u001b[0m\u001b[1;33m\u001b[0m\u001b[1;33m\u001b[0m\u001b[0m\n\u001b[0;32m   3416\u001b[0m             \u001b[0mend\u001b[0m \u001b[1;33m=\u001b[0m \u001b[0msteps\u001b[0m\u001b[1;33m\u001b[0m\u001b[1;33m\u001b[0m\u001b[0m\n\u001b[1;32m-> 3417\u001b[1;33m         return self.get_prediction(start=self.nobs, end=end,\n\u001b[0m\u001b[0;32m   3418\u001b[0m                                    signal_only=signal_only, **kwargs)\n\u001b[0;32m   3419\u001b[0m \u001b[1;33m\u001b[0m\u001b[0m\n",
      "\u001b[1;32m~\\anaconda3\\lib\\site-packages\\statsmodels\\tsa\\statespace\\mlemodel.py\u001b[0m in \u001b[0;36mget_prediction\u001b[1;34m(self, start, end, dynamic, information_set, signal_only, index, exog, extend_model, extend_kwargs, **kwargs)\u001b[0m\n\u001b[0;32m   3353\u001b[0m                             not self.filter_results.time_invariant)\n\u001b[0;32m   3354\u001b[0m         \u001b[1;32mif\u001b[0m \u001b[0mout_of_sample\u001b[0m \u001b[1;32mand\u001b[0m \u001b[0mextend_model\u001b[0m\u001b[1;33m:\u001b[0m\u001b[1;33m\u001b[0m\u001b[1;33m\u001b[0m\u001b[0m\n\u001b[1;32m-> 3355\u001b[1;33m             kwargs = self.model._get_extension_time_varying_matrices(\n\u001b[0m\u001b[0;32m   3356\u001b[0m                 \u001b[0mself\u001b[0m\u001b[1;33m.\u001b[0m\u001b[0mparams\u001b[0m\u001b[1;33m,\u001b[0m \u001b[0mexog\u001b[0m\u001b[1;33m,\u001b[0m \u001b[0mout_of_sample\u001b[0m\u001b[1;33m,\u001b[0m \u001b[0mextend_kwargs\u001b[0m\u001b[1;33m,\u001b[0m\u001b[1;33m\u001b[0m\u001b[1;33m\u001b[0m\u001b[0m\n\u001b[0;32m   3357\u001b[0m                 transformed=True, includes_fixed=True, **kwargs)\n",
      "\u001b[1;32m~\\anaconda3\\lib\\site-packages\\statsmodels\\tsa\\statespace\\sarimax.py\u001b[0m in \u001b[0;36m_get_extension_time_varying_matrices\u001b[1;34m(self, params, exog, out_of_sample, extend_kwargs, transformed, includes_fixed, **kwargs)\u001b[0m\n\u001b[0;32m   1716\u001b[0m \u001b[1;33m\u001b[0m\u001b[0m\n\u001b[0;32m   1717\u001b[0m         \u001b[1;31m# Get the appropriate exog for the extended sample\u001b[0m\u001b[1;33m\u001b[0m\u001b[1;33m\u001b[0m\u001b[0m\n\u001b[1;32m-> 1718\u001b[1;33m         \u001b[0mexog\u001b[0m \u001b[1;33m=\u001b[0m \u001b[0mself\u001b[0m\u001b[1;33m.\u001b[0m\u001b[0m_validate_out_of_sample_exog\u001b[0m\u001b[1;33m(\u001b[0m\u001b[0mexog\u001b[0m\u001b[1;33m,\u001b[0m \u001b[0mout_of_sample\u001b[0m\u001b[1;33m)\u001b[0m\u001b[1;33m\u001b[0m\u001b[1;33m\u001b[0m\u001b[0m\n\u001b[0m\u001b[0;32m   1719\u001b[0m \u001b[1;33m\u001b[0m\u001b[0m\n\u001b[0;32m   1720\u001b[0m         \u001b[1;31m# Get the tmp endog, exog\u001b[0m\u001b[1;33m\u001b[0m\u001b[1;33m\u001b[0m\u001b[0m\n",
      "\u001b[1;32m~\\anaconda3\\lib\\site-packages\\statsmodels\\tsa\\statespace\\mlemodel.py\u001b[0m in \u001b[0;36m_validate_out_of_sample_exog\u001b[1;34m(self, exog, out_of_sample)\u001b[0m\n\u001b[0;32m   1767\u001b[0m         \u001b[1;32mif\u001b[0m \u001b[0mout_of_sample\u001b[0m \u001b[1;32mand\u001b[0m \u001b[0mk_exog\u001b[0m \u001b[1;33m>\u001b[0m \u001b[1;36m0\u001b[0m\u001b[1;33m:\u001b[0m\u001b[1;33m\u001b[0m\u001b[1;33m\u001b[0m\u001b[0m\n\u001b[0;32m   1768\u001b[0m             \u001b[1;32mif\u001b[0m \u001b[0mexog\u001b[0m \u001b[1;32mis\u001b[0m \u001b[1;32mNone\u001b[0m\u001b[1;33m:\u001b[0m\u001b[1;33m\u001b[0m\u001b[1;33m\u001b[0m\u001b[0m\n\u001b[1;32m-> 1769\u001b[1;33m                 raise ValueError('Out-of-sample operations in a model'\n\u001b[0m\u001b[0;32m   1770\u001b[0m                                  \u001b[1;34m' with a regression component require'\u001b[0m\u001b[1;33m\u001b[0m\u001b[1;33m\u001b[0m\u001b[0m\n\u001b[0;32m   1771\u001b[0m                                  \u001b[1;34m' additional exogenous values via the'\u001b[0m\u001b[1;33m\u001b[0m\u001b[1;33m\u001b[0m\u001b[0m\n",
      "\u001b[1;31mValueError\u001b[0m: Out-of-sample operations in a model with a regression component require additional exogenous values via the `exog` argument."
     ]
    }
   ],
   "source": [
    "# Forecast\n",
    "forecast = model2.get_forecast(4)\n",
    "ypred = forecast.predicted_mean\n",
    "conf_int = forecast.conf_int(alpha=0.05)\n"
   ]
  },
  {
   "cell_type": "code",
   "execution_count": 57,
   "metadata": {
    "colab": {
     "base_uri": "https://localhost:8080/"
    },
    "id": "FLbLzP2Sk0dJ",
    "outputId": "cf108fd8-fbc8-418b-c146-13221371efb4"
   },
   "outputs": [
    {
     "data": {
      "text/plain": [
       "Date\n",
       "2022-02-01    169.99\n",
       "2022-03-01    183.48\n",
       "2022-04-01    170.25\n",
       "2022-05-01    176.76\n",
       "Name: TexasIns, dtype: float64"
      ]
     },
     "execution_count": 57,
     "metadata": {},
     "output_type": "execute_result"
    }
   ],
   "source": [
    "# we have the values\n",
    "data.TexasIns.iloc[25:]"
   ]
  },
  {
   "cell_type": "code",
   "execution_count": 58,
   "metadata": {
    "colab": {
     "base_uri": "https://localhost:8080/"
    },
    "id": "TuVprtclkTJX",
    "outputId": "15d9dda9-76b9-4425-84ae-87ffefa92850"
   },
   "outputs": [
    {
     "data": {
      "text/plain": [
       "array([169.99, 183.48, 170.25, 176.76])"
      ]
     },
     "execution_count": 58,
     "metadata": {},
     "output_type": "execute_result"
    }
   ],
   "source": [
    "ex = data.TexasIns.iloc[25:].values\n",
    "ex"
   ]
  },
  {
   "cell_type": "code",
   "execution_count": 59,
   "metadata": {
    "id": "JBTurbpap4jP"
   },
   "outputs": [],
   "source": [
    "# Forecast\n",
    "forecast = model2.get_forecast(4, exog=ex)\n",
    "ypred = forecast.predicted_mean\n",
    "conf_int = forecast.conf_int(alpha=0.05)"
   ]
  },
  {
   "cell_type": "code",
   "execution_count": 60,
   "metadata": {
    "colab": {
     "base_uri": "https://localhost:8080/",
     "height": 206
    },
    "id": "MGBRzrhgp4cR",
    "outputId": "07091123-e1eb-4006-ed36-ff571da3f3f9"
   },
   "outputs": [
    {
     "data": {
      "text/html": [
       "<div>\n",
       "<style scoped>\n",
       "    .dataframe tbody tr th:only-of-type {\n",
       "        vertical-align: middle;\n",
       "    }\n",
       "\n",
       "    .dataframe tbody tr th {\n",
       "        vertical-align: top;\n",
       "    }\n",
       "\n",
       "    .dataframe thead th {\n",
       "        text-align: right;\n",
       "    }\n",
       "</style>\n",
       "<table border=\"1\" class=\"dataframe\">\n",
       "  <thead>\n",
       "    <tr style=\"text-align: right;\">\n",
       "      <th></th>\n",
       "      <th>price_actual</th>\n",
       "      <th>lower_int</th>\n",
       "      <th>price_predicted</th>\n",
       "      <th>upper_int</th>\n",
       "    </tr>\n",
       "    <tr>\n",
       "      <th>Date</th>\n",
       "      <th></th>\n",
       "      <th></th>\n",
       "      <th></th>\n",
       "      <th></th>\n",
       "    </tr>\n",
       "  </thead>\n",
       "  <tbody>\n",
       "    <tr>\n",
       "      <th>2022-02-01</th>\n",
       "      <td>165.12</td>\n",
       "      <td>149.657264</td>\n",
       "      <td>168.389579</td>\n",
       "      <td>187.121893</td>\n",
       "    </tr>\n",
       "    <tr>\n",
       "      <th>2022-03-01</th>\n",
       "      <td>174.61</td>\n",
       "      <td>141.954936</td>\n",
       "      <td>171.644864</td>\n",
       "      <td>201.334792</td>\n",
       "    </tr>\n",
       "    <tr>\n",
       "      <th>2022-04-01</th>\n",
       "      <td>157.65</td>\n",
       "      <td>132.541913</td>\n",
       "      <td>168.082006</td>\n",
       "      <td>203.622099</td>\n",
       "    </tr>\n",
       "    <tr>\n",
       "      <th>2022-05-01</th>\n",
       "      <td>148.84</td>\n",
       "      <td>130.935966</td>\n",
       "      <td>170.533084</td>\n",
       "      <td>210.130201</td>\n",
       "    </tr>\n",
       "  </tbody>\n",
       "</table>\n",
       "</div>"
      ],
      "text/plain": [
       "           price_actual   lower_int price_predicted   upper_int\n",
       "Date                                                           \n",
       "2022-02-01       165.12  149.657264      168.389579  187.121893\n",
       "2022-03-01       174.61  141.954936      171.644864  201.334792\n",
       "2022-04-01       157.65  132.541913      168.082006  203.622099\n",
       "2022-05-01       148.84  130.935966      170.533084  210.130201"
      ]
     },
     "execution_count": 60,
     "metadata": {},
     "output_type": "execute_result"
    }
   ],
   "source": [
    "# creating a new Dataframe dp with the prediction values.\n",
    "Year = pd.Series(['2022-02-01', '2022-03-01', '2022-04-01','2022-05-01'])\n",
    "price_actual = pd.Series(data.Apple[25:].values)\n",
    "price_predicted = pd.Series(ypred.values) \n",
    "lower_int = pd.Series(conf_int['lower Apple'].values)\n",
    "upper_int = upper_series = pd.Series(conf_int['upper Apple'].values)\n",
    "\n",
    "\n",
    "dpx = pd.DataFrame([Date, price_actual, lower_int, price_predicted, upper_int], index =['Date','price_actual', 'lower_int','price_predicted','upper_int' ]).T\n",
    "dpx = dpx.set_index('Date')\n",
    "dpx.index = pd.to_datetime(dpx.index)\n",
    "dpx"
   ]
  },
  {
   "cell_type": "code",
   "execution_count": 61,
   "metadata": {
    "colab": {
     "base_uri": "https://localhost:8080/",
     "height": 315
    },
    "id": "RnhAKiAJp4Kn",
    "outputId": "dab383f7-30f6-40f9-f7e0-82670eb276d1"
   },
   "outputs": [
    {
     "data": {
      "image/png": "[encoded data removed]",
      "text/plain": [
       "<Figure size 560x320 with 1 Axes>"
      ]
     },
     "metadata": {},
     "output_type": "display_data"
    }
   ],
   "source": [
    "# Plot\n",
    "plt.plot(data.Apple)\n",
    "plt.plot(dpx.price_predicted, color='orange')\n",
    "plt.fill_between(dpx.index, \n",
    "                 lower_int, \n",
    "                 upper_int, \n",
    "                 color='k', alpha=.15)\n",
    "plt.title('Model Performance')\n",
    "plt.legend(['Actual','Prediction'], loc='lower right')\n",
    "plt.xlabel('Date')\n",
    "plt.xticks(rotation=30)\n",
    "plt.ylabel('Price (USD)')\n",
    "plt.show()"
   ]
  },
  {
   "cell_type": "code",
   "execution_count": 62,
   "metadata": {
    "colab": {
     "base_uri": "https://localhost:8080/"
    },
    "id": "GXnA6lO9xKe0",
    "outputId": "9d66e117-eef9-4806-c3d8-3bd1828d1fd6"
   },
   "outputs": [
    {
     "name": "stdout",
     "output_type": "stream",
     "text": [
      "SARIMAX MAE =  9.589951049878266\n"
     ]
    }
   ],
   "source": [
    "# import evaluation matrices\n",
    "from sklearn.metrics import mean_absolute_error\n",
    "\n",
    "# Evaluate the model\n",
    "print('SARIMAX MAE = ', mean_absolute_error(dpx.price_actual, dpx.price_predicted))"
   ]
  },
  {
   "cell_type": "markdown",
   "metadata": {
    "id": "_vEWEp6RyxP5"
   },
   "source": [
    "  "
   ]
  },
  {
   "cell_type": "markdown",
   "metadata": {
    "id": "9qLCJZQqV2yy"
   },
   "source": [
    "References:<br>\n",
    "* https://www.machinelearningplus.com/time-series/time-series-analysis-python/<br>\n",
    "* https://www.machinelearningplus.com/time-series/arima-model-time-series-forecasting-python/\n"
   ]
  }
 ],
 "metadata": {
  "colab": {
   "collapsed_sections": [
    "uek2dBkRXwLM",
    "V36FfX8PfPlY",
    "4aqogGMRV2ye",
    "1upntVuMe1Pn",
    "Zxw8cH3GV2yi",
    "UjhgfYfEV2yk",
    "GM7yOOApiQBh",
    "wdmNfR6b9FFp",
    "AQtgfIYdg15i",
    "H1JpJcG6p69y"
   ],
   "name": "stock_price_forecast.ipynb",
   "provenance": []
  },
  "kernelspec": {
   "display_name": "Python 3 (ipykernel)",
   "language": "python",
   "name": "python3"
  },
  "language_info": {
   "codemirror_mode": {
    "name": "ipython",
    "version": 3
   },
   "file_extension": ".py",
   "mimetype": "text/x-python",
   "name": "python",
   "nbconvert_exporter": "python",
   "pygments_lexer": "ipython3",
   "version": "3.9.13"
  }
 },
 "nbformat": 4,
 "nbformat_minor": 1
}
